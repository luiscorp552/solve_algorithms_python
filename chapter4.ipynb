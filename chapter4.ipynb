{
  "cells": [
    {
      "cell_type": "code",
      "execution_count": null,
      "id": "10b5eaae",
      "metadata": {
        "id": "10b5eaae"
      },
      "outputs": [],
      "source": []
    },
    {
      "cell_type": "markdown",
      "id": "e6391d4a",
      "metadata": {
        "id": "e6391d4a"
      },
      "source": [
        "# Chapter 4. Vectors and functional matrices"
      ]
    },
    {
      "cell_type": "markdown",
      "id": "29bb4b8b",
      "metadata": {
        "id": "29bb4b8b"
      },
      "source": [
        "## Content\n",
        "<a id=\"index\">Content:</a>\n",
        "1. [Exercise 1](#a)\n",
        "2. [Exercise 2](#b)\n",
        "3. [Exercise 3](#c)\n",
        "4. [Exercise 4](#d)\n",
        "5. [Exercise 5](#e)\n",
        "6. [Exercise 6](#f)\n",
        "7. [Exercise 7](#g)\n",
        "8. [Exercise 8](#h)\n",
        "9. [Exercise 9](#i)\n",
        "10. [Exercise 10](#j)\n",
        "11. [Exercise 11](#k)\n",
        "12. [Exercise 12](#l)\n",
        "13. [Exercise 13](#m)\n",
        "14. [Exercise 14](#n)\n",
        "15. [Exercise 15](#o)\n",
        "16. [Exercise 16](#p)\n",
        "17. [Exercise 17](#q)\n",
        "18. [Exercise 18](#r)\n",
        "19. [Exercise 19](#s)\n",
        "20. [Exercise 20](#t)\n"
      ]
    },
    {
      "cell_type": "markdown",
      "id": "be5f58f1",
      "metadata": {
        "id": "be5f58f1"
      },
      "source": [
        "<a id=\"a\"></a>\n",
        "[Index](#index)\n",
        "### Exercise 1\n",
        "\n",
        "Write an algorithm that, when entering N integer elements on the keyboard, adds them to a vector called alpha."
      ]
    },
    {
      "cell_type": "code",
      "execution_count": null,
      "id": "895a2814",
      "metadata": {
        "id": "895a2814",
        "colab": {
          "base_uri": "https://localhost:8080/"
        },
        "outputId": "7d5a21d0-6485-414e-9e10-bca7d656c599"
      },
      "outputs": [
        {
          "output_type": "stream",
          "name": "stdout",
          "text": [
            "-------------------------------------------------------\n",
            "Exercise 1: Vector Creator\n",
            "-------------------------------------------------------\n",
            "Enter the number of elements: 4\n",
            "Enter an integer: 1\n",
            "Enter an integer: 23\n",
            "Enter an integer: 12\n",
            "Enter an integer: 4\n",
            "[1, 23, 12, 4]\n"
          ]
        }
      ],
      "source": [
        "print(\"-------------------------------------------------------\")\n",
        "print(\"Exercise 1: Vector Creator\")\n",
        "print(\"-------------------------------------------------------\")\n",
        "\n",
        "def create_vector(n):\n",
        "  alpha = []\n",
        "  for i in range(n):\n",
        "    element = int(input(\"Enter an integer: \"))\n",
        "    alpha.append(element)\n",
        "  return alpha\n",
        "\n",
        "n = int(input(\"Enter the number of elements: \"))\n",
        "result_vector = create_vector(n)\n",
        "print(result_vector)\n"
      ]
    },
    {
      "cell_type": "markdown",
      "id": "5b136076",
      "metadata": {
        "id": "5b136076"
      },
      "source": [
        "<a id=\"b\"></a>\n",
        "[Index](#index)\n",
        "### Exercise 2\n",
        "\n",
        "Write an algorithm that asks the user to enter a given number of temperatures, which are added to a list. Then, calculates the arithmetic mean of these temperatures and counts how many and which of them are equal to or greater than the calculated mean."
      ]
    },
    {
      "cell_type": "code",
      "execution_count": null,
      "id": "63a9746b",
      "metadata": {
        "id": "63a9746b",
        "colab": {
          "base_uri": "https://localhost:8080/"
        },
        "outputId": "24de95c0-1d39-4019-a68c-c662a68b2e05"
      },
      "outputs": [
        {
          "output_type": "stream",
          "name": "stdout",
          "text": [
            "-------------------------------------------------------\n",
            "Exercise 2: Temperature Analysis\n",
            "-------------------------------------------------------\n",
            "Enter the number of temperatures: 5\n",
            "Enter temperature 1: 25\n",
            "Enter temperature 2: 36\n",
            "Enter temperature 3: 42\n",
            "Enter temperature 4: 23\n",
            "Enter temperature 5: 16\n",
            "Mean temperature: 28.4\n",
            "Number of temperatures equal to or greater than the mean: 2\n",
            "Temperatures equal to or greater than the mean: [36.0, 42.0]\n"
          ]
        }
      ],
      "source": [
        "print(\"-------------------------------------------------------\")\n",
        "print(\"Exercise 2: Temperature Analysis\")\n",
        "print(\"-------------------------------------------------------\")\n",
        "\n",
        "def analyze_temperatures():\n",
        "  num_temps = int(input(\"Enter the number of temperatures: \"))\n",
        "  temperatures = []\n",
        "  for i in range(num_temps):\n",
        "    temp = float(input(\"Enter temperature {}: \".format(i + 1)))\n",
        "    temperatures.append(temp)\n",
        "\n",
        "  mean_temp = sum(temperatures) / num_temps\n",
        "  print(\"Mean temperature:\", mean_temp)\n",
        "\n",
        "  count_above_mean = 0\n",
        "  above_mean_temps = []\n",
        "  for temp in temperatures:\n",
        "    if temp >= mean_temp:\n",
        "      count_above_mean += 1\n",
        "      above_mean_temps.append(temp)\n",
        "\n",
        "  print(\"Number of temperatures equal to or greater than the mean:\", count_above_mean)\n",
        "  print(\"Temperatures equal to or greater than the mean:\", above_mean_temps)\n",
        "\n",
        "analyze_temperatures()\n"
      ]
    },
    {
      "cell_type": "markdown",
      "id": "cf1b2b10",
      "metadata": {
        "id": "cf1b2b10"
      },
      "source": [
        "<a id=\"c\"></a>\n",
        "[Index](#index)\n",
        "### Exercise 3\n",
        "\n",
        "Write a flowchart that, given a sorted vector of integers and with possible repetitions of values, obtains as output a list of sorted numbers, but without repetitions."
      ]
    },
    {
      "cell_type": "code",
      "execution_count": null,
      "id": "1738fb26",
      "metadata": {
        "id": "1738fb26",
        "colab": {
          "base_uri": "https://localhost:8080/"
        },
        "outputId": "38ba7b0f-4db4-4596-a44d-e7ffcb72cde2"
      },
      "outputs": [
        {
          "output_type": "stream",
          "name": "stdout",
          "text": [
            "Enter the number of elements: 20\n",
            "[20, 12, 146, 72, 65, 55, 85, 196, 6, 82, 149, 18, 13, 188, 135, 89, 140, 77, 76, 78]\n"
          ]
        }
      ],
      "source": [
        "import random\n",
        "\n",
        "def generate_list_with_repetitions(num_elements):\n",
        "  result_list = []\n",
        "  for _ in range(num_elements):\n",
        "    result_list.append(random.randint(1, 200))  # Adjust the range as needed\n",
        "  return result_list\n",
        "\n",
        "num_elements = int(input(\"Enter the number of elements: \"))\n",
        "generated_list = generate_list_with_repetitions(num_elements)\n",
        "print(generated_list)\n"
      ]
    },
    {
      "cell_type": "code",
      "source": [
        "# prompt: Write a algorithm that, given a vector of integers and with possible repetitions of values, obtains as output a list of the ordered numbers, but without repetitions.\n",
        "\n",
        "def remove_repetitions(input_list):\n",
        "  result_list = []\n",
        "  for element in input_list:\n",
        "    if element not in result_list:\n",
        "      result_list.append(element)\n",
        "  result_list.sort()  # Sort the resulting list\n",
        "  return result_list\n",
        "\n",
        "result_without_repetitions = remove_repetitions(generated_list)\n",
        "print(result_without_repetitions)\n"
      ],
      "metadata": {
        "colab": {
          "base_uri": "https://localhost:8080/"
        },
        "id": "LW-cIC0sCvQs",
        "outputId": "87383b3d-459b-4260-8301-7b68ab8f16ee"
      },
      "id": "LW-cIC0sCvQs",
      "execution_count": null,
      "outputs": [
        {
          "output_type": "stream",
          "name": "stdout",
          "text": [
            "[6, 12, 13, 18, 20, 55, 65, 72, 76, 77, 78, 82, 85, 89, 135, 140, 146, 149, 188, 196]\n"
          ]
        }
      ]
    },
    {
      "cell_type": "markdown",
      "id": "35a4d5ae",
      "metadata": {
        "id": "35a4d5ae"
      },
      "source": [
        "<a id=\"d\"></a>\n",
        "[Index](#index)\n",
        "### Exercise 4\n",
        "\n",
        "Write the pseudocode to add 2 matrices. Let A and B be 2-dimensional matrices, so that they can be added they must have the same number of rows and columns, each element of the resulting matrix will be the sum of the corresponding elements of matrices A and B."
      ]
    },
    {
      "cell_type": "code",
      "source": [
        "import random\n",
        "\n",
        "def generate_matrix(rows, cols):\n",
        "  matrix = []\n",
        "  for i in range(rows):\n",
        "    row = []\n",
        "    for j in range(cols):\n",
        "      row.append(random.randint(1, 100))  # Adjust the range as needed\n",
        "    matrix.append(row)\n",
        "  return matrix\n",
        "\n",
        "rows = int(input(\"Enter the number of rows: \"))\n",
        "cols = int(input(\"Enter the number of columns: \"))\n",
        "\n",
        "matrix1 = generate_matrix(rows, cols)\n",
        "matrix2 = generate_matrix(rows, cols)\n",
        "\n",
        "print(\"Matrix 1:\")\n",
        "for row in matrix1:\n",
        "  print(row)\n",
        "\n",
        "print(\"\\nMatrix 2:\")\n",
        "for row in matrix2:\n",
        "  print(row)"
      ],
      "metadata": {
        "colab": {
          "base_uri": "https://localhost:8080/"
        },
        "id": "gsIc-TinIP4b",
        "outputId": "7b501f4f-2440-42f3-a7c7-2f09bffd1f2f"
      },
      "id": "gsIc-TinIP4b",
      "execution_count": null,
      "outputs": [
        {
          "output_type": "stream",
          "name": "stdout",
          "text": [
            "Enter the number of rows: 4\n",
            "Enter the number of columns: 4\n",
            "Matrix 1:\n",
            "[24, 88, 3, 71]\n",
            "[18, 73, 30, 5]\n",
            "[66, 30, 39, 77]\n",
            "[69, 66, 14, 79]\n",
            "\n",
            "Matrix 2:\n",
            "[43, 24, 93, 96]\n",
            "[52, 55, 59, 66]\n",
            "[100, 48, 1, 63]\n",
            "[93, 24, 100, 45]\n"
          ]
        }
      ]
    },
    {
      "cell_type": "code",
      "source": [
        "def add_matrices(A, B):\n",
        "  if len(A) != len(B) or len(A[0]) != len(B[0]):\n",
        "    return \"Matrices must have the same dimensions for addition.\"\n",
        "\n",
        "  result = []\n",
        "  for i in range(len(A)):\n",
        "    row = []\n",
        "    for j in range(len(A[0])):\n",
        "      row.append(A[i][j] + B[i][j])\n",
        "    result.append(row)\n",
        "\n",
        "  return result\n",
        "\n",
        "# Example usage:\n",
        "matrix_A = matrix1\n",
        "matrix_B = matrix2\n",
        "\n",
        "result_matrix = add_matrices(matrix_A, matrix_B)\n",
        "\n",
        "print(\"Matrix A:\")\n",
        "for row in matrix_A:\n",
        "  print(row)\n",
        "\n",
        "print(\"\\nMatrix B:\")\n",
        "for row in matrix_B:\n",
        "  print(row)\n",
        "\n",
        "print(\"\\nMatrix Result:\")\n",
        "for row in result_matrix:\n",
        "  print(row)\n",
        "\n",
        "# print(result_matrix)"
      ],
      "metadata": {
        "colab": {
          "base_uri": "https://localhost:8080/"
        },
        "id": "NcmFH_1LIc26",
        "outputId": "d1d56bb0-98e8-4553-9676-0f0e4e2cb73f"
      },
      "id": "NcmFH_1LIc26",
      "execution_count": null,
      "outputs": [
        {
          "output_type": "stream",
          "name": "stdout",
          "text": [
            "Matrix A:\n",
            "[24, 88, 3, 71]\n",
            "[18, 73, 30, 5]\n",
            "[66, 30, 39, 77]\n",
            "[69, 66, 14, 79]\n",
            "\n",
            "Matrix B:\n",
            "[43, 24, 93, 96]\n",
            "[52, 55, 59, 66]\n",
            "[100, 48, 1, 63]\n",
            "[93, 24, 100, 45]\n",
            "\n",
            "Matrix Result:\n",
            "[67, 112, 96, 167]\n",
            "[70, 128, 89, 71]\n",
            "[166, 78, 40, 140]\n",
            "[162, 90, 114, 124]\n"
          ]
        }
      ]
    },
    {
      "cell_type": "markdown",
      "id": "f9a53c9e",
      "metadata": {
        "id": "f9a53c9e"
      },
      "source": [
        "<a id=\"e\"></a>\n",
        "[Index](#index)\n",
        "### Exercise 5\n",
        "\n",
        "Given a square matrix A, construct a code that allows determining whether the matrix is ​​symmetric. A matrix is ​​considered symmetric if A(i , j) = A(j , i) and this is true for all elements i , j of the matrix."
      ]
    },
    {
      "cell_type": "code",
      "source": [
        "import random\n",
        "\n",
        "def generate_symmetric_matrix(n):\n",
        "  matrix = [[0] * n for _ in range(n)]\n",
        "  for i in range(n):\n",
        "    for j in range(i, n):\n",
        "      value = random.randint(1, 100)\n",
        "      matrix[i][j] = value\n",
        "      matrix[j][i] = value\n",
        "  return matrix\n",
        "\n",
        "def generate_random_matrix(n):\n",
        "  matrix = [[random.randint(1, 100) for _ in range(n)] for _ in range(n)]\n",
        "  return matrix\n",
        "\n",
        "n = int(input(\"Enter the dimension of the matrices: \"))\n",
        "\n",
        "symmetric_matrix = generate_symmetric_matrix(n)\n",
        "random_matrix = generate_random_matrix(n)\n",
        "\n",
        "print(\"Symmetric Matrix:\")\n",
        "for row in symmetric_matrix:\n",
        "  print(row)\n",
        "\n",
        "print(\"\\nRandom Matrix:\")\n",
        "for row in random_matrix:\n",
        "  print(row)\n"
      ],
      "metadata": {
        "colab": {
          "base_uri": "https://localhost:8080/"
        },
        "id": "ecJnliANOwqe",
        "outputId": "addacfa9-2193-4b6c-d41e-3b28513f3b07"
      },
      "id": "ecJnliANOwqe",
      "execution_count": null,
      "outputs": [
        {
          "output_type": "stream",
          "name": "stdout",
          "text": [
            "Enter the dimension of the matrices: 8\n",
            "Symmetric Matrix:\n",
            "[99, 2, 93, 87, 94, 46, 60, 61]\n",
            "[2, 85, 30, 83, 90, 40, 15, 26]\n",
            "[93, 30, 97, 76, 82, 56, 52, 65]\n",
            "[87, 83, 76, 24, 54, 54, 83, 43]\n",
            "[94, 90, 82, 54, 75, 37, 61, 75]\n",
            "[46, 40, 56, 54, 37, 61, 82, 38]\n",
            "[60, 15, 52, 83, 61, 82, 45, 86]\n",
            "[61, 26, 65, 43, 75, 38, 86, 90]\n",
            "\n",
            "Random Matrix:\n",
            "[55, 52, 90, 83, 67, 91, 55, 55]\n",
            "[84, 12, 86, 26, 98, 89, 72, 76]\n",
            "[81, 9, 12, 8, 35, 59, 44, 10]\n",
            "[15, 75, 35, 6, 20, 70, 49, 53]\n",
            "[83, 1, 69, 33, 47, 7, 51, 1]\n",
            "[4, 85, 12, 75, 53, 98, 51, 15]\n",
            "[28, 94, 13, 1, 92, 88, 70, 84]\n",
            "[94, 78, 85, 38, 31, 93, 21, 28]\n"
          ]
        }
      ]
    },
    {
      "cell_type": "code",
      "execution_count": null,
      "id": "3760fc88",
      "metadata": {
        "id": "3760fc88",
        "colab": {
          "base_uri": "https://localhost:8080/"
        },
        "outputId": "31e1af6c-0939-4747-a0b1-978047b08460"
      },
      "outputs": [
        {
          "output_type": "stream",
          "name": "stdout",
          "text": [
            "The matrix is symmetric.\n",
            "The matrix is not symmetric.\n"
          ]
        }
      ],
      "source": [
        "def is_symmetric(matrix):\n",
        "  rows = len(matrix)\n",
        "  cols = len(matrix[0])\n",
        "\n",
        "  if rows != cols:\n",
        "    return False  # Not a square matrix\n",
        "\n",
        "  for i in range(rows):\n",
        "    for j in range(i + 1, cols):  # Iterate only over upper triangle\n",
        "      if matrix[i][j] != matrix[j][i]:\n",
        "        return False  # Not symmetric\n",
        "\n",
        "  return True  # Symmetric\n",
        "\n",
        "matrix_S = symmetric_matrix\n",
        "matrix_R = random_matrix\n",
        "\n",
        "if is_symmetric(matrix_S):\n",
        "  print(\"The matrix is symmetric.\")\n",
        "else:\n",
        "  print(\"The matrix is not symmetric.\")\n",
        "\n",
        "if is_symmetric(matrix_R):\n",
        "  print(\"The matrix is symmetric.\")\n",
        "else:\n",
        "  print(\"The matrix is not symmetric.\")\n"
      ]
    },
    {
      "cell_type": "markdown",
      "id": "c1eb2f12",
      "metadata": {
        "id": "c1eb2f12"
      },
      "source": [
        "<a id=\"f\"></a>\n",
        "[Index](#index)\n",
        "### Exercise 6\n",
        "\n",
        "Write an algorithm that analyzes the sales of multiple branches of a company over several years and determines which branch had the highest total sales and the year with the highest average sales.\n",
        "\n",
        "Specific Statements\n",
        "1. Implement an algorithm to calculate and display the total sales of each branch of a company, given a matrix of sales by branch and year.\n",
        "\n",
        "2. Develop a program that identifies the branch with the highest cumulative sales from the annual sales data for each branch.\n",
        "\n",
        "3. Create a function that calculates the average annual sales of a company with multiple branches and determines the year with the highest average.\n",
        "\n",
        "4. Write Python code that processes a matrix of sales data and generates a report with the branch with the highest sales and the year with the highest average sales."
      ]
    },
    {
      "cell_type": "code",
      "execution_count": null,
      "id": "a9e53e51",
      "metadata": {
        "id": "a9e53e51",
        "colab": {
          "base_uri": "https://localhost:8080/"
        },
        "outputId": "d73027ce-123a-45fd-9443-36402a1e5def"
      },
      "outputs": [
        {
          "output_type": "stream",
          "name": "stdout",
          "text": [
            "-------------------------------------------------------\n",
            "Matrix3: BRANCHES OF A COMPANY.\n",
            "-------------------------------------------------------\n",
            "Enter number of branches and years: \n",
            "Number of Branches: 2\n",
            "Number of Years: 3\n",
            "Enter branch sales 1 in year 1\n",
            "300\n",
            "Enter branch sales 2 in year 1\n",
            "400\n",
            "Enter branch sales 1 in year 2\n",
            "250\n",
            "Enter branch sales 2 in year 2\n",
            "350\n",
            "Enter branch sales 1 in year 3\n",
            "350\n",
            "Enter branch sales 2 in year 3\n",
            "500\n",
            "\n",
            "BRANCH WITH THE MOST SALES: \n",
            "-------------------------------------------------------\n",
            "Branch sales number 1 es 900\n",
            "Branch sales number 2 es 1250\n",
            "Branch that sold the most:  2\n",
            "\n",
            "AVERAGE SALES FOR THE YEAR: \n",
            "-------------------------------------------------------\n",
            "Average sales for the year 1 es 350.0\n",
            "Average sales for the year 2 es 300.0\n",
            "Average sales for the year 3 es 425.0\n",
            "Year with the highest average 3\n"
          ]
        }
      ],
      "source": [
        "#Decoration: Name of the Algorithm\n",
        "print(\"-------------------------------------------------------\")\n",
        "print(\"Matrix3: BRANCHES OF A COMPANY.\")\n",
        "print(\"-------------------------------------------------------\")\n",
        "\n",
        "#Initialize\n",
        "\n",
        "AMOUNT = [] #An empty list is created\n",
        "\n",
        "#Inputs\n",
        "\n",
        "print(\"Enter number of branches and years: \")\n",
        "N = int( input(\"Number of Branches: \"))\n",
        "M = int( input(\"Number of Years: \"))\n",
        "\n",
        "for i in range(M):\n",
        "  AMOUNT.append( [] ) #Row i is added\n",
        "\n",
        "  for j in range(N):\n",
        "    print(\"Enter branch sales\", j+1 , \"in year\", i+1 )\n",
        "    sale = int( input())\n",
        "    AMOUNT[i].append(sale)\n",
        "\n",
        "\n",
        "#Process\n",
        "print(\"\\nBRANCH WITH THE MOST SALES: \")\n",
        "print(\"-------------------------------------------------------\")\n",
        "MAX = 0\n",
        "for j in range(N):\n",
        "  SUM = 0\n",
        "  for i in range(M):\n",
        "    SUM = SUM + AMOUNT[i][j]\n",
        "\n",
        "  print (\"Branch sales number\", j+1, \"es\", SUM)\n",
        "  if SUM > MAX :\n",
        "    MAX = SUM\n",
        "    SUC = j + 1 #j is incremented by counting from 0\n",
        "\n",
        "print(\"Branch that sold the most: \", SUC)\n",
        "\n",
        "print(\"\\nAVERAGE SALES FOR THE YEAR: \")\n",
        "print(\"-------------------------------------------------------\")\n",
        "MAX = 0\n",
        "for i in range(M):\n",
        "  SUM = 0\n",
        "\n",
        "  for j in range(N):\n",
        "    SUM = SUM + AMOUNT[i][j]\n",
        "  AVG = SUM/N\n",
        "  print(\"Average sales for the year\" , i+1, \"es\", AVG)\n",
        "\n",
        "  if AVG > MAX :\n",
        "    MAX = AVG\n",
        "    YEAR = i + 1 #i is incremented by counting from 0\n",
        "\n",
        "print(\"Year with the highest average\", YEAR)\n"
      ]
    },
    {
      "cell_type": "markdown",
      "id": "6eb68ab5",
      "metadata": {
        "id": "6eb68ab5"
      },
      "source": [
        "<a id=\"g\"></a>\n",
        "[Index](#index)\n",
        "### Exercise 7\n",
        "\n",
        "Write an algorithm that calculates the scalar and vector product of two 3-element vectors whose values ​​are entered on the screen."
      ]
    },
    {
      "cell_type": "code",
      "source": [
        "print(\"-------------------------------------------------------\")\n",
        "print(\"Exercise 7.1: Scalar and Vector Product of Vectors\")\n",
        "print(\"-------------------------------------------------------\")\n",
        "\n",
        "# Definition\n",
        "def calculate_products():\n",
        "  vector1 = []\n",
        "  vector2 = []\n",
        "\n",
        "  print(\"Enter the elements of the first vector:\")\n",
        "  for i in range(3):\n",
        "    element = int(input(\"Enter element {}: \".format(i + 1)))\n",
        "    vector1.append(element)\n",
        "\n",
        "  print(\"Enter the elements of the second vector:\")\n",
        "  for i in range(3):\n",
        "    element = int(input(\"Enter element {}: \".format(i + 1)))\n",
        "    vector2.append(element)\n",
        "\n",
        "  # Scalar product\n",
        "  scalar_product = 0\n",
        "  for i in range(3):\n",
        "    scalar_product += vector1[i] * vector2[i]\n",
        "  print(\"Scalar product:\", scalar_product)\n",
        "\n",
        "  # Vector product (cross product)\n",
        "  vector_product = [\n",
        "      vector1[1] * vector2[2] - vector1[2] * vector2[1],\n",
        "      vector1[2] * vector2[0] - vector1[0] * vector2[2],\n",
        "      vector1[0] * vector2[1] - vector1[1] * vector2[0]\n",
        "  ]\n",
        "  print(\"Vector product:\", vector_product)\n",
        "\n",
        "calculate_products()"
      ],
      "metadata": {
        "colab": {
          "base_uri": "https://localhost:8080/"
        },
        "id": "BdPfOiQIZBTH",
        "outputId": "4f8b906d-2bcb-42d2-9793-757328751c01"
      },
      "id": "BdPfOiQIZBTH",
      "execution_count": null,
      "outputs": [
        {
          "output_type": "stream",
          "name": "stdout",
          "text": [
            "-------------------------------------------------------\n",
            "Exercise 7.1: Scalar and Vector Product of Vectors\n",
            "-------------------------------------------------------\n",
            "Enter the elements of the first vector:\n",
            "Enter element 1: 1\n",
            "Enter element 2: 2\n",
            "Enter element 3: 3\n",
            "Enter the elements of the second vector:\n",
            "Enter element 1: 4\n",
            "Enter element 2: 5\n",
            "Enter element 3: 6\n",
            "Scalar product: 32\n",
            "Vector product: [-3, 6, -3]\n"
          ]
        }
      ]
    },
    {
      "cell_type": "code",
      "source": [
        "#Decoration: Name of the Algorithm\n",
        "print(\"-------------------------------------------------------\")\n",
        "print(\"Exercise 7.2: Scalar and Vector Product of Vectors\")\n",
        "print(\"-------------------------------------------------------\")\n",
        "\n",
        "\n",
        "#Initialize\n",
        "#To initialize vectors you can use:\n",
        "#The vector ready operation\n",
        "#N*[ST] or [ST]*N,\n",
        "#N: It is a scalar\n",
        "#ST: It must represent a default value\n",
        "\n",
        "V1 = 3*[0] #The following vector is created: [0, 0, 0]\n",
        "V2 = [0]*3 #Identical to the previous: [0, 0, 0]\n",
        "\n",
        "#Inputs\n",
        "for i in range(3):\n",
        "  V1[i] = int( input(\"V1({}): \".format(i+1)))\n",
        "\n",
        "for i in range(3):\n",
        "  V2[i] = int( input(\"V2({}): \".format(i+1)))\n",
        "\n",
        "#Process\n",
        "\n",
        "# Scalar product\n",
        "sum = 0\n",
        "for i in range(3):\n",
        "  P = V1[i]*V2[i]\n",
        "  sum = sum + P\n",
        "print(\"The Scalar product is:\", sum)\n",
        "\n",
        "# Vector product\n",
        "x = V1[1]* V2[2] - V1[2]* V2[1]\n",
        "y = -( V1[0]* V2[2] - V1[2]* V2[0] )\n",
        "z = V1[0]* V2[1] - V1[1]* V2[0]\n",
        "print(\"The vector product is: {}i {}j {}k\".format(x, y, z))"
      ],
      "metadata": {
        "colab": {
          "base_uri": "https://localhost:8080/"
        },
        "id": "DUdz7_kAUbj_",
        "outputId": "6e61fa8a-4a61-4d3c-b4d6-fbaec2b3befc"
      },
      "id": "DUdz7_kAUbj_",
      "execution_count": null,
      "outputs": [
        {
          "output_type": "stream",
          "name": "stdout",
          "text": [
            "-------------------------------------------------------\n",
            "Exercise 7.2: Scalar and Vector Product of Vectors\n",
            "-------------------------------------------------------\n",
            "V1(1): 1\n",
            "V1(2): 2\n",
            "V1(3): 3\n",
            "V2(1): 4\n",
            "V2(2): 5\n",
            "V2(3): 6\n",
            "The Scalar product is: 32\n",
            "The vector product is: -3i 6j -3k\n"
          ]
        }
      ]
    },
    {
      "cell_type": "markdown",
      "id": "0390aacc",
      "metadata": {
        "id": "0390aacc"
      },
      "source": [
        "<a id=\"h\"></a>\n",
        "[Index](#index)\n",
        "### Exercise 8\n",
        "\n",
        "Write an algorithm that requests a character vector on the screen and reverses the order of the characters by displaying it on the screen. The reversal will be done without using another auxiliary vector."
      ]
    },
    {
      "cell_type": "code",
      "execution_count": null,
      "id": "2acf814e",
      "metadata": {
        "id": "2acf814e",
        "colab": {
          "base_uri": "https://localhost:8080/"
        },
        "outputId": "33491cb7-33e4-4b70-8c2c-bb05d3b3893f"
      },
      "outputs": [
        {
          "output_type": "stream",
          "name": "stdout",
          "text": [
            "-------------------------------------------------------\n",
            "Exercise 8: Reverse a Character Vector\n",
            "-------------------------------------------------------\n",
            "Enter vector dimension: 4\n",
            "Enter Character: r\n",
            "Enter Character: o\n",
            "Enter Character: m\n",
            "Enter Character: a\n",
            "a\n",
            "m\n",
            "o\n",
            "r\n"
          ]
        }
      ],
      "source": [
        "print(\"-------------------------------------------------------\")\n",
        "print(\"Exercise 8: Reverse a Character Vector\")\n",
        "print(\"-------------------------------------------------------\")\n",
        "\n",
        "def reverse_vector():\n",
        "\n",
        "  n = int( input(\"Enter vector dimension: \"))\n",
        "  v = n*[''] #A vector is initialized with default values\n",
        "  for i in range(n):\n",
        "    v[i] = input(\"Enter Character: \")\n",
        "\n",
        "  z = ''\n",
        "  d = n\n",
        "\n",
        "  for i in range(n//2):\n",
        "    z = v[i]\n",
        "    v[i] = v[d-1]\n",
        "    v[d-1] = z\n",
        "    d = d - 1\n",
        "\n",
        "  #Output\n",
        "  for i in range(n):\n",
        "    print(v[i])\n",
        "\n",
        "\n",
        "reverse_vector()"
      ]
    },
    {
      "cell_type": "markdown",
      "id": "755626ca",
      "metadata": {
        "id": "755626ca"
      },
      "source": [
        "<a id=\"i\"></a>\n",
        "[Index](#index)\n",
        "### Exercise 9\n",
        "\n",
        "Implementation of the Sieve of Eratosthenes to find all prime numbers between 1 and 100.\"\n",
        "\n",
        "Code and Statement Explanation:\n",
        "\n",
        "* Sieve of Eratosthenes: This is an old and efficient algorithm to find all prime numbers less than a given number.\n",
        "\n",
        "* How it works:\n",
        "1. A list B of 100 elements is created, initially all True, representing the numbers from 1 to 100.\n",
        "2. B[0] is initialized as False since 1 is not prime.\n",
        "3. Iterate from 2:\n",
        "  * If B[i] is True, it means that i is prime.\n",
        "  * All multiples of i greater than i are marked as composite (by changing B[j] to False).\n",
        "4. At the end, the indices of B that are still True correspond to prime numbers"
      ]
    },
    {
      "cell_type": "code",
      "source": [
        "print(\"-------------------------------------------------------\")\n",
        "print(\"Exercise 9: Sieve of Eratosthenes.\")\n",
        "print(\"-------------------------------------------------------\")\n",
        "\n",
        "#Initialize\n",
        "#Fill B with True, assuming they are all prime\n",
        "B = 100*[True]\n",
        "N = []\n",
        "\n",
        "#Fill N with elements from 1 to 100\n",
        "for i in range(1, 100+1):\n",
        "  N.append(i)\n",
        "\n",
        "#Process\n",
        "#since 1 is not prime, and is located in position 0\n",
        "B[0] = False\n",
        "for i in range(1, 99):\n",
        "  for j in range(i+1, 100):\n",
        "    if N[j] % N[i] == 0:\n",
        "      B[j] = False\n",
        "\n",
        "for i in range(100):\n",
        "  #If the value of B[i] = 1\n",
        "  if B[i]:\n",
        "    print(N[i])\n"
      ],
      "metadata": {
        "colab": {
          "base_uri": "https://localhost:8080/"
        },
        "id": "yoru48n22te5",
        "outputId": "5df8eaf6-7b5c-4d01-d24d-f82c04b9b692"
      },
      "id": "yoru48n22te5",
      "execution_count": null,
      "outputs": [
        {
          "output_type": "stream",
          "name": "stdout",
          "text": [
            "-------------------------------------------------------\n",
            "Exercise 9: Sieve of Eratosthenes.\n",
            "-------------------------------------------------------\n",
            "2\n",
            "3\n",
            "5\n",
            "7\n",
            "11\n",
            "13\n",
            "17\n",
            "19\n",
            "23\n",
            "29\n",
            "31\n",
            "37\n",
            "41\n",
            "43\n",
            "47\n",
            "53\n",
            "59\n",
            "61\n",
            "67\n",
            "71\n",
            "73\n",
            "79\n",
            "83\n",
            "89\n",
            "97\n"
          ]
        }
      ]
    },
    {
      "cell_type": "markdown",
      "id": "238fd02a",
      "metadata": {
        "id": "238fd02a"
      },
      "source": [
        "<a id=\"j\"></a>\n",
        "[Index](#index)\n",
        "### Exercise 10\n",
        "\n",
        "Create an algorithm that handles a vector of integers through a menu with six options:\n",
        "\n",
        "1.- Add an element to the vector (checking that the vector is not full)\n",
        "\n",
        "2.- Delete an element from the vector (checking that the vector is not empty)\n",
        "\n",
        "3.- List the contents of the vector\n",
        "\n",
        "4.- Count the occurrences of a number in the vector\n",
        "\n",
        "5.- Calculate the average and the maximum of the elements of the vector\n",
        "\n",
        "0.- Finish"
      ]
    },
    {
      "cell_type": "code",
      "source": [
        "print(\"-------------------------------------------------------\")\n",
        "print(\"Exercise 10:INTERACT WITH A VECTOR THROUGH OPTIONS.\")\n",
        "print(\"-------------------------------------------------------\")\n",
        "\n",
        "#Initialize\n",
        "\n",
        "V = 100*[0] #Initialize a vector with 100 elements by default\n",
        "i = 0\n",
        "\n",
        "#Inputs\n",
        "print (\"Enter vector size\")\n",
        "n = int( input())\n",
        "opc = -1\n",
        "\n",
        "while opc != 0:\n",
        "  print(\"\\n-------------------------------------------------------\")\n",
        "  print(\"Enter 1 to add an element to the vector\")\n",
        "  print(\"Enter 2 to remove an element from the vector\")\n",
        "  print(\"Enter 3 to list the contents of the vector\")\n",
        "  print(\"Enter 4 to count the occurrences of a number in the vector\")\n",
        "  print(\"Enter 5 to calculate the mean and maximum of the elements in a vector\")\n",
        "  print(\"Enter 0 to finish\")\n",
        "\n",
        "  #Leer Opcion\n",
        "  opc = int( input(\"Enter Option: \"))\n",
        "\n",
        "\n",
        "  if opc == 1:\n",
        "    if (i < n) :\n",
        "      #Add at position 0 and then increment i\n",
        "      V[i] = int( input(\"Enter Integer: \"))\n",
        "      i = i + 1\n",
        "\n",
        "  elif opc == 2:\n",
        "    print(\"Enter the number you want to delete\")\n",
        "    num = int( input())\n",
        "\n",
        "    if num > 0:\n",
        "      a = 0\n",
        "      #Find NUM in the array\n",
        "      for j in range(i):\n",
        "        if V[j] == num :\n",
        "          a = j\n",
        "          break\n",
        "\n",
        "      #Reorganize the array\n",
        "      if a >= 0 and a <= i:\n",
        "        for j in range(a, i-1 +1):\n",
        "          V[j] = V[j+1]\n",
        "\n",
        "        V[i] = 0\n",
        "        i = i - 1\n",
        "\n",
        "  elif opc == 3:\n",
        "    if i > 0:\n",
        "      for j in range(i):\n",
        "        print(V[j])\n",
        "\n",
        "  elif opc == 4:\n",
        "    c = 0\n",
        "    print(\"Enter number to count number of occurrences: \")\n",
        "    num = int( input())\n",
        "\n",
        "    for j in range(i):\n",
        "      if num == V[j] :\n",
        "        c = c + 1\n",
        "\n",
        "    print(\"The number of occurrences is: \", c)\n",
        "\n",
        "  elif opc == 5:\n",
        "    if i == 0:  # Handle the case where no elements have been added\n",
        "      print(\"Cannot calculate mean since vector is empty.\")\n",
        "    else:\n",
        "      max = V[0]\n",
        "      ma = 0\n",
        "      for j in range(i):\n",
        "        if max < V[j]:\n",
        "          max = V[j]\n",
        "        ma = ma + V[j]\n",
        "\n",
        "      ma = ma/i\n",
        "      print(\"The maximum is:\", max, \" and the average is: \", ma)\n",
        "\n",
        "  elif opc == 0:\n",
        "    print(\"END OF PROGRAM\")\n",
        "    break"
      ],
      "metadata": {
        "colab": {
          "base_uri": "https://localhost:8080/"
        },
        "id": "WoPD_om8DF1Z",
        "outputId": "c38ba637-5536-40f6-d57c-2fc7c62271c5"
      },
      "id": "WoPD_om8DF1Z",
      "execution_count": null,
      "outputs": [
        {
          "output_type": "stream",
          "name": "stdout",
          "text": [
            "-------------------------------------------------------\n",
            "Exercise 10:INTERACT WITH A VECTOR THROUGH OPTIONS.\n",
            "-------------------------------------------------------\n",
            "Enter vector size\n",
            "4\n",
            "\n",
            "-------------------------------------------------------\n",
            "Enter 1 to add an element to the vector\n",
            "Enter 2 to remove an element from the vector\n",
            "Enter 3 to list the contents of the vector\n",
            "Enter 4 to count the occurrences of a number in the vector\n",
            "Enter 5 to calculate the mean and maximum of the elements in a vector\n",
            "Enter 0 to finish\n",
            "Enter Option: 1\n",
            "Enter Integer: 5\n",
            "\n",
            "-------------------------------------------------------\n",
            "Enter 1 to add an element to the vector\n",
            "Enter 2 to remove an element from the vector\n",
            "Enter 3 to list the contents of the vector\n",
            "Enter 4 to count the occurrences of a number in the vector\n",
            "Enter 5 to calculate the mean and maximum of the elements in a vector\n",
            "Enter 0 to finish\n",
            "Enter Option: 1\n",
            "Enter Integer: 3\n",
            "\n",
            "-------------------------------------------------------\n",
            "Enter 1 to add an element to the vector\n",
            "Enter 2 to remove an element from the vector\n",
            "Enter 3 to list the contents of the vector\n",
            "Enter 4 to count the occurrences of a number in the vector\n",
            "Enter 5 to calculate the mean and maximum of the elements in a vector\n",
            "Enter 0 to finish\n",
            "Enter Option: 1\n",
            "Enter Integer: 4\n",
            "\n",
            "-------------------------------------------------------\n",
            "Enter 1 to add an element to the vector\n",
            "Enter 2 to remove an element from the vector\n",
            "Enter 3 to list the contents of the vector\n",
            "Enter 4 to count the occurrences of a number in the vector\n",
            "Enter 5 to calculate the mean and maximum of the elements in a vector\n",
            "Enter 0 to finish\n",
            "Enter Option: 1\n",
            "Enter Integer: 2\n",
            "\n",
            "-------------------------------------------------------\n",
            "Enter 1 to add an element to the vector\n",
            "Enter 2 to remove an element from the vector\n",
            "Enter 3 to list the contents of the vector\n",
            "Enter 4 to count the occurrences of a number in the vector\n",
            "Enter 5 to calculate the mean and maximum of the elements in a vector\n",
            "Enter 0 to finish\n",
            "Enter Option: 3\n",
            "5\n",
            "3\n",
            "4\n",
            "2\n",
            "\n",
            "-------------------------------------------------------\n",
            "Enter 1 to add an element to the vector\n",
            "Enter 2 to remove an element from the vector\n",
            "Enter 3 to list the contents of the vector\n",
            "Enter 4 to count the occurrences of a number in the vector\n",
            "Enter 5 to calculate the mean and maximum of the elements in a vector\n",
            "Enter 0 to finish\n",
            "Enter Option: 5\n",
            "The maximum is: 5  and the average is:  3.5\n",
            "\n",
            "-------------------------------------------------------\n",
            "Enter 1 to add an element to the vector\n",
            "Enter 2 to remove an element from the vector\n",
            "Enter 3 to list the contents of the vector\n",
            "Enter 4 to count the occurrences of a number in the vector\n",
            "Enter 5 to calculate the mean and maximum of the elements in a vector\n",
            "Enter 0 to finish\n",
            "Enter Option: 0\n",
            "END OF PROGRAM\n"
          ]
        }
      ]
    },
    {
      "cell_type": "markdown",
      "id": "219f7401",
      "metadata": {
        "id": "219f7401"
      },
      "source": [
        "<a id=\"k\"></a>\n",
        "[Index](#index)\n",
        "### Exercise 11\n",
        "\n",
        "Develop an algorithm that sequentially searches for a VALUE within an array of N numerical elements and returns its position."
      ]
    },
    {
      "cell_type": "code",
      "execution_count": null,
      "id": "4d8ecfd7",
      "metadata": {
        "id": "4d8ecfd7",
        "colab": {
          "base_uri": "https://localhost:8080/"
        },
        "outputId": "218d9596-057d-45d8-aba3-9645739eabfc"
      },
      "outputs": [
        {
          "output_type": "stream",
          "name": "stdout",
          "text": [
            "-------------------------------------------------------\n",
            "Exercise 11: Sequential Search in an Array\n",
            "-------------------------------------------------------\n",
            "Enter the number of elements: 4\n",
            "Enter an integer: 12\n",
            "Enter an integer: 13\n",
            "Enter an integer: 14\n",
            "Enter an integer: 15\n",
            "[12, 13, 14, 15]\n",
            "Enter the number to find: 20\n",
            "Value not found in the array.\n"
          ]
        }
      ],
      "source": [
        "print(\"-------------------------------------------------------\")\n",
        "print(\"Exercise 11: Sequential Search in an Array\")\n",
        "print(\"-------------------------------------------------------\")\n",
        "\n",
        "\n",
        "# Definition of functions\n",
        "\n",
        "def create_vector(n):\n",
        "  alpha = []\n",
        "  for i in range(n):\n",
        "    element = int(input(\"Enter an integer: \"))\n",
        "    alpha.append(element)\n",
        "  return alpha\n",
        "\n",
        "def sequential_search(arr, value):\n",
        "  \"\"\"\n",
        "  Performs a sequential search on an array to find a given value.\n",
        "\n",
        "  Args:\n",
        "    arr: The array to search.\n",
        "    value: The value to search for.\n",
        "\n",
        "  Returns:\n",
        "    The index of the value in the array if found, otherwise -1.\n",
        "  \"\"\"\n",
        "  for i in range(len(arr)):\n",
        "    if arr[i] == value:\n",
        "      return i\n",
        "  return -1\n",
        "\n",
        "# Main program\n",
        "# Process\n",
        "\n",
        "n = int(input(\"Enter the number of elements: \"))\n",
        "\n",
        "array = create_vector(n)\n",
        "\n",
        "print(array)\n",
        "\n",
        "search_value = int(input(\"Enter the number to find: \"))\n",
        "\n",
        "index = sequential_search(array, search_value)\n",
        "\n",
        "if index != -1:\n",
        "  print(\"Value found at index:\", index)\n",
        "else:\n",
        "  print(\"Value not found in the array.\")\n"
      ]
    },
    {
      "cell_type": "markdown",
      "id": "1c39adb7",
      "metadata": {
        "id": "1c39adb7"
      },
      "source": [
        "<a id=\"l\"></a>\n",
        "[Index](#index)\n",
        "### Exercise 12\n",
        "\n",
        "Develop an algorithm that sorts a vector in descending order."
      ]
    },
    {
      "cell_type": "code",
      "execution_count": null,
      "id": "34d2f55f",
      "metadata": {
        "id": "34d2f55f",
        "colab": {
          "base_uri": "https://localhost:8080/"
        },
        "outputId": "80df7759-20b8-434a-eac8-632931be1b68"
      },
      "outputs": [
        {
          "output_type": "stream",
          "name": "stdout",
          "text": [
            "-------------------------------------------------------\n",
            "Exercise 12: Sort a Vector in Descending Order\n",
            "-------------------------------------------------------\n",
            "Enter the number of elements: 5\n",
            "Enter an integer: 8\n",
            "Enter an integer: 49\n",
            "Enter an integer: 56\n",
            "Enter an integer: 23\n",
            "Enter an integer: 87\n",
            "Original vector: [8, 49, 56, 23, 87]\n",
            "Sorted vector in descending order: [87, 56, 49, 23, 8]\n"
          ]
        }
      ],
      "source": [
        "print(\"-------------------------------------------------------\")\n",
        "print(\"Exercise 12: Sort a Vector in Descending Order\")\n",
        "print(\"-------------------------------------------------------\")\n",
        "\n",
        "\n",
        "# Definition of functions\n",
        "\n",
        "def create_vector(n):\n",
        "  vec = []\n",
        "  for i in range(n):\n",
        "    element = int(input(\"Enter an integer: \"))\n",
        "    vec.append(element)\n",
        "  return vec\n",
        "\n",
        "def sort_vector_descending(vector):\n",
        "  \"\"\"\n",
        "  Sorts a vector in descending order.\n",
        "\n",
        "  Args:\n",
        "    vector: The vector to sort.\n",
        "  \"\"\"\n",
        "  for i in range(len(vector)):\n",
        "    for j in range(i + 1, len(vector)):\n",
        "      if vector[i] < vector[j]:\n",
        "        vector[i], vector[j] = vector[j], vector[i]\n",
        "\n",
        "# Main Program\n",
        "\n",
        "#Process\n",
        "\n",
        "v = int(input(\"Enter the number of elements: \"))\n",
        "vector = create_vector(v)\n",
        "print(\"Original vector:\", vector)\n",
        "sort_vector_descending(vector)\n",
        "print(\"Sorted vector in descending order:\", vector)\n"
      ]
    },
    {
      "cell_type": "markdown",
      "id": "0c2e3a1b",
      "metadata": {
        "id": "0c2e3a1b"
      },
      "source": [
        "<a id=\"m\"></a>\n",
        "[Index](#index)\n",
        "### Exercise 13\n",
        "\n",
        "Make an algorithm that introduces a new element into a vector ordered ascendingly, the vector must preserve the order."
      ]
    },
    {
      "cell_type": "code",
      "execution_count": null,
      "id": "9574496f",
      "metadata": {
        "id": "9574496f",
        "colab": {
          "base_uri": "https://localhost:8080/"
        },
        "outputId": "3f93b957-1b5a-4077-f549-686ba8cb99b4"
      },
      "outputs": [
        {
          "output_type": "stream",
          "name": "stdout",
          "text": [
            "-------------------------------------------------------\n",
            "Exercise 13: Insert Element in Ordered Vector\n",
            "-------------------------------------------------------\n",
            "Enter the number of elements for the initial vector: 5\n",
            "Enter an integer in ascending order: 89\n",
            "Enter an integer in ascending order: 64\n",
            "Enter an integer in ascending order: 32\n",
            "Enter an integer in ascending order: 23\n",
            "Enter an integer in ascending order: 42\n",
            "Ordered vector: [89, 64, 32, 23, 42]\n",
            "Enter the new element to insert: 15\n",
            "Updated ordered vector: [15, 89, 64, 32, 23, 42]\n"
          ]
        }
      ],
      "source": [
        "print(\"-------------------------------------------------------\")\n",
        "print(\"Exercise 13: Insert Element in Ordered Vector\")\n",
        "print(\"-------------------------------------------------------\")\n",
        "\n",
        "def create_vector(n):\n",
        "  vec = []\n",
        "  for i in range(n):\n",
        "    element = int(input(\"Enter an integer: \"))\n",
        "    vec.append(element)\n",
        "  return vec\n",
        "\n",
        "\n",
        "def insert_element_ordered(vector, new_element):\n",
        "  \"\"\"\n",
        "  Inserts a new element into an ascendingly ordered vector, preserving the order.\n",
        "\n",
        "  Args:\n",
        "    vector: The ordered vector.\n",
        "    new_element: The element to insert.\n",
        "  \"\"\"\n",
        "  insertion_index = 0\n",
        "  for i in range(len(vector)):\n",
        "    if new_element > vector[i]:\n",
        "      insertion_index = i + 1\n",
        "    else:\n",
        "      break\n",
        "\n",
        "\n",
        "def sort_vector_ascending(vector):\n",
        "  \"\"\"\n",
        "  Sorts a vector in ascending order using bubble sort.\n",
        "\n",
        "  Args:\n",
        "    vector: The vector to sort.\n",
        "  \"\"\"\n",
        "  n = len(vector)\n",
        "  for i in range(n - 1):\n",
        "    for j in range(0, n - i - 1):\n",
        "      if vector[j] > vector[j + 1]:\n",
        "        vector[j], vector[j + 1] = vector[j + 1], vector[j]\n",
        "\n",
        "\n",
        "# Main Program\n",
        "\n",
        "# Process\n",
        "\n",
        "v = int(input(\"Enter the number of elements: \"))\n",
        "vector = create_vector(v)\n",
        "print(\"Original vector:\", vector)\n",
        "\n",
        "new_element = int(input(\"Enter the new element to insert: \"))\n",
        "n_vector = insert_element_ordered(ordered_vector, new_element)\n",
        "\n",
        "\n",
        "sort_vector_ascending(n_vector)\n",
        "print(\"Sorted vector in ascending order:\", vector)\n",
        "\n",
        "\n",
        "\n",
        "  vector.insert(insertion_index, new_element)\n",
        "\n",
        "# Main Program\n",
        "\n",
        "#Process\n",
        "\n",
        "n = int(input(\"Enter the number of elements for the initial vector: \"))\n",
        "ordered_vector = create_ordered_vector(n)\n",
        "\n",
        "print(\"Ordered vector:\", ordered_vector)\n",
        "\n",
        "\n",
        "\n",
        "print(\"Updated ordered vector:\", ordered_vector)\n"
      ]
    },
    {
      "cell_type": "code",
      "source": [
        "# prompt: crear un algortimo que inserte un elemento en un vector\n",
        "\n",
        "def insertar_elemento(vector, elemento, posicion):\n",
        "  \"\"\"\n",
        "  Inserta un elemento en un vector en la posición especificada.\n",
        "\n",
        "  Args:\n",
        "    vector: El vector en el que insertar el elemento.\n",
        "    elemento: El elemento a insertar.\n",
        "    posicion: La posición en la que insertar el elemento.\n",
        "\n",
        "  Returns:\n",
        "    El vector con el elemento insertado.\n",
        "  \"\"\"\n",
        "  vector.insert(posicion, elemento)\n",
        "  return vector\n",
        "\n",
        "# Ejemplo de uso\n",
        "mi_vector = [1, 2, 3, 4]\n",
        "nuevo_elemento = 5\n",
        "posicion_insercion = 2\n",
        "\n",
        "nuevo_vector = insertar_elemento(mi_vector, nuevo_elemento, posicion_insercion)\n",
        "print(nuevo_vector)  # Salida: [1, 2, 5, 3, 4]\n"
      ],
      "metadata": {
        "id": "Ww3Xwds1jc3p"
      },
      "id": "Ww3Xwds1jc3p",
      "execution_count": null,
      "outputs": []
    },
    {
      "cell_type": "markdown",
      "id": "fc1bd56e",
      "metadata": {
        "id": "fc1bd56e"
      },
      "source": [
        "<a id=\"n\"></a>\n",
        "[Index](#index)\n",
        "### Exercise 14\n",
        "    \n",
        "Create an algorithm that loads a vector of 100 positions with integers, from this create 2 vectors; one with even numbers and the other with odd numbers, also say which of the vectors is larger and the number of elements in each vector. Initially the vectors will be clean, this means that all positions will have the value 0 (zero)."
      ]
    },
    {
      "cell_type": "code",
      "execution_count": null,
      "id": "1550ea54",
      "metadata": {
        "id": "1550ea54",
        "colab": {
          "base_uri": "https://localhost:8080/"
        },
        "outputId": "01a3ff8a-b548-4ec5-e2e4-37cb869f3c58"
      },
      "outputs": [
        {
          "output_type": "stream",
          "name": "stdout",
          "text": [
            "-------------------------------------------------------\n",
            "Exercise 14: Separate Even and Odd Numbers\n",
            "-------------------------------------------------------\n",
            "Enter the size of the vector to be divided: 5\n",
            "Enter an integer: 1\n",
            "Enter an integer: 23\n",
            "Enter an integer: 48\n",
            "Enter an integer: 56\n",
            "Enter an integer: 93\n",
            "Even vector: [48, 56]\n",
            "Odd vector: [1, 23, 93]\n",
            "The odd vector is larger.\n",
            "Number of elements in even vector: 2\n",
            "Number of elements in odd vector: 3\n"
          ]
        }
      ],
      "source": [
        "print(\"-------------------------------------------------------\")\n",
        "print(\"Exercise 14: Separate Even and Odd Numbers\")\n",
        "print(\"-------------------------------------------------------\")\n",
        "\n",
        "def create_vector(n):\n",
        "  vec = []\n",
        "  for i in range(n):\n",
        "    element = int(input(\"Enter an integer: \"))\n",
        "    vec.append(element)\n",
        "  return vec\n",
        "\n",
        "def separate_even_odd(vector):\n",
        "  even_vector = []\n",
        "  odd_vector = []\n",
        "  for element in vector:\n",
        "    if element % 2 == 0:\n",
        "      even_vector.append(element)\n",
        "    else:\n",
        "      odd_vector.append(element)\n",
        "  return even_vector, odd_vector\n",
        "\n",
        "# Main Program\n",
        "\n",
        "# Process\n",
        "\n",
        "n = int(input(\"Enter the size of the vector to be divided: \"))\n",
        "original_vector = create_vector(n)\n",
        "\n",
        "even_vector, odd_vector = separate_even_odd(original_vector)\n",
        "\n",
        "print(\"Even vector:\", even_vector)\n",
        "print(\"Odd vector:\", odd_vector)\n",
        "\n",
        "if len(even_vector) > len(odd_vector):\n",
        "  print(\"The even vector is larger.\")\n",
        "elif len(odd_vector) > len(even_vector):\n",
        "  print(\"The odd vector is larger.\")\n",
        "else:\n",
        "  print(\"Both vectors have the same length.\")\n",
        "\n",
        "print(\"Number of elements in even vector:\", len(even_vector))\n",
        "print(\"Number of elements in odd vector:\", len(odd_vector))\n"
      ]
    },
    {
      "cell_type": "markdown",
      "id": "3331f67c",
      "metadata": {
        "id": "3331f67c"
      },
      "source": [
        "<a id=\"o\"></a>\n",
        "[Index](#index)\n",
        "### Exercise 15\n",
        "    \n",
        "There is a vector, it is asked to enter 200 animal names, then the name of an animal that is entered by keyboard must be searched for, the algorithm must print the name of the animal searched for, as well as the names of the animals that are next to the position where the animal searched for is, both to the right and to the left."
      ]
    },
    {
      "cell_type": "code",
      "execution_count": null,
      "id": "0d82fbbb",
      "metadata": {
        "id": "0d82fbbb",
        "colab": {
          "base_uri": "https://localhost:8080/"
        },
        "outputId": "49a501ff-8d6d-4a3b-a5bf-fd4ff27e7087"
      },
      "outputs": [
        {
          "output_type": "stream",
          "name": "stdout",
          "text": [
            "Enter the number of animals: 10\n",
            "Enter animal name 1: dog\n",
            "Enter animal name 2: cat\n",
            "Enter animal name 3: fish\n",
            "Enter animal name 4: tiger\n",
            "Enter animal name 5: lion\n",
            "Enter animal name 6: elphant\n",
            "Enter animal name 7: dolphin\n",
            "Enter animal name 8: bird\n",
            "Enter animal name 9: hen\n",
            "Enter animal name 10: duck\n",
            "Enter the name of the animal to search for: lion\n",
            "Animal found: lion\n",
            "Animal to the left: tiger\n",
            "Animal to the right: elphant\n"
          ]
        }
      ],
      "source": [
        "print(\"-------------------------------------------------------\")\n",
        "print(\"Exercise 15: Playing with animals\")\n",
        "print(\"-------------------------------------------------------\")\n",
        "\n",
        "# Definition of functions\n",
        "\n",
        "def create_animal_vector(n):\n",
        "  animals = []\n",
        "  for i in range(n):\n",
        "    animal = input(\"Enter animal name {}: \".format(i + 1))\n",
        "    animals.append(animal)\n",
        "  return animals\n",
        "\n",
        "def search_animal(animals, search_name):\n",
        "  index = -1\n",
        "  for i in range(len(animals)):\n",
        "    if animals[i] == search_name:\n",
        "      index = i\n",
        "      break\n",
        "\n",
        "  if index == -1:\n",
        "    print(\"Animal not found.\")\n",
        "  else:\n",
        "    print(\"Animal found:\", search_name)\n",
        "    if index > 0:\n",
        "      print(\"Animal to the left:\", animals[index - 1])\n",
        "    if index < len(animals) - 1:\n",
        "      print(\"Animal to the right:\", animals[index + 1])\n",
        "\n",
        "# Main Program\n",
        "\n",
        "# Process\n",
        "\n",
        "n = int(input(\"Enter the number of animals: \"))\n",
        "animal_vector = create_animal_vector(n)\n",
        "\n",
        "search_name = input(\"Enter the name of the animal to search for: \")\n",
        "search_animal(animal_vector, search_name)\n",
        "\n"
      ]
    }
  ],
  "metadata": {
    "kernelspec": {
      "display_name": "Python 3 (ipykernel)",
      "language": "python",
      "name": "python3"
    },
    "language_info": {
      "codemirror_mode": {
        "name": "ipython",
        "version": 3
      },
      "file_extension": ".py",
      "mimetype": "text/x-python",
      "name": "python",
      "nbconvert_exporter": "python",
      "pygments_lexer": "ipython3",
      "version": "3.11.2"
    },
    "colab": {
      "provenance": []
    }
  },
  "nbformat": 4,
  "nbformat_minor": 5
}