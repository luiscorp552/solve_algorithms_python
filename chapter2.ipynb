{
  "cells": [
    {
      "cell_type": "code",
      "execution_count": null,
      "id": "10b5eaae",
      "metadata": {
        "id": "10b5eaae"
      },
      "outputs": [],
      "source": []
    },
    {
      "cell_type": "markdown",
      "id": "e6391d4a",
      "metadata": {
        "id": "e6391d4a"
      },
      "source": [
        "# Chapter 2. Selective Structures"
      ]
    },
    {
      "cell_type": "markdown",
      "id": "29bb4b8b",
      "metadata": {
        "id": "29bb4b8b"
      },
      "source": [
        "## Content\n",
        "<a id=\"index\">Content:</a>\n",
        "1. [Exercise 1](#a)\n",
        "2. [Exercise 2](#b)\n",
        "3. [Exercise 3](#c)\n",
        "4. [Exercise 4](#d)\n",
        "5. [Exercise 5](#e)\n",
        "6. [Exercise 6](#f)\n",
        "7. [Exercise 7](#g)\n",
        "8. [Exercise 8](#h)\n",
        "9. [Exercise 9](#i)\n",
        "10. [Exercise 10](#j)\n",
        "11. [Exercise 11](#k)\n",
        "12. [Exercise 12](#l)\n",
        "13. [Exercise 13](#m)\n",
        "14. [Exercise 14](#n)\n",
        "15. [Exercise 15](#o)\n",
        "16. [Exercise 16](#p)\n",
        "17. [Exercise 17](#q)"
      ]
    },
    {
      "cell_type": "markdown",
      "id": "be5f58f1",
      "metadata": {
        "id": "be5f58f1"
      },
      "source": [
        "<a id=\"a\"></a>\n",
        "[Index](#index)\n",
        "### Exercise 1\n",
        "\n",
        "Given an integer, evaluate it, if it turns out to be less than 100 display a message saying “small number”."
      ]
    },
    {
      "cell_type": "code",
      "execution_count": null,
      "id": "895a2814",
      "metadata": {
        "id": "895a2814",
        "colab": {
          "base_uri": "https://localhost:8080/"
        },
        "outputId": "12263588-e993-41c3-eb93-18e821fd0bb6"
      },
      "outputs": [
        {
          "output_type": "stream",
          "name": "stdout",
          "text": [
            "-------------------------------------------------------\n",
            "Exercise1: Value Checker.\n",
            "-------------------------------------------------------\n",
            "Enter the value to be verified: \n",
            "Value X: 1000\n",
            "1000.0 is higher\n"
          ]
        }
      ],
      "source": [
        "print(\"-------------------------------------------------------\")\n",
        "print(\"Exercise1: Value Checker.\")\n",
        "print(\"-------------------------------------------------------\")\n",
        "#INPUTS\n",
        "print(\"Enter the value to be verified: \")\n",
        "\n",
        "x = float( input(\"Value X: \") )\n",
        "\n",
        "#Process\n",
        "if  x <= 100:\n",
        "  print( x, \"the value is equal to or less than 100\")\n",
        "else:\n",
        "  print( x, \"is higher\")\n",
        "\n",
        "#Output\n"
      ]
    },
    {
      "cell_type": "markdown",
      "id": "5b136076",
      "metadata": {
        "id": "5b136076"
      },
      "source": [
        "<a id=\"b\"></a>\n",
        "[Index](#index)\n",
        "### Exercise 2\n",
        "\n",
        "Enter 2 different integers and print the smallest of them with the message “The smallest is: --“."
      ]
    },
    {
      "cell_type": "code",
      "execution_count": null,
      "id": "63a9746b",
      "metadata": {
        "id": "63a9746b",
        "colab": {
          "base_uri": "https://localhost:8080/"
        },
        "outputId": "71e6b781-d048-4513-9949-9c1259b3886a"
      },
      "outputs": [
        {
          "output_type": "stream",
          "name": "stdout",
          "text": [
            "-------------------------------------------------------\n",
            "Exercise2: Smallest value Checker.\n",
            "-------------------------------------------------------\n",
            "Enter the first value to be verified: \n",
            "Value X: 45\n",
            "Enter the second value to be verified: \n",
            "Value Y: 80\n",
            "The smallest is:  45\n"
          ]
        }
      ],
      "source": [
        "print(\"-------------------------------------------------------\")\n",
        "print(\"Exercise2: Smallest value Checker.\")\n",
        "print(\"-------------------------------------------------------\")\n",
        "\n",
        "#INPUTS\n",
        "\n",
        "print(\"Enter the first value to be verified: \")\n",
        "x = int( input(\"Value X: \") )\n",
        "print(\"Enter the second value to be verified: \")\n",
        "y = int( input(\"Value Y: \") )\n",
        "\n",
        "#Process\n",
        "if  x < y:\n",
        "  print( \"The smallest is: \", x)\n",
        "else:\n",
        "  print( \"The smallest is: \", y)\n",
        "\n",
        "#Output\n"
      ]
    },
    {
      "cell_type": "markdown",
      "id": "cf1b2b10",
      "metadata": {
        "id": "cf1b2b10"
      },
      "source": [
        "<a id=\"c\"></a>\n",
        "[Index](#index)\n",
        "### Exercise 3\n",
        "\n",
        "To access the elements, the dictionary's .get function is used."
      ]
    },
    {
      "cell_type": "code",
      "execution_count": null,
      "id": "1738fb26",
      "metadata": {
        "id": "1738fb26",
        "colab": {
          "base_uri": "https://localhost:8080/"
        },
        "outputId": "33e0fc67-84a0-44bb-ff0d-7e493c5c09a8"
      },
      "outputs": [
        {
          "output_type": "stream",
          "name": "stdout",
          "text": [
            "Enter the month´s number: 3\n",
            "March\n"
          ]
        }
      ],
      "source": [
        "switcher = {\n",
        "1: \"January\",\n",
        "2: \"Febrary\",\n",
        "3: \"March\",\n",
        "4: \"April\",\n",
        "5: \"May\",\n",
        "6: \"June\",\n",
        "7: \"July\",\n",
        "8: \"Agost\",\n",
        "9: \"September\",\n",
        "10: \"Octuber\",\n",
        "11: \"November\",\n",
        "12: \"December\"\n",
        "}\n",
        "argument = int( input(\"Enter the month´s number: \"))\n",
        "\n",
        "#To access the elements, the dictionary's .get function is used.\n",
        "# how to call the function .get : diccionario.get(AlgunArgumento, mensaje por Defecto)\n",
        "\n",
        "MonthNumber = switcher.get(argument, \"Invalid month\")\n",
        "print(MonthNumber)"
      ]
    },
    {
      "cell_type": "markdown",
      "id": "35a4d5ae",
      "metadata": {
        "id": "35a4d5ae"
      },
      "source": [
        "<a id=\"d\"></a>\n",
        "[Index](#index)\n",
        "### Exercise 4\n",
        "\n",
        "Build a program such that, given a student's grade, it writes \"passed\" if that grade is greater than 10, otherwise it writes \"failed.\""
      ]
    },
    {
      "cell_type": "code",
      "execution_count": null,
      "id": "0f371ddb",
      "metadata": {
        "id": "0f371ddb",
        "colab": {
          "base_uri": "https://localhost:8080/"
        },
        "outputId": "28f78bd3-3c96-4e3e-bbc2-318f6bef4759"
      },
      "outputs": [
        {
          "output_type": "stream",
          "name": "stdout",
          "text": [
            "-------------------------------------------------------\n",
            "Exercise4: Grade Checker.\n",
            "-------------------------------------------------------\n",
            "Enter the student's grade: 9\n",
            "failed\n"
          ]
        }
      ],
      "source": [
        "print(\"-------------------------------------------------------\")\n",
        "print(\"Exercise4: Grade Checker.\")\n",
        "print(\"-------------------------------------------------------\")\n",
        "\n",
        "#INPUTS\n",
        "\n",
        "grade = float(input(\"Enter the student's grade: \"))\n",
        "if grade > 10:\n",
        "  print(\"passed\")\n",
        "else:\n",
        "  print(\"failed\")\n"
      ]
    },
    {
      "cell_type": "markdown",
      "id": "f9a53c9e",
      "metadata": {
        "id": "f9a53c9e"
      },
      "source": [
        "<a id=\"e\"></a>\n",
        "[Index](#index)\n",
        "### Exercise 5\n",
        "\n",
        "Given a worker's salary, apply a 15% increase. If his salary is less than $1000, print the salary he will receive."
      ]
    },
    {
      "cell_type": "code",
      "execution_count": null,
      "id": "3760fc88",
      "metadata": {
        "id": "3760fc88",
        "colab": {
          "base_uri": "https://localhost:8080/"
        },
        "outputId": "33282e7c-f3da-4029-f5e3-63164a895e50"
      },
      "outputs": [
        {
          "output_type": "stream",
          "name": "stdout",
          "text": [
            "-------------------------------------------------------\n",
            "Exercise5: Salary Increaser\n",
            "-------------------------------------------------------\n",
            "Enter the worker's salary: 999\n",
            "The salary with the 15% increase is: 1148.85\n"
          ]
        }
      ],
      "source": [
        "print(\"-------------------------------------------------------\")\n",
        "print(\"Exercise5: Salary Increaser\")\n",
        "print(\"-------------------------------------------------------\")\n",
        "\n",
        "salary = float(input(\"Enter the worker's salary: \"))\n",
        "if salary < 1000:\n",
        "  salary = salary * 1.15\n",
        "  print(\"The salary with the 15% increase is:\", salary)\n"
      ]
    },
    {
      "cell_type": "markdown",
      "id": "c1eb2f12",
      "metadata": {
        "id": "c1eb2f12"
      },
      "source": [
        "<a id=\"f\"></a>\n",
        "[Index](#index)\n",
        "### Exercise 6\n",
        "\n",
        "Develop an algorithm to determine whether a year read by keyboard is a leap year or not."
      ]
    },
    {
      "cell_type": "code",
      "source": [
        "print(\"-------------------------------------------------------\")\n",
        "print(\"Exercise6: Leap Year Checker.\")\n",
        "print(\"-------------------------------------------------------\")\n",
        "\n",
        "# INPUTS\n",
        "year = int(input(\"Enter a year: \"))\n",
        "\n",
        "# Process\n",
        "if year % 4 == 0:\n",
        "  if year % 100 == 0:\n",
        "    if year % 400 == 0:\n",
        "      print(year, \"is a leap year.\")\n",
        "    else:\n",
        "      print(year, \"is not a leap year.\")\n",
        "  else:\n",
        "    print(year, \"is a leap year.\")\n",
        "else:\n",
        "  print(year, \"is not a leap year.\")\n",
        "\n",
        "# Output"
      ],
      "metadata": {
        "colab": {
          "base_uri": "https://localhost:8080/"
        },
        "id": "xSik91DQqZ-N",
        "outputId": "2f4f63e9-d137-49a0-9096-532be64f86a5"
      },
      "id": "xSik91DQqZ-N",
      "execution_count": null,
      "outputs": [
        {
          "output_type": "stream",
          "name": "stdout",
          "text": [
            "-------------------------------------------------------\n",
            "Exercise6: Leap Year Checker.\n",
            "-------------------------------------------------------\n",
            "Enter a year: 2024\n",
            "2024 is a leap year.\n"
          ]
        }
      ]
    },
    {
      "cell_type": "markdown",
      "id": "6eb68ab5",
      "metadata": {
        "id": "6eb68ab5"
      },
      "source": [
        "<a id=\"g\"></a>\n",
        "[Index](#index)\n",
        "### Exercise 7\n",
        "\n",
        "Calculates and returns the result based on the chosen calculation type and entered value.\n",
        "\n",
        "  Args:\n",
        "      NUM (int): Value entered by the user that indicates calculation type;\n",
        "      v (int): Value entered by the user.\n",
        "\n",
        "  Returns:\n",
        "      int: The calculated result based on the chosen calculation type."
      ]
    },
    {
      "cell_type": "code",
      "execution_count": null,
      "id": "021a3752",
      "metadata": {
        "id": "021a3752",
        "colab": {
          "base_uri": "https://localhost:8080/"
        },
        "outputId": "02d6bf31-9480-4292-c3e5-69b66a0b8bd3"
      },
      "outputs": [
        {
          "output_type": "stream",
          "name": "stdout",
          "text": [
            "-------------------------------------------------------\n",
            "Exercise7: Function\n",
            "-------------------------------------------------------\n",
            "Enter values: \n",
            "Calculation Type: 3\n",
            "Enter V: 0\n",
            "Error: Division by zero is not allowed.\n"
          ]
        }
      ],
      "source": [
        "print(\"-------------------------------------------------------\")\n",
        "print(\"Exercise7: Function\")\n",
        "print(\"-------------------------------------------------------\")\n",
        "#Inputs\n",
        "print(\"Enter values: \")\n",
        "NUM = int( input(\"Calculation Type: \"))\n",
        "V = int( input(\"Enter V: \"))\n",
        "\n",
        "#Process\n",
        "#using a diccionary\n",
        "# Handle the potential ZeroDivisionError\n",
        "if V == 0:\n",
        "    print(\"Error: Division by zero is not allowed.\")\n",
        "else:\n",
        "    Function = {\n",
        "        1 : 100*V,\n",
        "        2 : 100**V,\n",
        "        3 : 100/V\n",
        "    }\n",
        "\n",
        "    #DICCIONARY.get(ElementToFindInDiccionary, Default)\n",
        "    #Default: In case the element is not found.\n",
        "    VAL = Function.get(NUM, 0)\n",
        "\n",
        "    #Output\n",
        "    print(\"\\nOUTPUT: \")\n",
        "    print(\"-------------------------------------------------------\")\n",
        "    print(VAL)"
      ]
    },
    {
      "cell_type": "markdown",
      "id": "0390aacc",
      "metadata": {
        "id": "0390aacc"
      },
      "source": [
        "<a id=\"h\"></a>\n",
        "[Index](#index)\n",
        "### Exercise 8\n",
        "\n",
        "You want to read from the keyboard a number between 0 and 10 (inclusive) and you want to see if the number is even or odd."
      ]
    },
    {
      "cell_type": "code",
      "execution_count": null,
      "id": "2acf814e",
      "metadata": {
        "id": "2acf814e",
        "colab": {
          "base_uri": "https://localhost:8080/"
        },
        "outputId": "2c673871-081b-4001-8d80-521245cc1d6c"
      },
      "outputs": [
        {
          "output_type": "stream",
          "name": "stdout",
          "text": [
            "-------------------------------------------------------\n",
            "Exercise8: Even or Odd function\n",
            "-------------------------------------------------------\n",
            "Enter a number between 0 and 10: 8\n",
            "8 is even.\n"
          ]
        }
      ],
      "source": [
        "print(\"-------------------------------------------------------\")\n",
        "print(\"Exercise8: Even or Odd function\")\n",
        "print(\"-------------------------------------------------------\")\n",
        "\n",
        "number = int(input(\"Enter a number between 0 and 10: \"))\n",
        "\n",
        "if number < 0 or number > 10:\n",
        "  print(\"Invalid number. Please enter a number between 0 and 10.\")\n",
        "elif number % 2 == 0:\n",
        "  print(f\"{number} is even.\")\n",
        "else:\n",
        "  print(f\"{number} is odd.\")\n"
      ]
    },
    {
      "cell_type": "markdown",
      "id": "755626ca",
      "metadata": {
        "id": "755626ca"
      },
      "source": [
        "<a id=\"i\"></a>\n",
        "[Index](#index)\n",
        "### Exercise 9\n",
        "\n",
        "Develop an algorithm that orders 3 given numbers from largest to smallest"
      ]
    },
    {
      "cell_type": "code",
      "execution_count": null,
      "id": "029f07ed",
      "metadata": {
        "id": "029f07ed",
        "colab": {
          "base_uri": "https://localhost:8080/"
        },
        "outputId": "8bb488f9-c0e9-4c53-c5c1-e53128e92897"
      },
      "outputs": [
        {
          "output_type": "stream",
          "name": "stdout",
          "text": [
            "-------------------------------------------------------\n",
            "Exercise9: Algorithm to sort 3 numbers\n",
            "-------------------------------------------------------\n",
            "Enter A: 9\n",
            "Enter B: 8\n",
            "Enter C: 15\n",
            "\n",
            "OUTPUT: \n",
            "-------------------------------------------------------\n",
            "15 9 8\n"
          ]
        }
      ],
      "source": [
        "print(\"-------------------------------------------------------\")\n",
        "print(\"Exercise9: Algorithm to sort 3 numbers\")\n",
        "print(\"-------------------------------------------------------\")\n",
        "\n",
        "#Inputs\n",
        "A = int( input(\"Enter A: \"))\n",
        "B = int( input(\"Enter B: \"))\n",
        "C = int( input(\"Enter C: \"))\n",
        "\n",
        "print(\"\\nOUTPUT: \")\n",
        "print(\"-------------------------------------------------------\")\n",
        "\n",
        "#Process\n",
        "if A > B :\n",
        "  if A > C:\n",
        "    if B > C:\n",
        "      print(A, B, C)\n",
        "    else:\n",
        "      print(A,C,B)\n",
        "  else:\n",
        "    print(C,A,B)\n",
        "else:\n",
        "  if B > C :\n",
        "    if A > C :\n",
        "      print(B,A,C)\n",
        "    else:\n",
        "      print(B,C,A)\n",
        "  else:\n",
        "    print(C,B,A)"
      ]
    },
    {
      "cell_type": "markdown",
      "id": "238fd02a",
      "metadata": {
        "id": "238fd02a"
      },
      "source": [
        "<a id=\"j\"></a>\n",
        "[Index](#index)\n",
        "### Exercise 10\n",
        "\n",
        "Build an algorithm that, given three numbers, displays the message “EQUAL” if the sum of the first two is equal to the other number and the message “DISTINCT” otherwise."
      ]
    },
    {
      "cell_type": "code",
      "execution_count": null,
      "id": "66fa46a1",
      "metadata": {
        "id": "66fa46a1",
        "colab": {
          "base_uri": "https://localhost:8080/"
        },
        "outputId": "98c8e4bb-5e3e-4164-85e6-be63cc23c711"
      },
      "outputs": [
        {
          "output_type": "stream",
          "name": "stdout",
          "text": [
            "-------------------------------------------------------\n",
            "Exercise10: Equal and Distinct\n",
            "-------------------------------------------------------\n",
            "Enter A: 3\n",
            "Enter B: 4\n",
            "Enter C: 7\n",
            "\n",
            "OUTPUT: \n",
            "-------------------------------------------------------\n",
            "EQUAL\n"
          ]
        }
      ],
      "source": [
        "print(\"-------------------------------------------------------\")\n",
        "print(\"Exercise10: Equal and Distinct\")\n",
        "print(\"-------------------------------------------------------\")\n",
        "\n",
        "#Inputs\n",
        "A = int( input(\"Enter A: \"))\n",
        "B = int( input(\"Enter B: \"))\n",
        "C = int( input(\"Enter C: \"))\n",
        "\n",
        "print(\"\\nOUTPUT: \")\n",
        "print(\"-------------------------------------------------------\")\n",
        "\n",
        "#Process\n",
        "if A + B == C:\n",
        "  print(\"EQUAL\")\n",
        "else:\n",
        "  print(\"DISTINCT\")\n"
      ]
    },
    {
      "cell_type": "markdown",
      "id": "219f7401",
      "metadata": {
        "id": "219f7401"
      },
      "source": [
        "<a id=\"k\"></a>\n",
        "[Index](#index)\n",
        "### Exercise 11\n",
        "\n",
        "Algorithm that, given two numbers “a” and “b”, displays their values in order from lowest to highest."
      ]
    },
    {
      "cell_type": "code",
      "execution_count": null,
      "id": "4d8ecfd7",
      "metadata": {
        "id": "4d8ecfd7",
        "colab": {
          "base_uri": "https://localhost:8080/"
        },
        "outputId": "c0b34544-9b99-4561-b153-9ed77e12e0e9"
      },
      "outputs": [
        {
          "output_type": "stream",
          "name": "stdout",
          "text": [
            "-------------------------------------------------------\n",
            "Exercise11: Sort 2 numbers\n",
            "-------------------------------------------------------\n",
            "Enter A: 8\n",
            "Enter B: 3\n",
            "\n",
            "OUTPUT: \n",
            "-------------------------------------------------------\n",
            "The numbers are:  3 8\n"
          ]
        }
      ],
      "source": [
        "print(\"-------------------------------------------------------\")\n",
        "print(\"Exercise11: Sort 2 numbers\")\n",
        "print(\"-------------------------------------------------------\")\n",
        "# pag 128\n",
        "#Inputs\n",
        "a = int( input(\"Enter A: \"))\n",
        "b = int( input(\"Enter B: \"))\n",
        "\n",
        "print(\"\\nOUTPUT: \")\n",
        "print(\"-------------------------------------------------------\")\n",
        "\n",
        "#Process\n",
        "if a < b :\n",
        "  print(\"The numbers are: \", a, b)\n",
        "else:\n",
        "  print(\"The numbers are: \", b, a)\n"
      ]
    },
    {
      "cell_type": "markdown",
      "id": "1c39adb7",
      "metadata": {
        "id": "1c39adb7"
      },
      "source": [
        "<a id=\"l\"></a>\n",
        "[Index](#index)\n",
        "### Exercise 12\n",
        "\n",
        "A stereo supplier offers a 10% discount on the price without VAT, of a device if it costs $2000 or more. In addition, independently of this, it offers an additional 5% discount on the price if the brand is “NOSY”. Determine how much, with VAT included, a typical customer will pay for the purchase of your device. VAT = 20%"
      ]
    },
    {
      "cell_type": "code",
      "execution_count": null,
      "id": "34d2f55f",
      "metadata": {
        "id": "34d2f55f",
        "colab": {
          "base_uri": "https://localhost:8080/"
        },
        "outputId": "191b8f8f-2bfb-4e42-cd7b-6a76e5d17952"
      },
      "outputs": [
        {
          "output_type": "stream",
          "name": "stdout",
          "text": [
            "Enter price: 170\n",
            "Enter Brand: nike\n",
            "The final price of the device is: 204.0\n"
          ]
        }
      ],
      "source": [
        "# Decoration: Algorithm Name\n",
        "print(\"-------------------------------------------------------\")\n",
        "print(\"Exercise12: Discount Calculator 1\")\n",
        "print(\"-------------------------------------------------------\")\n",
        "\n",
        "def calculate_price(price, brand):\n",
        "  \"\"\"\n",
        "  Calculates the price of a device with discounts and VAT.\n",
        "\n",
        "  Args:\n",
        "    price: The price of the device without VAT.\n",
        "    brand: The brand of the device.\n",
        "\n",
        "  Returns:\n",
        "    The price of the device with VAT and discounts included.\n",
        "  \"\"\"\n",
        "\n",
        "  # Apply 10% discount if price is $2000 or more.\n",
        "  if price >= 2000:\n",
        "    price *= 0.9\n",
        "\n",
        "  # Apply 5% discount if brand is \"NOSY\".\n",
        "  if brand == \"NOSY\":\n",
        "    price *= 0.95\n",
        "\n",
        "  # Apply 20% VAT.\n",
        "  price *= 1.2\n",
        "\n",
        "  return price\n",
        "\n",
        "# Example usage\n",
        "\n",
        "price = float( input(\"Enter price: \"))\n",
        "brand = input(\"Enter Brand: \")\n",
        "\n",
        "#price = 150\n",
        "#brand = \"NOSY\"\n",
        "final_price = calculate_price(price, brand)\n",
        "print(f\"The final price of the device is: {final_price}\")\n"
      ]
    },
    {
      "cell_type": "code",
      "source": [
        "# Decoration: Algorithm Name\n",
        "print(\"-------------------------------------------------------\")\n",
        "print(\"Exercise12: Discount Calculator 2\")\n",
        "print(\"-------------------------------------------------------\")\n",
        "\n",
        "#Inputs\n",
        "\n",
        "## cost needs conversion since the inputs are numbers\n",
        "cost = float( input(\"Enter the Cost of the item:\"))\n",
        "## m does not need conversion since the inputs are Text\n",
        "brand = input(\"Enter the Brand: \")\n",
        "\n",
        "\n",
        "#Process\n",
        "\n",
        "if cost >= 2000 and brand == \"NOSY\":\n",
        "  pa = cost*0.90\n",
        "  pt = pa*0.95\n",
        "  print(\"You will pay: \", pt, \"dollars\")\n",
        "\n",
        "if costo >= 200 and brand != \"NOSY\":\n",
        "  pt = cost*0.90\n",
        "  print(\"You will pay: \", pt, \"dollars\")\n",
        "\n",
        "if costo < 2000 and brand == \"NOSY\":\n",
        "  pa = cost*0.95\n",
        "  pt = pa + pa*0.20\n",
        "  print(\"You will pay: \", pt, \"dollars\")\n",
        "\n",
        "if cost < 2000 and brand != \"NOSY\":\n",
        "  pa = cost*1.20\n",
        "  print(\"You will pay: \", pa, \"dollars\")\n"
      ],
      "metadata": {
        "colab": {
          "base_uri": "https://localhost:8080/"
        },
        "id": "iBqMBF_X0ouo",
        "outputId": "ce4f2d40-1de8-4d83-849a-198d054ce637"
      },
      "id": "iBqMBF_X0ouo",
      "execution_count": null,
      "outputs": [
        {
          "output_type": "stream",
          "name": "stdout",
          "text": [
            "-------------------------------------------------------\n",
            "Exercise12: Discount Calculator 2\n",
            "-------------------------------------------------------\n",
            "Enter the Cost of the item:180\n",
            "Enter the Brand: NOSY\n",
            "You will pay:  205.2 dollars\n"
          ]
        }
      ]
    },
    {
      "cell_type": "markdown",
      "id": "0c2e3a1b",
      "metadata": {
        "id": "0c2e3a1b"
      },
      "source": [
        "<a id=\"m\"></a>\n",
        "[Index](#index)\n",
        "### Exercise 13\n",
        "\n",
        "Create an algorithm that, given a date in the year 2000 (represented by\n",
        "the day, month and year in numerical format dd/mm/yyyy), calculates the following day."
      ]
    },
    {
      "cell_type": "code",
      "execution_count": null,
      "id": "9574496f",
      "metadata": {
        "id": "9574496f",
        "colab": {
          "base_uri": "https://localhost:8080/"
        },
        "outputId": "9bb4b237-318a-4f16-a434-719469e5e286"
      },
      "outputs": [
        {
          "output_type": "stream",
          "name": "stdout",
          "text": [
            "-------------------------------------------------------\n",
            "Exercise13: Date Calculator\n",
            "-------------------------------------------------------\n",
            "Enter the day: 28\n",
            "Enter the month: 10\n",
            "Enter the year: 2024\n",
            "The next day is: 29/10/2024\n"
          ]
        }
      ],
      "source": [
        "# Decoration: Algorithm Name\n",
        "print(\"-------------------------------------------------------\")\n",
        "print(\"Exercise13: Date Calculator\")\n",
        "print(\"-------------------------------------------------------\")\n",
        "\n",
        "# Define a function to check if a year is a leap year.\n",
        "def is_leap_year(year):\n",
        "  return (year % 4 == 0 and year % 100 != 0) or year % 400 == 0\n",
        "\n",
        "# Define a function to calculate the next day.\n",
        "def next_day(day, month):\n",
        "  # Check if the date is valid.\n",
        "  if not (1 <= day <= 31 and 1 <= month <= 12 ):\n",
        "    return None\n",
        "\n",
        "  # Calculate the number of days in the month.\n",
        "  days_in_month = [31, 28, 31, 30, 31, 30, 31, 31, 30, 31, 30, 31]\n",
        "  if month == 2 and is_leap_year(year):\n",
        "    days_in_month[1] = 29\n",
        "\n",
        "  # Calculate the next day.\n",
        "  next_day = day + 1\n",
        "  next_month = month\n",
        "  next_year = year\n",
        "  if next_day > days_in_month[month - 1]:\n",
        "    next_day = 1\n",
        "    next_month += 1\n",
        "    if next_month > 12:\n",
        "      next_month = 1\n",
        "      next_year += 1\n",
        "\n",
        "  # Return the next day.\n",
        "  return next_day, next_month, next_year\n",
        "\n",
        "# Get the input date.\n",
        "day = int(input(\"Enter the day: \"))\n",
        "month = int(input(\"Enter the month: \"))\n",
        "year = int(input(\"Enter the year: \"))\n",
        "\n",
        "# Calculate the next day.\n",
        "next_day, next_month, next_year = next_day(day, month)\n",
        "\n",
        "# Print the next day.\n",
        "print(f\"The next day is: {next_day}/{next_month}/{next_year}\")\n"
      ]
    },
    {
      "cell_type": "markdown",
      "id": "fc1bd56e",
      "metadata": {
        "id": "fc1bd56e"
      },
      "source": [
        "<a id=\"n\"></a>\n",
        "[Index](#index)\n",
        "### Exercise 14\n",
        "    \n",
        "Create an algorithm that calculates the meeting time of 2 vehicles going in opposite directions, taking as data the initial distance that separates them and the speed of each one. It assumes that the movement is uniformly rectilinear."
      ]
    },
    {
      "cell_type": "code",
      "execution_count": 4,
      "id": "1550ea54",
      "metadata": {
        "id": "1550ea54",
        "colab": {
          "base_uri": "https://localhost:8080/"
        },
        "outputId": "18646763-211a-4deb-c9b7-af2d4afc087a"
      },
      "outputs": [
        {
          "output_type": "stream",
          "name": "stdout",
          "text": [
            "-------------------------------------------------------\n",
            "Exercise14: Meeting time Calculator\n",
            "-------------------------------------------------------\n",
            "Enter the initial distance: 78\n",
            "Enter the speed of the first vehicle: 17\n",
            "Enter the speed of the second vehicle: 78\n",
            "The meeting time is: 0.8210526315789474 hours\n"
          ]
        }
      ],
      "source": [
        "# Decoration: Algorithm Name\n",
        "print(\"-------------------------------------------------------\")\n",
        "print(\"Exercise14: Meeting time Calculator\")\n",
        "print(\"-------------------------------------------------------\")\n",
        "\n",
        "# Define a function to calculate the meeting time.\n",
        "def meeting_time(distance, speed1, speed2):\n",
        "  if speed1 >= 0 and speed2 >= 0:\n",
        "    # Calculate the relative speed.\n",
        "    relative_speed = speed1 + speed2\n",
        "    # Calculate the meeting time.\n",
        "    time = distance / relative_speed\n",
        "  # Return the meeting time.\n",
        "    return time\n",
        "  else:\n",
        "    return None\n",
        "\n",
        "# Get the input data.\n",
        "distance = float(input(\"Enter the initial distance: \"))\n",
        "speed1 = float(input(\"Enter the speed of the first vehicle: \"))\n",
        "speed2 = float(input(\"Enter the speed of the second vehicle: \"))\n",
        "\n",
        "# Calculate the meeting time.\n",
        "time = meeting_time(distance, speed1, speed2)\n",
        "\n",
        "# Print the meeting time.\n",
        "print(f\"The meeting time is: {time} hours\")\n"
      ]
    },
    {
      "cell_type": "markdown",
      "id": "3331f67c",
      "metadata": {
        "id": "3331f67c"
      },
      "source": [
        "<a id=\"o\"></a>\n",
        "[Index](#index)\n",
        "### Exercise 15\n",
        "    \n",
        "Read three integers and, if the first one is negative, calculate the product of the three, otherwise calculate the sum of them."
      ]
    },
    {
      "cell_type": "code",
      "execution_count": 7,
      "id": "0d82fbbb",
      "metadata": {
        "id": "0d82fbbb",
        "colab": {
          "base_uri": "https://localhost:8080/"
        },
        "outputId": "0d99999f-27a6-49fd-dcfe-732de37318f6"
      },
      "outputs": [
        {
          "output_type": "stream",
          "name": "stdout",
          "text": [
            "-------------------------------------------------------\n",
            "Exercise15: Numbers\n",
            "-------------------------------------------------------\n",
            "Enter the first number: 7\n",
            "Enter the second number: 8\n",
            "Enter the third number: 9\n",
            "The result is: 24\n"
          ]
        }
      ],
      "source": [
        "# Decoration: Algorithm Name\n",
        "print(\"-------------------------------------------------------\")\n",
        "print(\"Exercise15: Numbers\")\n",
        "print(\"-------------------------------------------------------\")\n",
        "\n",
        "# Define a function to resolve the exercise.\n",
        "def numbers(num1, num2, num3):\n",
        "  if num1 < 0:\n",
        "    result = num1 * num2 * num3\n",
        "  else:\n",
        "    result = num1 + num2 + num3\n",
        "  return result\n",
        "\n",
        "# Get the input data.\n",
        "num1= int(input(\"Enter the first number: \"))\n",
        "num2= int(input(\"Enter the second number: \"))\n",
        "num3= int(input(\"Enter the third number: \"))\n",
        "\n",
        "# Resolve the exercise.\n",
        "\n",
        "result = numbers(num1, num2, num3)\n",
        "\n",
        "# Print the result.\n",
        "print(f\"The result is: {result}\")"
      ]
    },
    {
      "cell_type": "markdown",
      "id": "5e3a7d15",
      "metadata": {
        "id": "5e3a7d15"
      },
      "source": [
        "<a id=\"p\"></a>\n",
        "[Index](#index)\n",
        "### Exercise 16\n",
        "    \n",
        "Calculate the real roots of a quadratic function. The form of a quadratic function is Ax2 + Bx + C, for this case the value of the discriminant must be taken into account. For the algorithm, the roots are calculated if the discriminant is greater than ZERO. Otherwise, the vertex of the parabola and its imaginary roots are calculated."
      ]
    },
    {
      "cell_type": "code",
      "execution_count": 27,
      "id": "2c661863",
      "metadata": {
        "id": "2c661863",
        "colab": {
          "base_uri": "https://localhost:8080/"
        },
        "outputId": "1a4a0e57-5076-4e07-f52b-491ecde43349"
      },
      "outputs": [
        {
          "output_type": "stream",
          "name": "stdout",
          "text": [
            "-------------------------------------------------------\n",
            "Exercise16: Roots of quadratic functions\n",
            "-------------------------------------------------------\n",
            "Enter the first number: 1\n",
            "Enter the second number: 5\n",
            "Enter the third number: 6\n",
            "The roots are -2.0 and -3.0. The vertex is (-2.5, 0.25)\n"
          ]
        }
      ],
      "source": [
        "import math\n",
        "import cmath\n",
        "\n",
        "# Decoration: Algorithm Name\n",
        "print(\"-------------------------------------------------------\")\n",
        "print(\"Exercise16: Roots of quadratic functions\")\n",
        "print(\"-------------------------------------------------------\")\n",
        "\n",
        "# Define a function to resolve the exercise.\n",
        "def roots(a, b, c):\n",
        "  d= b**2 - 4*a*c\n",
        "\n",
        "  if d >= 0:\n",
        "    x1 = (-b + math.sqrt(d)) / (2 * a)\n",
        "    x2 = (-b - math.sqrt(d)) / (2 * a)\n",
        "    h = -b / (2 * a)\n",
        "    k = -(c - (b**2/4*a))\n",
        "    print(f\"The roots are {x1} and {x2}. The vertex is ({h}, {k})\")\n",
        "  else:\n",
        "    h = -b / (2 * a)\n",
        "    k = (c - b**2/4*a)\n",
        "    z = cmath.sqrt(b**2 - 4 * a * c)/(2 * a)\n",
        "    x3 = h + z\n",
        "    x4 = h - z\n",
        "    print(f\"The roots are {x3} and {x4}. The vertex is ({h}, {k})\")\n",
        "\n",
        "# Get the input data.\n",
        "a= int(input(\"Enter the first number: \"))\n",
        "b= int(input(\"Enter the second number: \"))\n",
        "c= int(input(\"Enter the third number: \"))\n",
        "\n",
        "# Resolve the exercise.\n",
        "roots(a, b, c)\n",
        "\n",
        "# Print the result"
      ]
    },
    {
      "cell_type": "markdown",
      "id": "b16186fc",
      "metadata": {
        "id": "b16186fc"
      },
      "source": [
        "<a id=\"q\"></a>\n",
        "[Index](#index)\n",
        "### Exercise 17\n",
        "\n",
        "Make an algorithm that allows the calculation of the area of a circle or an equilateral triangle according to the option selected by the user through a menu, in addition the additional data required for the calculation of the area must be entered."
      ]
    },
    {
      "cell_type": "code",
      "execution_count": 32,
      "id": "ec04d84f",
      "metadata": {
        "id": "ec04d84f",
        "colab": {
          "base_uri": "https://localhost:8080/"
        },
        "outputId": "2c470366-839f-45c8-cd38-5e4299fc4084"
      },
      "outputs": [
        {
          "output_type": "stream",
          "name": "stdout",
          "text": [
            "-------------------------------------------------------\n",
            "Exercise17: Area calculator\n",
            "-------------------------------------------------------\n",
            "Enter the geometric figure: 100\n",
            "Invalid input\n"
          ]
        }
      ],
      "source": [
        "import math\n",
        "\n",
        "# Decoration: Algorithm Name\n",
        "print(\"-------------------------------------------------------\")\n",
        "print(\"Exercise17: Area calculator\")\n",
        "print(\"-------------------------------------------------------\")\n",
        "\n",
        "# Define a function to resolve the exercise.\n",
        "\n",
        "a= int(input(\"Enter the geometric figure: \"))\n",
        "\n",
        "def area(geometric_figure):\n",
        "  # Get the input data.\n",
        "  if geometric_figure == 1:\n",
        "    r= int(input(\"Enter the radius: \"))\n",
        "    area = math.pi * r**2\n",
        "    print(f\"The area is: {area}\")\n",
        "\n",
        "  elif geometric_figure == 2:\n",
        "    b= int(input(\"Enter the base: \"))\n",
        "    h= int(input(\"Enter the height: \"))\n",
        "    area = (b*h)/2\n",
        "    print(f\"The area is: {area}\")\n",
        "\n",
        "  else:\n",
        "    print(\"Invalid input\")\n",
        "\n",
        "\n",
        "# Resolve the exercise.\n",
        "\n",
        "area(a)\n",
        "\n",
        "# Print the result"
      ]
    }
  ],
  "metadata": {
    "kernelspec": {
      "display_name": "Python 3 (ipykernel)",
      "language": "python",
      "name": "python3"
    },
    "language_info": {
      "codemirror_mode": {
        "name": "ipython",
        "version": 3
      },
      "file_extension": ".py",
      "mimetype": "text/x-python",
      "name": "python",
      "nbconvert_exporter": "python",
      "pygments_lexer": "ipython3",
      "version": "3.11.2"
    },
    "colab": {
      "provenance": []
    }
  },
  "nbformat": 4,
  "nbformat_minor": 5
}