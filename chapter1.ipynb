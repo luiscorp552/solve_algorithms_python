{
 "cells": [
  {
   "cell_type": "code",
   "execution_count": null,
   "id": "10b5eaae",
   "metadata": {},
   "outputs": [],
   "source": []
  },
  {
   "cell_type": "markdown",
   "id": "e6391d4a",
   "metadata": {},
   "source": [
    "# Chapter 1. Basic instructions in an algorithm"
   ]
  },
  {
   "cell_type": "markdown",
   "id": "29bb4b8b",
   "metadata": {},
   "source": [
    "## Content\n",
    "<a id=\"index\">Content:</a>\n",
    "1. [Exercise 1](#a)\n",
    "2. [Exercise 2](#b)\n",
    "3. [Exercise 3](#c)\n",
    "4. [Exercise 4](#d)\n",
    "5. [Exercise 5](#e)\n",
    "6. [Exercise 6](#f)\n",
    "7. [Exercise 7](#g)\n",
    "8. [Exercise 8](#h)\n",
    "9. [Exercise 9](#i)\n",
    "10. [Exercise 10](#j)\n",
    "11. [Exercise 11](#k)\n",
    "12. [Exercise 12](#l)\n",
    "13. [Exercise 13](#m)\n",
    "14. [Exercise 14](#n)\n",
    "15. [Exercise 15](#o)\n",
    "16. [Exercise 16](#p)\n",
    "17. [Exercise 17](#q)\n",
    "18. [Exercise 18](#r)\n",
    "19. [Exercise 19](#s)\n",
    "20. [Exercise 20](#t)\n"
   ]
  },
  {
   "cell_type": "markdown",
   "id": "be5f58f1",
   "metadata": {},
   "source": [
    "<a id=\"a\"></a>\n",
    "[Index](#index)\n",
    "### Exercise 1\n",
    "\n",
    "We want to calculate the distance traveled (m) by a moving object with a constant velocity (m/s) during a time t (s). We will consider that it is a URM (Uniform Rectilinear Motion)."
   ]
  },
  {
   "cell_type": "code",
   "execution_count": 4,
   "id": "895a2814",
   "metadata": {},
   "outputs": [
    {
     "name": "stdout",
     "output_type": "stream",
     "text": [
      "-------------------------------------------------------\n",
      "Exercise1: CALCULATE DISTANCE.\n",
      "-------------------------------------------------------\n",
      "Enter the speed and time of the moving unit\n",
      "Speed: 25\n",
      "Time: 78\n",
      "The distance is:  1950.0\n"
     ]
    }
   ],
   "source": [
    "print(\"-------------------------------------------------------\")\n",
    "print(\"Exercise1: CALCULATE DISTANCE.\")\n",
    "print(\"-------------------------------------------------------\")\n",
    "#INPUTS\n",
    "print(\"Enter the speed and time of the moving unit\")\n",
    "\n",
    "V = float( input(\"Speed: \") )\n",
    "T = int( input(\"Time: \") )\n",
    "\n",
    "#Process\n",
    "D = V*T\n",
    "\n",
    "#Output\n",
    "print(\"The distance is: \", D)"
   ]
  },
  {
   "cell_type": "markdown",
   "id": "5b136076",
   "metadata": {},
   "source": [
    "<a id=\"b\"></a>\n",
    "[Index](#index)\n",
    "### Exercise 2\n",
    "\n",
    "We need to calculate the simple average of a student's three partial grades N1, N2, and N3."
   ]
  },
  {
   "cell_type": "code",
   "execution_count": 6,
   "id": "63a9746b",
   "metadata": {},
   "outputs": [
    {
     "name": "stdout",
     "output_type": "stream",
     "text": [
      "-------------------------------------------------------\n",
      "Exercise2: Mean of 3 notes.\n",
      "-------------------------------------------------------\n",
      "Enter the 3 notes of the student N1 , N2, N3\n",
      "N1: 17\n",
      "N2: 18\n",
      "N3: 14\n",
      "\n",
      "Output: \n",
      "The mean of 3 notes is:  16\n"
     ]
    }
   ],
   "source": [
    "print(\"-------------------------------------------------------\")\n",
    "print(\"Exercise2: Mean of 3 notes.\")\n",
    "print(\"-------------------------------------------------------\")\n",
    "\n",
    "#Inputs\n",
    "print(\"Enter the 3 notes of the student N1 , N2, N3\")\n",
    "N1 = int( input(\"N1: \"))\n",
    "N2 = int( input(\"N2: \"))\n",
    "N3 = int( input(\"N3: \"))\n",
    "\n",
    "#Process\n",
    "P = int( (N1+N2+N3)/3 )\n",
    "\n",
    "#Output\n",
    "print(\"\\nOutput: \")\n",
    "print(\"The mean of 3 notes is: \",P)"
   ]
  },
  {
   "cell_type": "markdown",
   "id": "cf1b2b10",
   "metadata": {},
   "source": [
    "<a id=\"c\"></a>\n",
    "[Index](#index)\n",
    "### Exercise 3\n",
    "\n",
    "An algorithm is needed to request the number of correct, incorrect, and blank answers for each applicant, and to display their final score, considering that each correct answer will be worth 3 points, incorrect answers will be worth -1 points, and blank answers will be worth 0 points."
   ]
  },
  {
   "cell_type": "code",
   "execution_count": 1,
   "id": "1738fb26",
   "metadata": {},
   "outputs": [
    {
     "name": "stdout",
     "output_type": "stream",
     "text": [
      "-------------------------------------------------------\n",
      "Exercise3: FINAL SCORE.\n",
      "-------------------------------------------------------\n",
      "Enter number of correct answers: \n",
      "8\n",
      "Enter number of incorrect answers: \n",
      "4\n",
      "Enter number of blank answers: \n",
      "9\n",
      "The final score is:  20\n"
     ]
    }
   ],
   "source": [
    "print(\"-------------------------------------------------------\")\n",
    "print(\"Exercise3: FINAL SCORE.\")\n",
    "print(\"-------------------------------------------------------\")\n",
    "\n",
    "#Inputs\n",
    "print(\"Enter number of correct answers: \")\n",
    "RC = int( input())\n",
    "print(\"Enter number of incorrect answers: \")\n",
    "RI = int( input())\n",
    "print(\"Enter number of blank answers: \")\n",
    "RB = int( input())\n",
    "\n",
    "#Process\n",
    "PCR = RC*3\n",
    "PRI = RI*-1\n",
    "PRB = RB*0\n",
    "\n",
    "PF = PCR + PRI + PRB\n",
    "\n",
    "#Outputs\n",
    "print(\"The final score is: \", PF)"
   ]
  },
  {
   "cell_type": "markdown",
   "id": "35a4d5ae",
   "metadata": {},
   "source": [
    "<a id=\"d\"></a>\n",
    "[Index](#index)\n",
    "### Exercise 4\n",
    "\n",
    "Develop an algorithm that allows you to enter the number of games won, lost, and tied by ABC club in the Apertura tournament. The total score should be displayed, taking into account that for each game won, you will get 3 points, tied 1 point, and lost 0 points."
   ]
  },
  {
   "cell_type": "code",
   "execution_count": 2,
   "id": "0f371ddb",
   "metadata": {},
   "outputs": [
    {
     "name": "stdout",
     "output_type": "stream",
     "text": [
      "-------------------------------------------------------\n",
      "Exercise4: TOTAL SCORE OF GAMES.\n",
      "-------------------------------------------------------\n",
      "Enter number of games won\n",
      "4\n",
      "Enter number of games tied\n",
      "8\n",
      "Enter number of games lost\n",
      "9\n",
      "\n",
      "OUTPUT: \n",
      "-------------------------------------------------------\n",
      "Final Score:  20\n"
     ]
    }
   ],
   "source": [
    "print(\"-------------------------------------------------------\")\n",
    "print(\"Exercise4: TOTAL SCORE OF GAMES.\")\n",
    "print(\"-------------------------------------------------------\")\n",
    "\n",
    "#Inputs\n",
    "print(\"Enter number of games won\")\n",
    "PG = int( input())\n",
    "print(\"Enter number of games tied\")\n",
    "PE = int( input())\n",
    "print(\"Enter number of games lost\")\n",
    "PP = int( input())\n",
    "\n",
    "#Process\n",
    "PPG = PG*3\n",
    "PPE = PE*1\n",
    "PPP = PP*0\n",
    "PF = PPG + PPE + PPP\n",
    "\n",
    "#Output\n",
    "print(\"\\nOUTPUT: \")\n",
    "print(\"-------------------------------------------------------\")\n",
    "print(\"Final Score: \", PF)"
   ]
  },
  {
   "cell_type": "markdown",
   "id": "f9a53c9e",
   "metadata": {},
   "source": [
    "<a id=\"e\"></a>\n",
    "[Index](#index)\n",
    "### Exercise 5\n",
    "\n",
    "Develop an algorithm to calculate the number of 3.5-inch floppy disks needed to make a backup of the information stored on a hard drive whose capacity is known. It is necessary to consider that the hard drive is full of information, in addition to being expressed in gigabytes. A floppy disk has 1.44 megabytes and a gigabyte is equal to 1,024 megabytes."
   ]
  },
  {
   "cell_type": "code",
   "execution_count": 2,
   "id": "3760fc88",
   "metadata": {},
   "outputs": [
    {
     "name": "stdout",
     "output_type": "stream",
     "text": [
      "-------------------------------------------------------\n",
      "Exercise5: Number of 3.5-inch floppy disks needed\n",
      "-------------------------------------------------------\n",
      "Enter GB: \n",
      "4\n",
      "\n",
      "OUTPUT: \n",
      "-------------------------------------------------------\n",
      "2844.4444444444443\n",
      "Number of 3.5-inch floppy disks needed is:  2845\n"
     ]
    }
   ],
   "source": [
    "import math\n",
    "\n",
    "print(\"-------------------------------------------------------\")\n",
    "print(\"Exercise5: Number of 3.5-inch floppy disks needed\")\n",
    "print(\"-------------------------------------------------------\")\n",
    "\n",
    "#Inputs\n",
    "print(\"Enter GB: \")\n",
    "GB = float( input())\n",
    "\n",
    "#Process\n",
    "MG = GB*1024\n",
    "MD = MG/1.44\n",
    "\n",
    "#Outputs\n",
    "print(\"\\nOUTPUT: \")\n",
    "print(\"-------------------------------------------------------\")\n",
    "print(MD)\n",
    "\n",
    "#The math.ceil function rounds the result to the next highest integer.\n",
    "print(\"Number of 3.5-inch floppy disks needed is: \", math.ceil(MD))"
   ]
  },
  {
   "cell_type": "markdown",
   "id": "c1eb2f12",
   "metadata": {},
   "source": [
    "<a id=\"f\"></a>\n",
    "[Index](#index)\n",
    "### Exercise 6\n",
    "\n",
    "Given points A and B in the positive quadrant of the Cartesian plane, develop the algorithm to obtain the distance between A and B."
   ]
  },
  {
   "cell_type": "code",
   "execution_count": 3,
   "id": "a9e53e51",
   "metadata": {},
   "outputs": [
    {
     "name": "stdout",
     "output_type": "stream",
     "text": [
      "-------------------------------------------------------\n",
      "Exercise6: DISTANCE BETWEEN 2 POINTS A AND B, IN 2D.\n",
      "-------------------------------------------------------\n",
      "Enter coordinates of Point A: \n",
      "Ax: 0\n",
      "Ay: 0\n",
      "Enter coordinates of Point B: \n",
      "Bx: 1\n",
      "By: 1\n",
      "\n",
      "OUTPUTS: \n",
      "-------------------------------------------------------\n",
      "Result: 1.4142135623730951\n"
     ]
    }
   ],
   "source": [
    "print(\"-------------------------------------------------------\")\n",
    "print(\"Exercise6: DISTANCE BETWEEN 2 POINTS A AND B, IN 2D.\")\n",
    "print(\"-------------------------------------------------------\")\n",
    "\n",
    "#INPUTS\n",
    "print(\"Enter coordinates of Point A: \")\n",
    "AX = float(input(\"Ax: \"))\n",
    "AY = float(input(\"Ay: \"))\n",
    "print(\"Enter coordinates of Point B: \")\n",
    "BX = float(input(\"Bx: \"))\n",
    "BY = float(input(\"By: \"))\n",
    "\n",
    "#Process\n",
    "D = ( (AX-BX)**2 + (AY-BY)**2 )**0.5\n",
    "\n",
    "#OUTPUTS\n",
    "print(\"\\nOUTPUTS: \")\n",
    "print(\"-------------------------------------------------------\")\n",
    "print(\"Result:\", D)"
   ]
  },
  {
   "cell_type": "markdown",
   "id": "6eb68ab5",
   "metadata": {},
   "source": [
    "<a id=\"g\"></a>\n",
    "[Index](#index)\n",
    "### Exercise 7\n",
    "\n",
    "Develop an algorithm that requests 2 numbers and displays the average of both."
   ]
  },
  {
   "cell_type": "code",
   "execution_count": 4,
   "id": "021a3752",
   "metadata": {},
   "outputs": [
    {
     "name": "stdout",
     "output_type": "stream",
     "text": [
      "-------------------------------------------------------\n",
      "Exercise8: AVERAGE OF TWO NUMBERS.\n",
      "-------------------------------------------------------\n",
      "ENTER NOTES: \n",
      "N1: 36\n",
      "N2: 34\n",
      "\n",
      "OUTPUTS: \n",
      "-------------------------------------------------------\n",
      "Average: 35.0\n"
     ]
    }
   ],
   "source": [
    "print(\"-------------------------------------------------------\")\n",
    "print(\"Exercise7: AVERAGE OF TWO NUMBERS.\")\n",
    "print(\"-------------------------------------------------------\")\n",
    "\n",
    "#INPUTS\n",
    "print(\"ENTER NOTES: \")\n",
    "N1 = int( input(\"N1: \"))\n",
    "N2 = int( input(\"N2: \"))\n",
    "\n",
    "#ProcesS\n",
    "S = N1 + N2\n",
    "P = S/2\n",
    "\n",
    "#OUTPUTS\n",
    "print(\"\\nOUTPUTS: \")\n",
    "print(\"-------------------------------------------------------\")\n",
    "print(\"Average:\", P)"
   ]
  },
  {
   "cell_type": "markdown",
   "id": "0390aacc",
   "metadata": {},
   "source": [
    "<a id=\"h\"></a>\n",
    "[Index](#index)\n",
    "### Exercise 8\n",
    "\n",
    "Build a flowchart that, given the base and height of a rectangle as input, calculates the perimeter and area of it."
   ]
  },
  {
   "cell_type": "code",
   "execution_count": 5,
   "id": "2acf814e",
   "metadata": {},
   "outputs": [
    {
     "name": "stdout",
     "output_type": "stream",
     "text": [
      "-------------------------------------------------------\n",
      "Exercise8: PERIMETER AND AREA OF A RECTANGLE.\n",
      "-------------------------------------------------------\n",
      "ENTER BASE AND HEIGHT: \n",
      "BASE: 2\n",
      "HEIGHT: 4\n",
      "\n",
      "OUTPUTS: \n",
      "-------------------------------------------------------\n",
      "AREA: 8\n",
      "PERIMETER: 12\n"
     ]
    }
   ],
   "source": [
    "print(\"-------------------------------------------------------\")\n",
    "print(\"Exercise8: PERIMETER AND AREA OF A RECTANGLE.\")\n",
    "print(\"-------------------------------------------------------\")\n",
    "\n",
    "#INPUTS\n",
    "print(\"ENTER BASE AND HEIGHT: \")\n",
    "B = int( input(\"BASE: \"))\n",
    "H = int( input(\"HEIGHT: \"))\n",
    "\n",
    "#ProcesS\n",
    "A = B*H\n",
    "P = 2*B+2*H\n",
    "\n",
    "#OUTPUTS\n",
    "print(\"\\nOUTPUTS: \")\n",
    "print(\"-------------------------------------------------------\")\n",
    "print(\"AREA:\", A)\n",
    "print(\"PERIMETER:\", P)"
   ]
  },
  {
   "cell_type": "markdown",
   "id": "755626ca",
   "metadata": {},
   "source": [
    "<a id=\"i\"></a>\n",
    "[Index](#index)\n",
    "### Exercise 9\n",
    "\n",
    "Build a flowchart to solve a problem a gas station has. The gas station's dispensers dispense gasoline in gallons, but the price of gasoline is fixed in liters. The flowchart must calculate and print the amount to charge the customer."
   ]
  },
  {
   "cell_type": "code",
   "execution_count": 4,
   "id": "029f07ed",
   "metadata": {},
   "outputs": [
    {
     "name": "stdout",
     "output_type": "stream",
     "text": [
      "-------------------------------------------------------\n",
      "Exercise9: Gas Station\n",
      "-------------------------------------------------------\n",
      "ENTER GALLONS AND PRICE: \n",
      "Enter gallons of gas: 4.56\n",
      "Enter price of gas $/l: 1.56\n",
      "\n",
      "OUTPUTS: \n",
      "-------------------------------------------------------\n",
      "Amount of liters: 17.26\n",
      "Total price: 26.93\n"
     ]
    }
   ],
   "source": [
    "print(\"-------------------------------------------------------\")\n",
    "print(\"Exercise9: Gas Station\")\n",
    "print(\"-------------------------------------------------------\")\n",
    "\n",
    "#INPUTS\n",
    "print(\"ENTER GALLONS AND PRICE: \")\n",
    "g_gas = float( input(\"Enter gallons of gas: \"))\n",
    "price = float( input(\"Enter price of gas $/l: \"))\n",
    "\n",
    "#ProcesS\n",
    "l_gas = g_gas*(3.785411784)\n",
    "amount = l_gas*price\n",
    "\n",
    "l = round(l_gas, 2)\n",
    "a = round(amount, 2)\n",
    "\n",
    "#OUTPUTS\n",
    "print(\"\\nOUTPUTS: \")\n",
    "print(\"-------------------------------------------------------\")\n",
    "print(\"Amount of liters:\", l)\n",
    "print(\"Total price:\", a)"
   ]
  },
  {
   "cell_type": "markdown",
   "id": "238fd02a",
   "metadata": {},
   "source": [
    "<a id=\"j\"></a>\n",
    "[Index](#index)\n",
    "### Exercise 10\n",
    "\n",
    "Build a flowchart to calculate and print the area and volume of a cylinder given the radius and height."
   ]
  },
  {
   "cell_type": "code",
   "execution_count": 4,
   "id": "66fa46a1",
   "metadata": {},
   "outputs": [
    {
     "name": "stdout",
     "output_type": "stream",
     "text": [
      "-------------------------------------------------------\n",
      "Exercise10: Volume of a cylinder\n",
      "-------------------------------------------------------\n",
      "ENTER HEIGHT AND RADIUS: \n",
      "Enter height: 4\n",
      "Enter radius: 3\n",
      "\n",
      "OUTPUTS: \n",
      "-------------------------------------------------------\n",
      "Area:  131.94689145077132\n",
      "Volume: 113.09733552923255\n"
     ]
    }
   ],
   "source": [
    "import math\n",
    "\n",
    "print(\"-------------------------------------------------------\")\n",
    "print(\"Exercise10: Volume of a cylinder\")\n",
    "print(\"-------------------------------------------------------\")\n",
    "\n",
    "#INPUTS\n",
    "print(\"ENTER HEIGHT AND RADIUS: \")\n",
    "height= float( input(\"Enter height: \"))\n",
    "radius = float( input(\"Enter radius: \"))\n",
    "\n",
    "#Process\n",
    "area_cil = 2*(math.pi)*radius*(radius+height)\n",
    "area= (math.pi)*radius*radius\n",
    "volume = area*height\n",
    "\n",
    "\n",
    "#OUTPUTS\n",
    "print(\"\\nOUTPUTS: \")\n",
    "print(\"-------------------------------------------------------\")\n",
    "print(\"Area: \", area_cil)\n",
    "print(\"Volume:\", volume)"
   ]
  },
  {
   "cell_type": "markdown",
   "id": "219f7401",
   "metadata": {},
   "source": [
    "<a id=\"k\"></a>\n",
    "[Index](#index)\n",
    "### Exercise 11\n",
    "\n",
    "Given the radius of a circle, calculate the volume of the corresponding sphere."
   ]
  },
  {
   "cell_type": "code",
   "execution_count": 3,
   "id": "4d8ecfd7",
   "metadata": {},
   "outputs": [
    {
     "name": "stdout",
     "output_type": "stream",
     "text": [
      "-------------------------------------------------------\n",
      "Exercise11: Volume of a sphere\n",
      "-------------------------------------------------------\n",
      "ENTER RADIUS: \n",
      "Enter radius: 1\n",
      "\n",
      "OUTPUTS: \n",
      "-------------------------------------------------------\n",
      "Volume: 4.1887902047863905\n"
     ]
    }
   ],
   "source": [
    "import math\n",
    "\n",
    "print(\"-------------------------------------------------------\")\n",
    "print(\"Exercise11: Volume of a sphere\")\n",
    "print(\"-------------------------------------------------------\")\n",
    "\n",
    "#INPUTS\n",
    "print(\"ENTER RADIUS: \")\n",
    "radius = float( input(\"Enter radius: \"))\n",
    "\n",
    "#Process\n",
    "volume = (4/3)*(math.pi)*radius**3\n",
    "\n",
    "\n",
    "#OUTPUTS\n",
    "print(\"\\nOUTPUTS: \")\n",
    "print(\"-------------------------------------------------------\")\n",
    "print(\"Volume:\", volume)"
   ]
  },
  {
   "cell_type": "markdown",
   "id": "1c39adb7",
   "metadata": {},
   "source": [
    "<a id=\"l\"></a>\n",
    "[Index](#index)\n",
    "### Exercise 12\n",
    "\n",
    "Calculate the perimeter of an equilateral triangle, given the height of the triangle as input."
   ]
  },
  {
   "cell_type": "code",
   "execution_count": 4,
   "id": "34d2f55f",
   "metadata": {},
   "outputs": [
    {
     "name": "stdout",
     "output_type": "stream",
     "text": [
      "-------------------------------------------------------\n",
      "Exercise12: Perimeter of a equilateral triangle\n",
      "-------------------------------------------------------\n",
      "ENTER HEIGHT: \n",
      "Enter height: 1\n",
      "\n",
      "OUTPUTS: \n",
      "-------------------------------------------------------\n",
      "Perimeter: 3.4641016151377544\n"
     ]
    }
   ],
   "source": [
    "import math\n",
    "\n",
    "print(\"-------------------------------------------------------\")\n",
    "print(\"Exercise12: Perimeter of a equilateral triangle\")\n",
    "print(\"-------------------------------------------------------\")\n",
    "\n",
    "#INPUTS\n",
    "print(\"ENTER HEIGHT: \")\n",
    "h = float( input(\"Enter height: \"))\n",
    "\n",
    "#Process\n",
    "per = 2*3**(0.5)*h\n",
    "\n",
    "\n",
    "#OUTPUTS\n",
    "print(\"\\nOUTPUTS: \")\n",
    "print(\"-------------------------------------------------------\")\n",
    "print(\"Perimeter:\", per)"
   ]
  },
  {
   "cell_type": "markdown",
   "id": "0c2e3a1b",
   "metadata": {},
   "source": [
    "<a id=\"m\"></a>\n",
    "[Index](#index)\n",
    "### Exercise 13\n",
    "\n",
    "Given an amount in bolivars, give its equivalent in dollars and then in euros. It is known that 1 dollar = 34.82 bolivars and 1 euro = 36.72 bolivars."
   ]
  },
  {
   "cell_type": "code",
   "execution_count": 8,
   "id": "9574496f",
   "metadata": {},
   "outputs": [
    {
     "name": "stdout",
     "output_type": "stream",
     "text": [
      "-------------------------------------------------------\n",
      "Exercise13: Conversor of currencies\n",
      "-------------------------------------------------------\n",
      "ENTER AN AMOUNT IN BOLIVARS: \n",
      "Enter BOLIVARS: 69.64\n",
      "One dollar today is: 34.82\n",
      "One euro today is: 36.72\n",
      "\n",
      "OUTPUTS: \n",
      "-------------------------------------------------------\n",
      "In 69.64 Bolivars there are: 2.0 dollars or  1.9 euros\n"
     ]
    }
   ],
   "source": [
    "print(\"-------------------------------------------------------\")\n",
    "print(\"Exercise13: Conversor of currencies\")\n",
    "print(\"-------------------------------------------------------\")\n",
    "\n",
    "#INPUTS\n",
    "print(\"ENTER AN AMOUNT IN BOLIVARS: \")\n",
    "bs = float( input(\"Enter BOLIVARS: \"))\n",
    "dol = float( input(\"One dollar today is: \"))\n",
    "eur = float( input(\"One euro today is: \"))\n",
    "\n",
    "#Process\n",
    "\n",
    "tdol = bs/dol\n",
    "teur = bs/eur\n",
    "\n",
    "rdol = round(tdol, 2)\n",
    "reur = round(teur, 2)\n",
    "\n",
    "#OUTPUTS\n",
    "print(\"\\nOUTPUTS: \")\n",
    "print(\"-------------------------------------------------------\")\n",
    "print(\"In\", bs, \"Bolivars there are:\", rdol, \"dollars or \", reur, \"euros\")"
   ]
  },
  {
   "cell_type": "markdown",
   "id": "fc1bd56e",
   "metadata": {},
   "source": [
    "<a id=\"n\"></a>\n",
    "[Index](#index)\n",
    "### Exercise 14\n",
    "    \n",
    "Given the time in seconds and the distance in meters traveled by a mobile device, input by keyboard, calculate the corresponding speed."
   ]
  },
  {
   "cell_type": "code",
   "execution_count": 11,
   "id": "1550ea54",
   "metadata": {},
   "outputs": [
    {
     "name": "stdout",
     "output_type": "stream",
     "text": [
      "-------------------------------------------------------\n",
      "Exercise14: Calculator of speed\n",
      "-------------------------------------------------------\n",
      "ENTER TIME AND DISTANCE: \n",
      "Enter time in seconds: 1\n",
      "Enter distance in meters: 340\n",
      "\n",
      "OUTPUTS: \n",
      "-------------------------------------------------------\n",
      "The speed of mobile device is:  340.0 m/s or 1224.0 km/h\n"
     ]
    }
   ],
   "source": [
    "print(\"-------------------------------------------------------\")\n",
    "print(\"Exercise14: Calculator of speed\")\n",
    "print(\"-------------------------------------------------------\")\n",
    "\n",
    "#INPUTS\n",
    "print(\"ENTER TIME AND DISTANCE: \")\n",
    "t = float( input(\"Enter time in seconds: \"))\n",
    "d = float( input(\"Enter distance in meters: \"))\n",
    "\n",
    "#Process\n",
    "\n",
    "s = d/t\n",
    "ks = s*3.6\n",
    "\n",
    "rs = round(s, 2)\n",
    "\n",
    "#OUTPUTS\n",
    "print(\"\\nOUTPUTS: \")\n",
    "print(\"-------------------------------------------------------\")\n",
    "print(\"The speed of mobile device is: \", rs, \"m/s or\", ks, \"km/h\")"
   ]
  },
  {
   "cell_type": "markdown",
   "id": "3331f67c",
   "metadata": {},
   "source": [
    "<a id=\"o\"></a>\n",
    "[Index](#index)\n",
    "### Exercise 15\n",
    "    \n",
    "Determine the amount to pay for an item given the input data of the number of dozens to buy and the unit cost of this item."
   ]
  },
  {
   "cell_type": "code",
   "execution_count": 3,
   "id": "0d82fbbb",
   "metadata": {},
   "outputs": [
    {
     "name": "stdout",
     "output_type": "stream",
     "text": [
      "-------------------------------------------------------\n",
      "Exercise15: Calculator of prices\n",
      "-------------------------------------------------------\n",
      "ENTER DOZENS AND COST PER UNIT: \n",
      "Enter DOZENS: 1.5\n",
      "Enter COST PER UNIT: 5\n",
      "\n",
      "OUTPUTS: \n",
      "-------------------------------------------------------\n",
      "total cost item:  90.0\n"
     ]
    }
   ],
   "source": [
    "print(\"-------------------------------------------------------\")\n",
    "print(\"Exercise15: Calculator of prices\")\n",
    "print(\"-------------------------------------------------------\")\n",
    "\n",
    "#INPUTS\n",
    "print(\"ENTER DOZENS AND COST PER UNIT: \")\n",
    "doz = float( input(\"Enter DOZENS: \"))\n",
    "cos= float( input(\"Enter COST PER UNIT: \"))\n",
    "\n",
    "#Process\n",
    "\n",
    "tot=12*doz\n",
    "pay=cos*tot\n",
    "\n",
    "\n",
    "#OUTPUTS\n",
    "print(\"\\nOUTPUTS: \")\n",
    "print(\"-------------------------------------------------------\")\n",
    "print(\"total cost item: \", pay)"
   ]
  },
  {
   "cell_type": "markdown",
   "id": "5e3a7d15",
   "metadata": {},
   "source": [
    "<a id=\"p\"></a>\n",
    "[Index](#index)\n",
    "### Exercise 16\n",
    "    \n",
    "Make a flowchart that converts miles to kilometers. It is known that one mile is equivalent to 1,609344 kilometers."
   ]
  },
  {
   "cell_type": "code",
   "execution_count": 9,
   "id": "2c661863",
   "metadata": {},
   "outputs": [
    {
     "name": "stdout",
     "output_type": "stream",
     "text": [
      "-------------------------------------------------------\n",
      "Exercise16: Converter of miles to kilometers\n",
      "-------------------------------------------------------\n",
      "ENTER unit: \n",
      "Enter Unit: kilometers\n",
      "Enter KILOMETERS: 4\n",
      "\n",
      "OUTPUTS: \n",
      "-------------------------------------------------------\n",
      "total miles:  2.49\n"
     ]
    }
   ],
   "source": [
    "print(\"-------------------------------------------------------\")\n",
    "print(\"Exercise16: Converter of miles to kilometers\")\n",
    "print(\"-------------------------------------------------------\")\n",
    "\n",
    "#INPUTS\n",
    "print(\"ENTER unit: \")\n",
    "\n",
    "unit = input(\"Enter Unit: \")\n",
    "\n",
    "#Process\n",
    "\n",
    "if unit == \"miles\":\n",
    "    mil = float( input(\"Enter MILES: \"))\n",
    "    kil = mil*1.609344\n",
    "    rkil= round(kil, 2)\n",
    "#OUTPUTS\n",
    "    print(\"\\nOUTPUTS: \")\n",
    "    print(\"-------------------------------------------------------\")\n",
    "    print(\"total kilometers: \", rkil)\n",
    "    \n",
    "else:\n",
    "    kilo = float( input(\"Enter KILOMETERS: \"))\n",
    "    mile = kilo/1.609344\n",
    "    rmile= round(mile, 2)\n",
    "#OUTPUTS\n",
    "    print(\"\\nOUTPUTS: \")\n",
    "    print(\"-------------------------------------------------------\")\n",
    "    print(\"total miles: \", rmile)\n"
   ]
  },
  {
   "cell_type": "markdown",
   "id": "b16186fc",
   "metadata": {},
   "source": [
    "<a id=\"q\"></a>\n",
    "[Index](#index)\n",
    "### Exercise 17\n",
    "\n",
    "If the length of two sides of a triangle and the angle between them are known, expressed in sexagesimal degrees, the length of the third side is calculated by the formula:\n",
    "\n",
    "a^2=b^2+c^2-2*bc*cos(alpha)"
   ]
  },
  {
   "cell_type": "code",
   "execution_count": 18,
   "id": "ec04d84f",
   "metadata": {},
   "outputs": [
    {
     "name": "stdout",
     "output_type": "stream",
     "text": [
      "-------------------------------------------------------\n",
      "Exercise17: Calculator of triangles\n",
      "-------------------------------------------------------\n",
      "ENTER sides: \n",
      "Enter side b: 3\n",
      "Enter side c: 4\n",
      "Enter angle alpha: 90\n",
      "\n",
      "OUTPUTS: \n",
      "-------------------------------------------------------\n",
      "tha value of side a is:  5.0\n"
     ]
    }
   ],
   "source": [
    "import math\n",
    "\n",
    "print(\"-------------------------------------------------------\")\n",
    "print(\"Exercise17: Calculator of triangles\")\n",
    "print(\"-------------------------------------------------------\")\n",
    "\n",
    "#INPUTS\n",
    "print(\"ENTER sides: \")\n",
    "b = float( input(\"Enter side b: \"))\n",
    "c= float( input(\"Enter side c: \"))\n",
    "alpha= float( input(\"Enter angle alpha: \"))\n",
    "\n",
    "#Process\n",
    "\n",
    "alp=alpha*(math.pi)/180\n",
    "a=(b**2+c**2-2*b*c*math.cos(alp))**0.5\n",
    "ra= round(a, 2)\n",
    "\n",
    "#OUTPUTS\n",
    "print(\"\\nOUTPUTS: \")\n",
    "print(\"-------------------------------------------------------\")\n",
    "print(\"tha value of side a is: \", ra)"
   ]
  },
  {
   "cell_type": "markdown",
   "id": "98de79b4",
   "metadata": {},
   "source": [
    "<a id=\"r\"></a>\n",
    "[Index](#index)\n",
    "### Exercise 18\n",
    "\n",
    "Given the velocities of two bodies heading towards each other, determine the meeting time if the distance that initially separates them is \"D\"."
   ]
  },
  {
   "cell_type": "code",
   "execution_count": 20,
   "id": "1d4bffb8",
   "metadata": {},
   "outputs": [
    {
     "name": "stdout",
     "output_type": "stream",
     "text": [
      "-------------------------------------------------------\n",
      "Exercise18: Calculator of time of meeting\n",
      "-------------------------------------------------------\n",
      "ENTER distance D(kilometers): \n",
      "Enter distance D: 5\n",
      "ENTER velocities (km/h): \n",
      "Enter velocity A: 1\n",
      "Enter velocity B: 30\n",
      "\n",
      "OUTPUTS: \n",
      "-------------------------------------------------------\n",
      "the meeting time is:  0.16 hours\n"
     ]
    }
   ],
   "source": [
    "print(\"-------------------------------------------------------\")\n",
    "print(\"Exercise18: Calculator of time of meeting\")\n",
    "print(\"-------------------------------------------------------\")\n",
    "\n",
    "#INPUTS\n",
    "\n",
    "print(\"ENTER distance D(kilometers): \")\n",
    "d = float( input(\"Enter distance D: \"))\n",
    "\n",
    "print(\"ENTER velocities (km/h): \")\n",
    "a = float( input(\"Enter velocity A: \"))\n",
    "b = float( input(\"Enter velocity B: \"))\n",
    "\n",
    "#Process\n",
    "\n",
    "t= d/(a+b)\n",
    "rt= round(t, 2)\n",
    "\n",
    "#OUTPUTS\n",
    "print(\"\\nOUTPUTS: \")\n",
    "print(\"-------------------------------------------------------\")\n",
    "print(\"the meeting time is: \", rt, \"hours\")"
   ]
  },
  {
   "cell_type": "markdown",
   "id": "103014d9",
   "metadata": {},
   "source": [
    "<a id=\"s\"></a>\n",
    "[Index](#index)\n",
    "### Exercise 19\n",
    "\n",
    "make a..."
   ]
  },
  {
   "cell_type": "code",
   "execution_count": null,
   "id": "03cdefeb",
   "metadata": {},
   "outputs": [],
   "source": []
  },
  {
   "cell_type": "markdown",
   "id": "7192f335",
   "metadata": {},
   "source": [
    "<a id=\"t\"></a>\n",
    "[Index](#index)\n",
    "### Exercise 20\n",
    "\n",
    "make a..."
   ]
  },
  {
   "cell_type": "code",
   "execution_count": null,
   "id": "bac548e4",
   "metadata": {},
   "outputs": [],
   "source": []
  }
 ],
 "metadata": {
  "kernelspec": {
   "display_name": "Python 3 (ipykernel)",
   "language": "python",
   "name": "python3"
  },
  "language_info": {
   "codemirror_mode": {
    "name": "ipython",
    "version": 3
   },
   "file_extension": ".py",
   "mimetype": "text/x-python",
   "name": "python",
   "nbconvert_exporter": "python",
   "pygments_lexer": "ipython3",
   "version": "3.11.2"
  }
 },
 "nbformat": 4,
 "nbformat_minor": 5
}
