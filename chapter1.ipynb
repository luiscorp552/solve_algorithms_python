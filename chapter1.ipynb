{
  "cells": [
    {
      "cell_type": "markdown",
      "metadata": {
        "id": "view-in-github",
        "colab_type": "text"
      },
      "source": [
        "<a href=\"https://colab.research.google.com/github/luiscorp552/solve_algorithms_python/blob/main/chapter1.ipynb\" target=\"_parent\"><img src=\"https://colab.research.google.com/assets/colab-badge.svg\" alt=\"Open In Colab\"/></a>"
      ]
    },
    {
      "cell_type": "code",
      "execution_count": null,
      "id": "10b5eaae",
      "metadata": {
        "id": "10b5eaae"
      },
      "outputs": [],
      "source": []
    },
    {
      "cell_type": "markdown",
      "id": "e6391d4a",
      "metadata": {
        "id": "e6391d4a"
      },
      "source": [
        "# Chapter 1. Basic instructions in an algorithm"
      ]
    },
    {
      "cell_type": "markdown",
      "id": "29bb4b8b",
      "metadata": {
        "id": "29bb4b8b"
      },
      "source": [
        "## Content\n",
        "<a id=\"index\">Content:</a>\n",
        "1. [Exercise 1](#a)\n",
        "2. [Exercise 2](#b)\n",
        "3. [Exercise 3](#c)\n",
        "4. [Exercise 4](#d)\n",
        "5. [Exercise 5](#e)\n",
        "6. [Exercise 6](#f)\n",
        "7. [Exercise 7](#g)\n",
        "8. [Exercise 8](#h)\n",
        "9. [Exercise 9](#i)\n",
        "10. [Exercise 10](#j)\n",
        "11. [Exercise 11](#k)\n",
        "12. [Exercise 12](#l)\n",
        "13. [Exercise 13](#m)\n",
        "14. [Exercise 14](#n)\n",
        "15. [Exercise 15](#o)\n",
        "16. [Exercise 16](#p)\n",
        "17. [Exercise 17](#q)\n",
        "18. [Exercise 18](#r)\n",
        "19. [Exercise 19](#s)\n",
        "20. [Exercise 20](#t)\n"
      ]
    },
    {
      "cell_type": "markdown",
      "id": "be5f58f1",
      "metadata": {
        "id": "be5f58f1"
      },
      "source": [
        "<a id=\"a\"></a>\n",
        "[Index](#index)\n",
        "### Exercise 1\n",
        "\n",
        "We want to calculate the distance traveled (m) by a moving object with a constant velocity (m/s) during a time t (s). We will consider that it is a URM (Uniform Rectilinear Motion)."
      ]
    },
    {
      "cell_type": "code",
      "execution_count": null,
      "id": "895a2814",
      "metadata": {
        "colab": {
          "base_uri": "https://localhost:8080/"
        },
        "id": "895a2814",
        "outputId": "7072fcc4-f4e1-45d8-8e07-9b995e057a17"
      },
      "outputs": [
        {
          "output_type": "stream",
          "name": "stdout",
          "text": [
            "-------------------------------------------------------\n",
            "Exercise1: CALCULATE DISTANCE.\n",
            "-------------------------------------------------------\n",
            "Enter the speed and time of the moving unit\n",
            "Speed: 78\n",
            "Time: 59\n",
            "The distance is:  4602.0\n"
          ]
        }
      ],
      "source": [
        "print(\"-------------------------------------------------------\")\n",
        "print(\"Exercise1: CALCULATE DISTANCE.\")\n",
        "print(\"-------------------------------------------------------\")\n",
        "#INPUTS\n",
        "print(\"Enter the speed and time of the moving unit\")\n",
        "\n",
        "V = float( input(\"Speed: \") )\n",
        "T = int( input(\"Time: \") )\n",
        "\n",
        "#Process\n",
        "D = V*T\n",
        "\n",
        "#Output\n",
        "print(\"The distance is: \", D)"
      ]
    },
    {
      "cell_type": "markdown",
      "id": "5b136076",
      "metadata": {
        "id": "5b136076"
      },
      "source": [
        "<a id=\"b\"></a>\n",
        "[Index](#index)\n",
        "### Exercise 2\n",
        "\n",
        "We need to calculate the simple average of a student's three partial grades N1, N2, and N3."
      ]
    },
    {
      "cell_type": "code",
      "execution_count": null,
      "id": "63a9746b",
      "metadata": {
        "colab": {
          "base_uri": "https://localhost:8080/"
        },
        "id": "63a9746b",
        "outputId": "c8c5d774-2ffc-42d2-ea5d-b45c74993054"
      },
      "outputs": [
        {
          "output_type": "stream",
          "name": "stdout",
          "text": [
            "-------------------------------------------------------\n",
            "Exercise2: Mean of 3 notes.\n",
            "-------------------------------------------------------\n",
            "Enter the 3 notes of the student N1 , N2, N3\n",
            "N1: 15\n",
            "N2: 16\n",
            "N3: 19\n",
            "\n",
            "Output: \n",
            "The mean of 3 notes is:  16\n"
          ]
        }
      ],
      "source": [
        "print(\"-------------------------------------------------------\")\n",
        "print(\"Exercise2: Mean of 3 notes.\")\n",
        "print(\"-------------------------------------------------------\")\n",
        "\n",
        "#Inputs\n",
        "print(\"Enter the 3 notes of the student N1 , N2, N3\")\n",
        "N1 = int( input(\"N1: \"))\n",
        "N2 = int( input(\"N2: \"))\n",
        "N3 = int( input(\"N3: \"))\n",
        "\n",
        "#Process\n",
        "P = int( (N1+N2+N3)/3 )\n",
        "\n",
        "#Output\n",
        "print(\"\\nOutput: \")\n",
        "print(\"The mean of 3 notes is: \",P)"
      ]
    },
    {
      "cell_type": "markdown",
      "id": "cf1b2b10",
      "metadata": {
        "id": "cf1b2b10"
      },
      "source": [
        "<a id=\"c\"></a>\n",
        "[Index](#index)\n",
        "### Exercise 3\n",
        "\n",
        "An algorithm is needed to request the number of correct, incorrect, and blank answers for each applicant, and to display their final score, considering that each correct answer will be worth 3 points, incorrect answers will be worth -1 points, and blank answers will be worth 0 points."
      ]
    },
    {
      "cell_type": "code",
      "execution_count": null,
      "id": "1738fb26",
      "metadata": {
        "colab": {
          "base_uri": "https://localhost:8080/"
        },
        "id": "1738fb26",
        "outputId": "9da8f549-77b6-4954-df24-1367e978ed45"
      },
      "outputs": [
        {
          "output_type": "stream",
          "name": "stdout",
          "text": [
            "-------------------------------------------------------\n",
            "Exercise3: FINAL SCORE.\n",
            "-------------------------------------------------------\n",
            "Enter number of correct answers: \n",
            "30\n",
            "Enter number of incorrect answers: \n",
            "15\n",
            "Enter number of blank answers: \n",
            "5\n",
            "The final score is:  75\n"
          ]
        }
      ],
      "source": [
        "print(\"-------------------------------------------------------\")\n",
        "print(\"Exercise3: FINAL SCORE.\")\n",
        "print(\"-------------------------------------------------------\")\n",
        "\n",
        "#Inputs\n",
        "print(\"Enter number of correct answers: \")\n",
        "RC = int( input())\n",
        "print(\"Enter number of incorrect answers: \")\n",
        "RI = int( input())\n",
        "print(\"Enter number of blank answers: \")\n",
        "RB = int( input())\n",
        "\n",
        "#Process\n",
        "PCR = RC*3\n",
        "PRI = RI*-1\n",
        "PRB = RB*0\n",
        "\n",
        "PF = PCR + PRI + PRB\n",
        "\n",
        "#Outputs\n",
        "print(\"The final score is: \", PF)"
      ]
    },
    {
      "cell_type": "markdown",
      "id": "35a4d5ae",
      "metadata": {
        "id": "35a4d5ae"
      },
      "source": [
        "<a id=\"d\"></a>\n",
        "[Index](#index)\n",
        "### Exercise 4\n",
        "\n",
        "Develop an algorithm that allows you to enter the number of games won, lost, and tied by ABC club in the Apertura tournament. The total score should be displayed, taking into account that for each game won, you will get 3 points, tied 1 point, and lost 0 points."
      ]
    },
    {
      "cell_type": "code",
      "execution_count": null,
      "id": "0f371ddb",
      "metadata": {
        "colab": {
          "base_uri": "https://localhost:8080/"
        },
        "id": "0f371ddb",
        "outputId": "df4d7a61-12a2-434d-c5f0-25fb31824838"
      },
      "outputs": [
        {
          "output_type": "stream",
          "name": "stdout",
          "text": [
            "-------------------------------------------------------\n",
            "Exercise4: TOTAL SCORE OF GAMES.\n",
            "-------------------------------------------------------\n",
            "Enter number of games won\n",
            "4\n",
            "Enter number of games tied\n",
            "5\n",
            "Enter number of games lost\n",
            "3\n",
            "\n",
            "OUTPUT: \n",
            "-------------------------------------------------------\n",
            "Final Score:  17\n"
          ]
        }
      ],
      "source": [
        "print(\"-------------------------------------------------------\")\n",
        "print(\"Exercise4: TOTAL SCORE OF GAMES.\")\n",
        "print(\"-------------------------------------------------------\")\n",
        "\n",
        "#Inputs\n",
        "print(\"Enter number of games won\")\n",
        "PG = int( input())\n",
        "print(\"Enter number of games tied\")\n",
        "PE = int( input())\n",
        "print(\"Enter number of games lost\")\n",
        "PP = int( input())\n",
        "\n",
        "#Process\n",
        "PPG = PG*3\n",
        "PPE = PE*1\n",
        "PPP = PP*0\n",
        "PF = PPG + PPE + PPP\n",
        "\n",
        "#Output\n",
        "print(\"\\nOUTPUT: \")\n",
        "print(\"-------------------------------------------------------\")\n",
        "print(\"Final Score: \", PF)"
      ]
    },
    {
      "cell_type": "markdown",
      "id": "f9a53c9e",
      "metadata": {
        "id": "f9a53c9e"
      },
      "source": [
        "<a id=\"e\"></a>\n",
        "[Index](#index)\n",
        "### Exercise 5\n",
        "\n",
        "Develop an algorithm to calculate the number of 3.5-inch floppy disks needed to make a backup of the information stored on a hard drive whose capacity is known. It is necessary to consider that the hard drive is full of information, in addition to being expressed in gigabytes. A floppy disk has 1.44 megabytes and a gigabyte is equal to 1,024 megabytes."
      ]
    },
    {
      "cell_type": "code",
      "execution_count": null,
      "id": "3760fc88",
      "metadata": {
        "colab": {
          "base_uri": "https://localhost:8080/"
        },
        "id": "3760fc88",
        "outputId": "f751d328-04ce-46ce-ece8-c10e80ae3d95"
      },
      "outputs": [
        {
          "output_type": "stream",
          "name": "stdout",
          "text": [
            "-------------------------------------------------------\n",
            "Exercise5: Number of 3.5-inch floppy disks needed\n",
            "-------------------------------------------------------\n",
            "Enter GB: \n",
            "2\n",
            "\n",
            "OUTPUT: \n",
            "-------------------------------------------------------\n",
            "1422.2222222222222\n",
            "Number of 3.5-inch floppy disks needed is:  1423\n"
          ]
        }
      ],
      "source": [
        "import math\n",
        "\n",
        "print(\"-------------------------------------------------------\")\n",
        "print(\"Exercise5: Number of 3.5-inch floppy disks needed\")\n",
        "print(\"-------------------------------------------------------\")\n",
        "\n",
        "#Inputs\n",
        "print(\"Enter GB: \")\n",
        "GB = float( input())\n",
        "\n",
        "#Process\n",
        "MG = GB*1024\n",
        "MD = MG/1.44\n",
        "\n",
        "#Outputs\n",
        "print(\"\\nOUTPUT: \")\n",
        "print(\"-------------------------------------------------------\")\n",
        "print(MD)\n",
        "\n",
        "#The math.ceil function rounds the result to the next highest integer.\n",
        "print(\"Number of 3.5-inch floppy disks needed is: \", math.ceil(MD))"
      ]
    },
    {
      "cell_type": "markdown",
      "id": "c1eb2f12",
      "metadata": {
        "id": "c1eb2f12"
      },
      "source": [
        "<a id=\"f\"></a>\n",
        "[Index](#index)\n",
        "### Exercise 6\n",
        "\n",
        "Given points A and B in the positive quadrant of the Cartesian plane, develop the algorithm to obtain the distance between A and B."
      ]
    },
    {
      "cell_type": "code",
      "execution_count": null,
      "id": "a9e53e51",
      "metadata": {
        "colab": {
          "base_uri": "https://localhost:8080/"
        },
        "id": "a9e53e51",
        "outputId": "11d4ce2f-8031-459a-c803-e6df161fdff3"
      },
      "outputs": [
        {
          "output_type": "stream",
          "name": "stdout",
          "text": [
            "-------------------------------------------------------\n",
            "Exercise6: DISTANCE BETWEEN 2 POINTS A AND B, IN 2D.\n",
            "-------------------------------------------------------\n",
            "Enter coordinates of Point A: \n",
            "Ax: 2\n",
            "Ay: 6\n",
            "Enter coordinates of Point B: \n",
            "Bx: 1\n",
            "By: -8\n",
            "\n",
            "OUTPUTS: \n",
            "-------------------------------------------------------\n",
            "Result: 14.035668847618199\n"
          ]
        }
      ],
      "source": [
        "print(\"-------------------------------------------------------\")\n",
        "print(\"Exercise6: DISTANCE BETWEEN 2 POINTS A AND B, IN 2D.\")\n",
        "print(\"-------------------------------------------------------\")\n",
        "\n",
        "#INPUTS\n",
        "print(\"Enter coordinates of Point A: \")\n",
        "AX = float(input(\"Ax: \"))\n",
        "AY = float(input(\"Ay: \"))\n",
        "print(\"Enter coordinates of Point B: \")\n",
        "BX = float(input(\"Bx: \"))\n",
        "BY = float(input(\"By: \"))\n",
        "\n",
        "#Process\n",
        "D = ( (AX-BX)**2 + (AY-BY)**2 )**0.5\n",
        "\n",
        "#OUTPUTS\n",
        "print(\"\\nOUTPUTS: \")\n",
        "print(\"-------------------------------------------------------\")\n",
        "print(\"Result:\", D)"
      ]
    },
    {
      "cell_type": "markdown",
      "id": "6eb68ab5",
      "metadata": {
        "id": "6eb68ab5"
      },
      "source": [
        "<a id=\"g\"></a>\n",
        "[Index](#index)\n",
        "### Exercise 7\n",
        "\n",
        "Develop an algorithm that requests 2 numbers and displays the average of both."
      ]
    },
    {
      "cell_type": "code",
      "execution_count": null,
      "id": "021a3752",
      "metadata": {
        "colab": {
          "base_uri": "https://localhost:8080/"
        },
        "id": "021a3752",
        "outputId": "4b5b8356-d918-43c3-fb94-e6a399fd31ab"
      },
      "outputs": [
        {
          "output_type": "stream",
          "name": "stdout",
          "text": [
            "-------------------------------------------------------\n",
            "Exercise7: AVERAGE OF TWO NUMBERS.\n",
            "-------------------------------------------------------\n",
            "ENTER NOTES: \n",
            "N1: 15\n",
            "N2: 12\n",
            "\n",
            "OUTPUTS: \n",
            "-------------------------------------------------------\n",
            "Average: 13.5\n"
          ]
        }
      ],
      "source": [
        "print(\"-------------------------------------------------------\")\n",
        "print(\"Exercise7: AVERAGE OF TWO NUMBERS.\")\n",
        "print(\"-------------------------------------------------------\")\n",
        "\n",
        "#INPUTS\n",
        "print(\"ENTER NOTES: \")\n",
        "N1 = int( input(\"N1: \"))\n",
        "N2 = int( input(\"N2: \"))\n",
        "\n",
        "#ProcesS\n",
        "S = N1 + N2\n",
        "P = S/2\n",
        "\n",
        "#OUTPUTS\n",
        "print(\"\\nOUTPUTS: \")\n",
        "print(\"-------------------------------------------------------\")\n",
        "print(\"Average:\", P)"
      ]
    },
    {
      "cell_type": "markdown",
      "id": "0390aacc",
      "metadata": {
        "id": "0390aacc"
      },
      "source": [
        "<a id=\"h\"></a>\n",
        "[Index](#index)\n",
        "### Exercise 8\n",
        "\n",
        "Build a flowchart that, given the base and height of a rectangle as input, calculates the perimeter and area of it."
      ]
    },
    {
      "cell_type": "code",
      "execution_count": null,
      "id": "2acf814e",
      "metadata": {
        "colab": {
          "base_uri": "https://localhost:8080/"
        },
        "id": "2acf814e",
        "outputId": "82134d0d-3dd7-4602-8bba-f0509183a5fa"
      },
      "outputs": [
        {
          "output_type": "stream",
          "name": "stdout",
          "text": [
            "-------------------------------------------------------\n",
            "Exercise8: PERIMETER AND AREA OF A RECTANGLE.\n",
            "-------------------------------------------------------\n",
            "ENTER BASE AND HEIGHT: \n",
            "BASE: 8\n",
            "HEIGHT: 9\n",
            "\n",
            "OUTPUTS: \n",
            "-------------------------------------------------------\n",
            "AREA: 72\n",
            "PERIMETER: 34\n"
          ]
        }
      ],
      "source": [
        "print(\"-------------------------------------------------------\")\n",
        "print(\"Exercise8: PERIMETER AND AREA OF A RECTANGLE.\")\n",
        "print(\"-------------------------------------------------------\")\n",
        "\n",
        "#INPUTS\n",
        "print(\"ENTER BASE AND HEIGHT: \")\n",
        "B = int( input(\"BASE: \"))\n",
        "H = int( input(\"HEIGHT: \"))\n",
        "\n",
        "#ProcesS\n",
        "A = B*H\n",
        "P = 2*B+2*H\n",
        "\n",
        "#OUTPUTS\n",
        "print(\"\\nOUTPUTS: \")\n",
        "print(\"-------------------------------------------------------\")\n",
        "print(\"AREA:\", A)\n",
        "print(\"PERIMETER:\", P)"
      ]
    },
    {
      "cell_type": "markdown",
      "id": "755626ca",
      "metadata": {
        "id": "755626ca"
      },
      "source": [
        "<a id=\"i\"></a>\n",
        "[Index](#index)\n",
        "### Exercise 9\n",
        "\n",
        "Build a flowchart to solve a problem a gas station has. The gas station's dispensers dispense gasoline in gallons, but the price of gasoline is fixed in liters. The flowchart must calculate and print the amount to charge the customer."
      ]
    },
    {
      "cell_type": "code",
      "execution_count": null,
      "id": "029f07ed",
      "metadata": {
        "colab": {
          "base_uri": "https://localhost:8080/"
        },
        "id": "029f07ed",
        "outputId": "93672fc8-97d3-4287-e8ee-5c69aaca8323"
      },
      "outputs": [
        {
          "output_type": "stream",
          "name": "stdout",
          "text": [
            "-------------------------------------------------------\n",
            "Exercise9: Gas Station\n",
            "-------------------------------------------------------\n",
            "ENTER GALLONS AND PRICE: \n",
            "Enter gallons of gas: 8\n",
            "Enter price of gas $/l: 3.4\n",
            "\n",
            "OUTPUTS: \n",
            "-------------------------------------------------------\n",
            "Amount of liters: 30.28\n",
            "Total price: 102.96\n"
          ]
        }
      ],
      "source": [
        "print(\"-------------------------------------------------------\")\n",
        "print(\"Exercise9: Gas Station\")\n",
        "print(\"-------------------------------------------------------\")\n",
        "\n",
        "#INPUTS\n",
        "print(\"ENTER GALLONS AND PRICE: \")\n",
        "g_gas = float( input(\"Enter gallons of gas: \"))\n",
        "price = float( input(\"Enter price of gas $/l: \"))\n",
        "\n",
        "#ProcesS\n",
        "l_gas = g_gas*(3.785411784)\n",
        "amount = l_gas*price\n",
        "\n",
        "l = round(l_gas, 2)\n",
        "a = round(amount, 2)\n",
        "\n",
        "#OUTPUTS\n",
        "print(\"\\nOUTPUTS: \")\n",
        "print(\"-------------------------------------------------------\")\n",
        "print(\"Amount of liters:\", l)\n",
        "print(\"Total price:\", a)"
      ]
    },
    {
      "cell_type": "markdown",
      "id": "238fd02a",
      "metadata": {
        "id": "238fd02a"
      },
      "source": [
        "<a id=\"j\"></a>\n",
        "[Index](#index)\n",
        "### Exercise 10\n",
        "\n",
        "Build a flowchart to calculate and print the area and volume of a cylinder given the radius and height."
      ]
    },
    {
      "cell_type": "code",
      "execution_count": null,
      "id": "66fa46a1",
      "metadata": {
        "colab": {
          "base_uri": "https://localhost:8080/"
        },
        "id": "66fa46a1",
        "outputId": "1530aa1b-7722-45c4-ce93-6e655fec3c12"
      },
      "outputs": [
        {
          "output_type": "stream",
          "name": "stdout",
          "text": [
            "-------------------------------------------------------\n",
            "Exercise10: Volume of a cylinder\n",
            "-------------------------------------------------------\n",
            "ENTER HEIGHT AND RADIUS: \n",
            "Enter height: 40\n",
            "Enter radius: 8\n",
            "\n",
            "OUTPUTS: \n",
            "-------------------------------------------------------\n",
            "Area:  2412.743157956961\n",
            "Volume: 8042.47719318987\n"
          ]
        }
      ],
      "source": [
        "import math\n",
        "\n",
        "print(\"-------------------------------------------------------\")\n",
        "print(\"Exercise10: Volume of a cylinder\")\n",
        "print(\"-------------------------------------------------------\")\n",
        "\n",
        "#INPUTS\n",
        "print(\"ENTER HEIGHT AND RADIUS: \")\n",
        "height= float( input(\"Enter height: \"))\n",
        "radius = float( input(\"Enter radius: \"))\n",
        "\n",
        "#Process\n",
        "area_cil = 2*(math.pi)*radius*(radius+height)\n",
        "area= (math.pi)*radius*radius\n",
        "volume = area*height\n",
        "\n",
        "\n",
        "#OUTPUTS\n",
        "print(\"\\nOUTPUTS: \")\n",
        "print(\"-------------------------------------------------------\")\n",
        "print(\"Area: \", area_cil)\n",
        "print(\"Volume:\", volume)"
      ]
    },
    {
      "cell_type": "markdown",
      "id": "219f7401",
      "metadata": {
        "id": "219f7401"
      },
      "source": [
        "<a id=\"k\"></a>\n",
        "[Index](#index)\n",
        "### Exercise 11\n",
        "\n",
        "Given the radius of a circle, calculate the volume of the corresponding sphere."
      ]
    },
    {
      "cell_type": "code",
      "execution_count": null,
      "id": "4d8ecfd7",
      "metadata": {
        "colab": {
          "base_uri": "https://localhost:8080/"
        },
        "id": "4d8ecfd7",
        "outputId": "bc82fe49-286f-4ecb-aedc-3ec762edb41b"
      },
      "outputs": [
        {
          "output_type": "stream",
          "name": "stdout",
          "text": [
            "-------------------------------------------------------\n",
            "Exercise11: Volume of a sphere\n",
            "-------------------------------------------------------\n",
            "ENTER RADIUS: \n",
            "Enter radius: 8\n",
            "\n",
            "OUTPUTS: \n",
            "-------------------------------------------------------\n",
            "Volume: 2144.660584850632\n"
          ]
        }
      ],
      "source": [
        "import math\n",
        "\n",
        "print(\"-------------------------------------------------------\")\n",
        "print(\"Exercise11: Volume of a sphere\")\n",
        "print(\"-------------------------------------------------------\")\n",
        "\n",
        "#INPUTS\n",
        "print(\"ENTER RADIUS: \")\n",
        "radius = float( input(\"Enter radius: \"))\n",
        "\n",
        "#Process\n",
        "volume = (4/3)*(math.pi)*radius**3\n",
        "\n",
        "\n",
        "#OUTPUTS\n",
        "print(\"\\nOUTPUTS: \")\n",
        "print(\"-------------------------------------------------------\")\n",
        "print(\"Volume:\", volume)"
      ]
    },
    {
      "cell_type": "markdown",
      "id": "1c39adb7",
      "metadata": {
        "id": "1c39adb7"
      },
      "source": [
        "<a id=\"l\"></a>\n",
        "[Index](#index)\n",
        "### Exercise 12\n",
        "\n",
        "Calculate the perimeter of an equilateral triangle, given the height of the triangle as input."
      ]
    },
    {
      "cell_type": "code",
      "execution_count": null,
      "id": "34d2f55f",
      "metadata": {
        "colab": {
          "base_uri": "https://localhost:8080/"
        },
        "id": "34d2f55f",
        "outputId": "9892f8b6-d6a6-466e-f7aa-7790e39f7ddb"
      },
      "outputs": [
        {
          "output_type": "stream",
          "name": "stdout",
          "text": [
            "-------------------------------------------------------\n",
            "Exercise12: Perimeter of a equilateral triangle\n",
            "-------------------------------------------------------\n",
            "ENTER HEIGHT: \n",
            "Enter height: 36\n",
            "\n",
            "OUTPUTS: \n",
            "-------------------------------------------------------\n",
            "Perimeter: 124.70765814495915\n"
          ]
        }
      ],
      "source": [
        "import math\n",
        "\n",
        "print(\"-------------------------------------------------------\")\n",
        "print(\"Exercise12: Perimeter of a equilateral triangle\")\n",
        "print(\"-------------------------------------------------------\")\n",
        "\n",
        "#INPUTS\n",
        "print(\"ENTER HEIGHT: \")\n",
        "h = float( input(\"Enter height: \"))\n",
        "\n",
        "#Process\n",
        "per = 2*3**(0.5)*h\n",
        "\n",
        "\n",
        "#OUTPUTS\n",
        "print(\"\\nOUTPUTS: \")\n",
        "print(\"-------------------------------------------------------\")\n",
        "print(\"Perimeter:\", per)"
      ]
    },
    {
      "cell_type": "markdown",
      "id": "0c2e3a1b",
      "metadata": {
        "id": "0c2e3a1b"
      },
      "source": [
        "<a id=\"m\"></a>\n",
        "[Index](#index)\n",
        "### Exercise 13\n",
        "\n",
        "Given an amount in bolivars, give its equivalent in dollars and then in euros. It is known that 1 dollar = 34.82 bolivars and 1 euro = 36.72 bolivars."
      ]
    },
    {
      "cell_type": "code",
      "execution_count": null,
      "id": "9574496f",
      "metadata": {
        "colab": {
          "base_uri": "https://localhost:8080/"
        },
        "id": "9574496f",
        "outputId": "ee4b7d1a-c3b4-4623-83d1-cfcc13d69fd8"
      },
      "outputs": [
        {
          "output_type": "stream",
          "name": "stdout",
          "text": [
            "-------------------------------------------------------\n",
            "Exercise13: Conversor of currencies\n",
            "-------------------------------------------------------\n",
            "ENTER AN AMOUNT IN BOLIVARS: \n",
            "Enter BOLIVARS: 1560\n",
            "One dollar today is: 39.80\n",
            "One euro today is: 41\n",
            "\n",
            "OUTPUTS: \n",
            "-------------------------------------------------------\n",
            "In 1560.0 Bolivars there are: 39.2 dollars or  38.05 euros\n"
          ]
        }
      ],
      "source": [
        "print(\"-------------------------------------------------------\")\n",
        "print(\"Exercise13: Conversor of currencies\")\n",
        "print(\"-------------------------------------------------------\")\n",
        "\n",
        "#INPUTS\n",
        "print(\"ENTER AN AMOUNT IN BOLIVARS: \")\n",
        "bs = float( input(\"Enter BOLIVARS: \"))\n",
        "dol = float( input(\"One dollar today is: \"))\n",
        "eur = float( input(\"One euro today is: \"))\n",
        "\n",
        "#Process\n",
        "\n",
        "tdol = bs/dol\n",
        "teur = bs/eur\n",
        "\n",
        "rdol = round(tdol, 2)\n",
        "reur = round(teur, 2)\n",
        "\n",
        "#OUTPUTS\n",
        "print(\"\\nOUTPUTS: \")\n",
        "print(\"-------------------------------------------------------\")\n",
        "print(\"In\", bs, \"Bolivars there are:\", rdol, \"dollars or \", reur, \"euros\")"
      ]
    },
    {
      "cell_type": "markdown",
      "id": "fc1bd56e",
      "metadata": {
        "id": "fc1bd56e"
      },
      "source": [
        "<a id=\"n\"></a>\n",
        "[Index](#index)\n",
        "### Exercise 14\n",
        "    \n",
        "Given the time in seconds and the distance in meters traveled by a mobile device, input by keyboard, calculate the corresponding speed."
      ]
    },
    {
      "cell_type": "code",
      "execution_count": null,
      "id": "1550ea54",
      "metadata": {
        "colab": {
          "base_uri": "https://localhost:8080/"
        },
        "id": "1550ea54",
        "outputId": "356849ff-1442-4b96-d3ed-27bcea8e3468"
      },
      "outputs": [
        {
          "output_type": "stream",
          "name": "stdout",
          "text": [
            "-------------------------------------------------------\n",
            "Exercise14: Calculator of speed\n",
            "-------------------------------------------------------\n",
            "ENTER TIME AND DISTANCE: \n",
            "Enter time in seconds: 45\n",
            "Enter distance in meters: 1800\n",
            "\n",
            "OUTPUTS: \n",
            "-------------------------------------------------------\n",
            "The speed of mobile device is:  40.0 m/s or 144.0 km/h\n"
          ]
        }
      ],
      "source": [
        "print(\"-------------------------------------------------------\")\n",
        "print(\"Exercise14: Calculator of speed\")\n",
        "print(\"-------------------------------------------------------\")\n",
        "\n",
        "#INPUTS\n",
        "print(\"ENTER TIME AND DISTANCE: \")\n",
        "t = float( input(\"Enter time in seconds: \"))\n",
        "d = float( input(\"Enter distance in meters: \"))\n",
        "\n",
        "#Process\n",
        "\n",
        "s = d/t\n",
        "ks = s*3.6\n",
        "\n",
        "rs = round(s, 2)\n",
        "\n",
        "#OUTPUTS\n",
        "print(\"\\nOUTPUTS: \")\n",
        "print(\"-------------------------------------------------------\")\n",
        "print(\"The speed of mobile device is: \", rs, \"m/s or\", ks, \"km/h\")"
      ]
    },
    {
      "cell_type": "markdown",
      "id": "3331f67c",
      "metadata": {
        "id": "3331f67c"
      },
      "source": [
        "<a id=\"o\"></a>\n",
        "[Index](#index)\n",
        "### Exercise 15\n",
        "    \n",
        "Determine the amount to pay for an item given the input data of the number of dozens to buy and the unit cost of this item."
      ]
    },
    {
      "cell_type": "code",
      "execution_count": null,
      "id": "0d82fbbb",
      "metadata": {
        "colab": {
          "base_uri": "https://localhost:8080/"
        },
        "id": "0d82fbbb",
        "outputId": "90a05496-31aa-4548-c6a8-235a494ac8ef"
      },
      "outputs": [
        {
          "output_type": "stream",
          "name": "stdout",
          "text": [
            "-------------------------------------------------------\n",
            "Exercise15: Calculator of prices\n",
            "-------------------------------------------------------\n",
            "ENTER DOZENS AND COST PER UNIT: \n",
            "Enter DOZENS: 10\n",
            "Enter COST PER UNIT: 12\n",
            "\n",
            "OUTPUTS: \n",
            "-------------------------------------------------------\n",
            "total cost item:  1440.0\n"
          ]
        }
      ],
      "source": [
        "print(\"-------------------------------------------------------\")\n",
        "print(\"Exercise15: Calculator of prices\")\n",
        "print(\"-------------------------------------------------------\")\n",
        "\n",
        "#INPUTS\n",
        "print(\"ENTER DOZENS AND COST PER UNIT: \")\n",
        "doz = float( input(\"Enter DOZENS: \"))\n",
        "cos= float( input(\"Enter COST PER UNIT: \"))\n",
        "\n",
        "#Process\n",
        "\n",
        "tot=12*doz\n",
        "pay=cos*tot\n",
        "\n",
        "\n",
        "#OUTPUTS\n",
        "print(\"\\nOUTPUTS: \")\n",
        "print(\"-------------------------------------------------------\")\n",
        "print(\"total cost item: \", pay)"
      ]
    },
    {
      "cell_type": "markdown",
      "id": "5e3a7d15",
      "metadata": {
        "id": "5e3a7d15"
      },
      "source": [
        "<a id=\"p\"></a>\n",
        "[Index](#index)\n",
        "### Exercise 16\n",
        "    \n",
        "Make a flowchart that converts miles to kilometers. It is known that one mile is equivalent to 1,609344 kilometers."
      ]
    },
    {
      "cell_type": "code",
      "execution_count": null,
      "id": "2c661863",
      "metadata": {
        "colab": {
          "base_uri": "https://localhost:8080/"
        },
        "id": "2c661863",
        "outputId": "e6bf3f64-673a-4e80-83bb-f9f28ab2b1b0"
      },
      "outputs": [
        {
          "output_type": "stream",
          "name": "stdout",
          "text": [
            "-------------------------------------------------------\n",
            "Exercise16: Converter of miles to kilometers\n",
            "-------------------------------------------------------\n",
            "ENTER unit: \n",
            "Enter Unit: miles\n",
            "Enter MILES: 8\n",
            "\n",
            "OUTPUTS: \n",
            "-------------------------------------------------------\n",
            "total kilometers:  12.87\n"
          ]
        }
      ],
      "source": [
        "print(\"-------------------------------------------------------\")\n",
        "print(\"Exercise16: Converter of miles to kilometers\")\n",
        "print(\"-------------------------------------------------------\")\n",
        "\n",
        "#INPUTS\n",
        "print(\"ENTER unit: \")\n",
        "\n",
        "unit = input(\"Enter Unit: \")\n",
        "\n",
        "#Process\n",
        "\n",
        "if unit == \"miles\":\n",
        "    mil = float( input(\"Enter MILES: \"))\n",
        "    kil = mil*1.609344\n",
        "    rkil= round(kil, 2)\n",
        "#OUTPUTS\n",
        "    print(\"\\nOUTPUTS: \")\n",
        "    print(\"-------------------------------------------------------\")\n",
        "    print(\"total kilometers: \", rkil)\n",
        "\n",
        "else:\n",
        "    kilo = float( input(\"Enter KILOMETERS: \"))\n",
        "    mile = kilo/1.609344\n",
        "    rmile= round(mile, 2)\n",
        "#OUTPUTS\n",
        "    print(\"\\nOUTPUTS: \")\n",
        "    print(\"-------------------------------------------------------\")\n",
        "    print(\"total miles: \", rmile)\n"
      ]
    },
    {
      "cell_type": "markdown",
      "id": "b16186fc",
      "metadata": {
        "id": "b16186fc"
      },
      "source": [
        "<a id=\"q\"></a>\n",
        "[Index](#index)\n",
        "### Exercise 17\n",
        "\n",
        "If the length of two sides of a triangle and the angle between them are known, expressed in sexagesimal degrees, the length of the third side is calculated by the formula:\n",
        "\n",
        "a^2=b^2+c^2-2*bc*cos(alpha)"
      ]
    },
    {
      "cell_type": "code",
      "execution_count": null,
      "id": "ec04d84f",
      "metadata": {
        "colab": {
          "base_uri": "https://localhost:8080/"
        },
        "id": "ec04d84f",
        "outputId": "8c82bf4c-b125-4168-d8cc-54b375d87aa1"
      },
      "outputs": [
        {
          "output_type": "stream",
          "name": "stdout",
          "text": [
            "-------------------------------------------------------\n",
            "Exercise17: Calculator of triangles\n",
            "-------------------------------------------------------\n",
            "ENTER sides: \n",
            "Enter side b: 8\n",
            "Enter side c: 16\n",
            "Enter angle alpha: 120\n",
            "\n",
            "OUTPUTS: \n",
            "-------------------------------------------------------\n",
            "tha value of side a is:  21.17\n"
          ]
        }
      ],
      "source": [
        "import math\n",
        "\n",
        "print(\"-------------------------------------------------------\")\n",
        "print(\"Exercise17: Calculator of triangles\")\n",
        "print(\"-------------------------------------------------------\")\n",
        "\n",
        "#INPUTS\n",
        "print(\"ENTER sides: \")\n",
        "b = float( input(\"Enter side b: \"))\n",
        "c= float( input(\"Enter side c: \"))\n",
        "alpha= float( input(\"Enter angle alpha: \"))\n",
        "\n",
        "#Process\n",
        "\n",
        "alp=alpha*(math.pi)/180\n",
        "a=(b**2+c**2-2*b*c*math.cos(alp))**0.5\n",
        "ra= round(a, 2)\n",
        "\n",
        "#OUTPUTS\n",
        "print(\"\\nOUTPUTS: \")\n",
        "print(\"-------------------------------------------------------\")\n",
        "print(\"tha value of side a is: \", ra)"
      ]
    },
    {
      "cell_type": "markdown",
      "id": "98de79b4",
      "metadata": {
        "id": "98de79b4"
      },
      "source": [
        "<a id=\"r\"></a>\n",
        "[Index](#index)\n",
        "### Exercise 18\n",
        "\n",
        "Given the velocities of two bodies heading towards each other, determine the meeting time if the distance that initially separates them is \"D\"."
      ]
    },
    {
      "cell_type": "code",
      "execution_count": null,
      "id": "1d4bffb8",
      "metadata": {
        "colab": {
          "base_uri": "https://localhost:8080/"
        },
        "id": "1d4bffb8",
        "outputId": "aead2f3d-c5a8-4b33-fe3c-8274b49f7df6"
      },
      "outputs": [
        {
          "output_type": "stream",
          "name": "stdout",
          "text": [
            "-------------------------------------------------------\n",
            "Exercise18: Calculator of time of meeting\n",
            "-------------------------------------------------------\n",
            "ENTER distance D(kilometers): \n",
            "Enter distance D: 80\n",
            "ENTER velocities (km/h): \n",
            "Enter velocity A: 45\n",
            "Enter velocity B: 75\n",
            "\n",
            "OUTPUTS: \n",
            "-------------------------------------------------------\n",
            "the meeting time is:  0.67 hours\n"
          ]
        }
      ],
      "source": [
        "print(\"-------------------------------------------------------\")\n",
        "print(\"Exercise18: Calculator of time of meeting\")\n",
        "print(\"-------------------------------------------------------\")\n",
        "\n",
        "#INPUTS\n",
        "\n",
        "print(\"ENTER distance D(kilometers): \")\n",
        "d = float( input(\"Enter distance D: \"))\n",
        "\n",
        "print(\"ENTER velocities (km/h): \")\n",
        "a = float( input(\"Enter velocity A: \"))\n",
        "b = float( input(\"Enter velocity B: \"))\n",
        "\n",
        "#Process\n",
        "\n",
        "t= d/(a+b)\n",
        "rt= round(t, 2)\n",
        "\n",
        "#OUTPUTS\n",
        "print(\"\\nOUTPUTS: \")\n",
        "print(\"-------------------------------------------------------\")\n",
        "print(\"the meeting time is: \", rt, \"hours\")"
      ]
    },
    {
      "cell_type": "markdown",
      "id": "103014d9",
      "metadata": {
        "id": "103014d9"
      },
      "source": [
        "<a id=\"s\"></a>\n",
        "[Index](#index)\n",
        "### Exercise 19\n",
        "\n",
        "Given an angle in Radians, convert it to Sexagesimal degrees and then to Centesimals."
      ]
    },
    {
      "cell_type": "code",
      "execution_count": null,
      "id": "03cdefeb",
      "metadata": {
        "colab": {
          "base_uri": "https://localhost:8080/"
        },
        "id": "03cdefeb",
        "outputId": "1de7e989-a217-4fd0-8109-f3cb107a2f68"
      },
      "outputs": [
        {
          "output_type": "stream",
          "name": "stdout",
          "text": [
            "-------------------------------------------------------\n",
            "Exercise19: Degree converter\n",
            "-------------------------------------------------------\n",
            "Enter an angle in Radians:\n",
            "1\n",
            "\n",
            "1.0 Radians = 57°17'44\" (Sexagesimal degrees)\n",
            "             = 63g66' (Centesimals)\n"
          ]
        }
      ],
      "source": [
        "# prompt: Given an angle in Radians, convert it to Sexagesimal degrees and then to Centesimals.\n",
        "\n",
        "print(\"-------------------------------------------------------\")\n",
        "print(\"Exercise19: Degree converter\")\n",
        "print(\"-------------------------------------------------------\")\n",
        "\n",
        "\n",
        "import math\n",
        "\n",
        "# INPUTS\n",
        "print(\"Enter an angle in Radians:\")\n",
        "angle_rad = float(input())\n",
        "\n",
        "# PROCESS\n",
        "# Convert Radians to Sexagesimal degrees\n",
        "angle_deg = (180 / math.pi) * angle_rad\n",
        "degrees = int(angle_deg)\n",
        "minutes = int((angle_deg - degrees) * 60)\n",
        "seconds = int(((angle_deg - degrees) * 60 - minutes) * 60)\n",
        "\n",
        "# Convert Sexagesimal degrees to Centesimals\n",
        "angle_cen = (200 / 180) * angle_deg\n",
        "grados = int(angle_cen)\n",
        "minutos = int((angle_cen - grados) * 100)\n",
        "\n",
        "# OUTPUTS\n",
        "print(f\"\\n{angle_rad} Radians = {degrees}°{minutes}'{seconds}\\\" (Sexagesimal degrees)\")\n",
        "print(f\"             = {grados}g{minutos}' (Centesimals)\")\n"
      ]
    },
    {
      "cell_type": "markdown",
      "id": "7192f335",
      "metadata": {
        "id": "7192f335"
      },
      "source": [
        "<a id=\"t\"></a>\n",
        "[Index](#index)\n",
        "### Exercise 20\n",
        "\n",
        "Determine the distance between two points in space. (x1,y1,z1) and (x2,y2,z2)"
      ]
    },
    {
      "cell_type": "code",
      "execution_count": null,
      "id": "bac548e4",
      "metadata": {
        "colab": {
          "base_uri": "https://localhost:8080/"
        },
        "id": "bac548e4",
        "outputId": "c7c129f6-5578-460a-f4ef-36ef1b37ef29"
      },
      "outputs": [
        {
          "output_type": "stream",
          "name": "stdout",
          "text": [
            "-------------------------------------------------------\n",
            "Exercise20: Distance Calculator\n",
            "-------------------------------------------------------\n",
            "The distance between the two points is: 5.196152422706632\n"
          ]
        }
      ],
      "source": [
        "# prompt: Determine the distance between two points in space. (x1,y1,z1) and (x2,y2,z2)\n",
        "\n",
        "import math\n",
        "\n",
        "print(\"-------------------------------------------------------\")\n",
        "print(\"Exercise20: Distance Calculator\")\n",
        "print(\"-------------------------------------------------------\")\n",
        "\n",
        "def distance_between_points(point1, point2):\n",
        "  \"\"\"\n",
        "  Calculates the distance between two points in space.\n",
        "\n",
        "  Args:\n",
        "    point1: A tuple representing the first point (x1, y1, z1).\n",
        "    point2: A tuple representing the second point (x2, y2, z2).\n",
        "\n",
        "  Returns:\n",
        "    The distance between the two points.\n",
        "  \"\"\"\n",
        "\n",
        "  x1, y1, z1 = point1\n",
        "  x2, y2, z2 = point2\n",
        "\n",
        "  distance = math.sqrt((x2 - x1)**2 + (y2 - y1)**2 + (z2 - z1)**2)\n",
        "\n",
        "  return distance\n",
        "\n",
        "# Enter the points\n",
        "\n",
        "#print(\"Enter the coodenates of the first point:\")\n",
        "#point1 = input(\"x1, y1, z1: \")\n",
        "\n",
        "#print(\"Enter the coodenates of the second point:\")\n",
        "#point2 = input(\"x2, y2, z2: \")\n",
        "\n",
        "#Empty points\n",
        "# Both points have a lenght of 3\n",
        "\n",
        "\n",
        "sizeof_points=int(input(\"Ingrese el tamaño de los puntos:\"))\n",
        "point1=[]\n",
        "point2=[]\n",
        "\n",
        "#disponemos un ciclo de vueltas del tamaño de la lista\n",
        "for x in range(sizeof_points):\n",
        "    element1=int(input(\"Ingrese un valor entero:\"))\n",
        "    point1.append(element1)\n",
        "\n",
        "for y in range(sizeof_points):\n",
        "    element2=int(input(\"Ingrese un valor entero:\"))\n",
        "    point2.append(element2)\n",
        "#imprimimos la lista\n",
        "print(point1)\n",
        "print(point2)\n",
        "\n",
        "# ####### Example usage:\n",
        "point1 = (1, 2, 3)\n",
        "point2 = (4, 5, 6)\n",
        "\n",
        "distance = distance_between_points(point1, point2)\n",
        "\n",
        "print(f\"The distance between the two points is: {distance}\")\n"
      ]
    },
    {
      "cell_type": "code",
      "source": [
        "#definimos una lista vacia\n",
        "lista=[]\n",
        "tamano_lista=int(input(\"Ingrese el tamaño de la lista:\"))\n",
        "\n",
        "#disponemos un ciclo de vueltas del tamaño de la lista\n",
        "for x in range(tamano_lista):\n",
        "    valor=int(input(\"Ingrese un valor entero:\"))\n",
        "    lista.append(valor)\n",
        "\n",
        "#imprimimos la lista\n",
        "print(lista)"
      ],
      "metadata": {
        "colab": {
          "base_uri": "https://localhost:8080/"
        },
        "id": "v9rxNp1NDb0k",
        "outputId": "b9415cb6-6322-4ee4-d435-22ac874f6ff9"
      },
      "id": "v9rxNp1NDb0k",
      "execution_count": null,
      "outputs": [
        {
          "output_type": "stream",
          "name": "stdout",
          "text": [
            "Ingrese el tamaño de la lista:5\n",
            "Ingrese un valor entero:1\n",
            "Ingrese un valor entero:2\n",
            "Ingrese un valor entero:3\n",
            "Ingrese un valor entero:4\n",
            "Ingrese un valor entero:6\n",
            "[1, 2, 3, 4, 6]\n"
          ]
        }
      ]
    }
  ],
  "metadata": {
    "kernelspec": {
      "display_name": "Python 3 (ipykernel)",
      "language": "python",
      "name": "python3"
    },
    "language_info": {
      "codemirror_mode": {
        "name": "ipython",
        "version": 3
      },
      "file_extension": ".py",
      "mimetype": "text/x-python",
      "name": "python",
      "nbconvert_exporter": "python",
      "pygments_lexer": "ipython3",
      "version": "3.11.2"
    },
    "colab": {
      "provenance": [],
      "include_colab_link": true
    }
  },
  "nbformat": 4,
  "nbformat_minor": 5
}