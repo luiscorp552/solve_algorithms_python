{
 "cells": [
  {
   "cell_type": "code",
   "execution_count": null,
   "id": "10b5eaae",
   "metadata": {},
   "outputs": [],
   "source": []
  },
  {
   "cell_type": "markdown",
   "id": "e6391d4a",
   "metadata": {},
   "source": [
    "# Chapter 1. Basic instructions in an algorithm"
   ]
  },
  {
   "cell_type": "markdown",
   "id": "29bb4b8b",
   "metadata": {},
   "source": [
    "## Content\n",
    "<a id=\"index\">Content:</a>\n",
    "1. [Exercise 1](#a)\n",
    "1. [Exercise 2](#b)\n",
    "2. [Exercise 3](#c)\n",
    "3. [Exercise 4](#d)\n",
    "4. [Exercise 5](#e)\n",
    "5. [f](#f)\n",
    "6. [g](#g)\n",
    "7. [h](#h)"
   ]
  },
  {
   "cell_type": "markdown",
   "id": "be5f58f1",
   "metadata": {},
   "source": [
    "<a id=\"a\"></a>\n",
    "[Index](#index)\n",
    "### Exercise 1\n",
    "\n",
    "We want to calculate the distance traveled (m) by a moving object with a constant velocity (m/s) during a time t (s). We will consider that it is a URM (Uniform Rectilinear Motion)."
   ]
  },
  {
   "cell_type": "code",
   "execution_count": 4,
   "id": "895a2814",
   "metadata": {},
   "outputs": [
    {
     "name": "stdout",
     "output_type": "stream",
     "text": [
      "-------------------------------------------------------\n",
      "Exercise1: CALCULATE DISTANCE.\n",
      "-------------------------------------------------------\n",
      "Enter the speed and time of the moving unit\n",
      "Speed: 25\n",
      "Time: 78\n",
      "The distance is:  1950.0\n"
     ]
    }
   ],
   "source": [
    "print(\"-------------------------------------------------------\")\n",
    "print(\"Exercise1: CALCULATE DISTANCE.\")\n",
    "print(\"-------------------------------------------------------\")\n",
    "#INPUTS\n",
    "print(\"Enter the speed and time of the moving unit\")\n",
    "\n",
    "V = float( input(\"Speed: \") )\n",
    "T = int( input(\"Time: \") )\n",
    "\n",
    "#Process\n",
    "D = V*T\n",
    "\n",
    "#Output\n",
    "print(\"The distance is: \", D)"
   ]
  },
  {
   "cell_type": "markdown",
   "id": "5b136076",
   "metadata": {},
   "source": [
    "<a id=\"b\"></a>\n",
    "[Index](#index)\n",
    "### Exercise 2\n",
    "\n",
    "We need to calculate the simple average of a student's three partial grades N1, N2, and N3."
   ]
  },
  {
   "cell_type": "code",
   "execution_count": 6,
   "id": "63a9746b",
   "metadata": {},
   "outputs": [
    {
     "name": "stdout",
     "output_type": "stream",
     "text": [
      "-------------------------------------------------------\n",
      "Exercise2: Mean of 3 notes.\n",
      "-------------------------------------------------------\n",
      "Enter the 3 notes of the student N1 , N2, N3\n",
      "N1: 17\n",
      "N2: 18\n",
      "N3: 14\n",
      "\n",
      "Output: \n",
      "The mean of 3 notes is:  16\n"
     ]
    }
   ],
   "source": [
    "print(\"-------------------------------------------------------\")\n",
    "print(\"Exercise2: Mean of 3 notes.\")\n",
    "print(\"-------------------------------------------------------\")\n",
    "\n",
    "#Inputs\n",
    "print(\"Enter the 3 notes of the student N1 , N2, N3\")\n",
    "N1 = int( input(\"N1: \"))\n",
    "N2 = int( input(\"N2: \"))\n",
    "N3 = int( input(\"N3: \"))\n",
    "\n",
    "#Process\n",
    "P = int( (N1+N2+N3)/3 )\n",
    "\n",
    "#Output\n",
    "print(\"\\nOutput: \")\n",
    "print(\"The mean of 3 notes is: \",P)"
   ]
  },
  {
   "cell_type": "markdown",
   "id": "cf1b2b10",
   "metadata": {},
   "source": [
    "<a id=\"c\"></a>\n",
    "[Index](#index)\n",
    "### Exercise 3\n",
    "\n",
    "An algorithm is needed to request the number of correct, incorrect, and blank answers for each applicant, and to display their final score, considering that each correct answer will be worth 3 points, incorrect answers will be worth -1 points, and blank answers will be worth 0 points."
   ]
  },
  {
   "cell_type": "code",
   "execution_count": 1,
   "id": "1738fb26",
   "metadata": {},
   "outputs": [
    {
     "name": "stdout",
     "output_type": "stream",
     "text": [
      "-------------------------------------------------------\n",
      "Exercise3: FINAL SCORE.\n",
      "-------------------------------------------------------\n",
      "Enter number of correct answers: \n",
      "8\n",
      "Enter number of incorrect answers: \n",
      "4\n",
      "Enter number of blank answers: \n",
      "9\n",
      "The final score is:  20\n"
     ]
    }
   ],
   "source": [
    "print(\"-------------------------------------------------------\")\n",
    "print(\"Exercise3: FINAL SCORE.\")\n",
    "print(\"-------------------------------------------------------\")\n",
    "\n",
    "#Inputs\n",
    "print(\"Enter number of correct answers: \")\n",
    "RC = int( input())\n",
    "print(\"Enter number of incorrect answers: \")\n",
    "RI = int( input())\n",
    "print(\"Enter number of blank answers: \")\n",
    "RB = int( input())\n",
    "\n",
    "#Process\n",
    "PCR = RC*3\n",
    "PRI = RI*-1\n",
    "PRB = RB*0\n",
    "\n",
    "PF = PCR + PRI + PRB\n",
    "\n",
    "#Outputs\n",
    "print(\"The final score is: \", PF)"
   ]
  },
  {
   "cell_type": "markdown",
   "id": "35a4d5ae",
   "metadata": {},
   "source": [
    "<a id=\"d\"></a>\n",
    "[Index](#index)\n",
    "### Exercise 4\n",
    "\n",
    "Develop an algorithm that allows you to enter the number of games won, lost, and tied by ABC club in the Apertura tournament. The total score should be displayed, taking into account that for each game won, you will get 3 points, tied 1 point, and lost 0 points."
   ]
  },
  {
   "cell_type": "code",
   "execution_count": 2,
   "id": "0f371ddb",
   "metadata": {},
   "outputs": [
    {
     "name": "stdout",
     "output_type": "stream",
     "text": [
      "-------------------------------------------------------\n",
      "Exercise4: TOTAL SCORE OF GAMES.\n",
      "-------------------------------------------------------\n",
      "Enter number of games won\n",
      "4\n",
      "Enter number of games tied\n",
      "8\n",
      "Enter number of games lost\n",
      "9\n",
      "\n",
      "OUTPUT: \n",
      "-------------------------------------------------------\n",
      "Final Score:  20\n"
     ]
    }
   ],
   "source": [
    "print(\"-------------------------------------------------------\")\n",
    "print(\"Exercise4: TOTAL SCORE OF GAMES.\")\n",
    "print(\"-------------------------------------------------------\")\n",
    "\n",
    "#Inputs\n",
    "print(\"Enter number of games won\")\n",
    "PG = int( input())\n",
    "print(\"Enter number of games tied\")\n",
    "PE = int( input())\n",
    "print(\"Enter number of games lost\")\n",
    "PP = int( input())\n",
    "\n",
    "#Process\n",
    "PPG = PG*3\n",
    "PPE = PE*1\n",
    "PPP = PP*0\n",
    "PF = PPG + PPE + PPP\n",
    "\n",
    "#Output\n",
    "print(\"\\nOUTPUT: \")\n",
    "print(\"-------------------------------------------------------\")\n",
    "print(\"Final Score: \", PF)"
   ]
  },
  {
   "cell_type": "markdown",
   "id": "f9a53c9e",
   "metadata": {},
   "source": [
    "<a id=\"e\"></a>\n",
    "[Index](#index)\n",
    "### Exercise 5\n",
    "\n",
    "Develop an algorithm to calculate the number of 3.5-inch floppy disks needed to make a backup of the information stored on a hard drive whose capacity is known. It is necessary to consider that the hard drive is full of information, in addition to being expressed in gigabytes. A floppy disk has 1.44 megabytes and a gigabyte is equal to 1,024 megabytes."
   ]
  },
  {
   "cell_type": "code",
   "execution_count": 2,
   "id": "3760fc88",
   "metadata": {},
   "outputs": [
    {
     "name": "stdout",
     "output_type": "stream",
     "text": [
      "-------------------------------------------------------\n",
      "Exercise5: Number of 3.5-inch floppy disks needed\n",
      "-------------------------------------------------------\n",
      "Enter GB: \n",
      "4\n",
      "\n",
      "OUTPUT: \n",
      "-------------------------------------------------------\n",
      "2844.4444444444443\n",
      "Number of 3.5-inch floppy disks needed is:  2845\n"
     ]
    }
   ],
   "source": [
    "import math\n",
    "\n",
    "print(\"-------------------------------------------------------\")\n",
    "print(\"Exercise5: Number of 3.5-inch floppy disks needed\")\n",
    "print(\"-------------------------------------------------------\")\n",
    "\n",
    "#Inputs\n",
    "print(\"Enter GB: \")\n",
    "GB = float( input())\n",
    "\n",
    "#Process\n",
    "MG = GB*1024\n",
    "MD = MG/1.44\n",
    "\n",
    "#Outputs\n",
    "print(\"\\nOUTPUT: \")\n",
    "print(\"-------------------------------------------------------\")\n",
    "print(MD)\n",
    "\n",
    "#The math.ceil function rounds the result to the next highest integer.\n",
    "print(\"Number of 3.5-inch floppy disks needed is: \", math.ceil(MD))"
   ]
  },
  {
   "cell_type": "code",
   "execution_count": null,
   "id": "1fcf2d86",
   "metadata": {},
   "outputs": [],
   "source": []
  }
 ],
 "metadata": {
  "kernelspec": {
   "display_name": "Python 3 (ipykernel)",
   "language": "python",
   "name": "python3"
  },
  "language_info": {
   "codemirror_mode": {
    "name": "ipython",
    "version": 3
   },
   "file_extension": ".py",
   "mimetype": "text/x-python",
   "name": "python",
   "nbconvert_exporter": "python",
   "pygments_lexer": "ipython3",
   "version": "3.11.2"
  }
 },
 "nbformat": 4,
 "nbformat_minor": 5
}
