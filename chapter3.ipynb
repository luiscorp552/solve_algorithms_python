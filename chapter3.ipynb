{
  "cells": [
    {
      "cell_type": "code",
      "execution_count": null,
      "id": "10b5eaae",
      "metadata": {
        "id": "10b5eaae"
      },
      "outputs": [],
      "source": []
    },
    {
      "cell_type": "markdown",
      "id": "e6391d4a",
      "metadata": {
        "id": "e6391d4a"
      },
      "source": [
        "# Chapter 3. Repetitive structures"
      ]
    },
    {
      "cell_type": "markdown",
      "id": "29bb4b8b",
      "metadata": {
        "id": "29bb4b8b"
      },
      "source": [
        "## Content\n",
        "<a id=\"index\">Content:</a>\n",
        "1. [Exercise 1](#a)\n",
        "2. [Exercise 2](#b)\n",
        "3. [Exercise 3](#c)\n",
        "4. [Exercise 4](#d)\n",
        "5. [Exercise 5](#e)\n",
        "6. [Exercise 6](#f)\n",
        "7. [Exercise 7](#g)\n",
        "8. [Exercise 8](#h)\n",
        "9. [Exercise 9](#i)\n",
        "10. [Exercise 10](#j)\n",
        "11. [Exercise 11](#k)\n",
        "12. [Exercise 12](#l)\n",
        "13. [Exercise 13](#m)\n",
        "14. [Exercise 14](#n)\n",
        "15. [Exercise 15](#o)\n",
        "16. [Exercise 16](#p)\n",
        "17. [Exercise 17](#q)\n",
        "18. [Exercise 18](#r)\n",
        "19. [Exercise 19](#s)\n",
        "20. [Exercise 20](#t)\n"
      ]
    },
    {
      "cell_type": "markdown",
      "id": "be5f58f1",
      "metadata": {
        "id": "be5f58f1"
      },
      "source": [
        "<a id=\"a\"></a>\n",
        "[Index](#index)\n",
        "### Exercise 1\n",
        "\n",
        "A capital C is placed, at an interest rate of \"I\" (which ranges from 0 to 100), for M years. An algorithm needs to be created to determine how much this capital will have become in \"M\" years, knowing that it is cumulative."
      ]
    },
    {
      "cell_type": "code",
      "execution_count": null,
      "id": "895a2814",
      "metadata": {
        "id": "895a2814",
        "colab": {
          "base_uri": "https://localhost:8080/"
        },
        "outputId": "b9aaf206-dbcd-4acc-8439-e05370026436"
      },
      "outputs": [
        {
          "output_type": "stream",
          "name": "stdout",
          "text": [
            "-------------------------------------------------------\n",
            "Exercise 1.1: Interest Calculator\n",
            "-------------------------------------------------------\n",
            "Enter Capital, interest_rate and years\n",
            "Enter capital: 1000\n",
            "Enter interest_rate: 10\n",
            "Enter years :5\n",
            "Final amount after 5 years: 1610.5100000000004\n"
          ]
        }
      ],
      "source": [
        "print(\"-------------------------------------------------------\")\n",
        "print(\"Exercise 1.1: Interest Calculator\")\n",
        "print(\"-------------------------------------------------------\")\n",
        "\n",
        "def compound_interest(capital, interest_rate, years):\n",
        "  \"\"\"\n",
        "  Calculates the final amount of a capital after a certain number of years with compound interest.\n",
        "\n",
        "  Args:\n",
        "    capital: The initial amount of money.\n",
        "    interest_rate: The annual interest rate as a percentage (e.g., 5 for 5%).\n",
        "    years: The number of years.\n",
        "\n",
        "  Returns:\n",
        "    The final amount of money after \"years\" with compound interest.\n",
        "  \"\"\"\n",
        "  final_amount = capital * (1 + interest_rate / 100) ** years\n",
        "  return final_amount\n",
        "\n",
        "# INPUTS\n",
        "print(\"Enter Capital, interest_rate and years\")\n",
        "capital = float(input(\"Enter capital: \"))\n",
        "interest_rate = float(input(\"Enter interest_rate: \"))\n",
        "years = int(input(\"Enter years :\" ))\n",
        "\n",
        "# OUTPUT\n",
        "final_amount = compound_interest(capital, interest_rate, years)\n",
        "print(f\"Final amount after {years} years: {final_amount}\")\n"
      ]
    },
    {
      "cell_type": "code",
      "source": [
        "print(\"-------------------------------------------------------\")\n",
        "print(\"Exercise 1.2: Interest Calculator\")\n",
        "print(\"-------------------------------------------------------\")\n",
        "\n",
        "def compound_interest2(capital, interest_rate):\n",
        "  \"\"\"\n",
        "  Calculates the amount of a capital after ONE year with compound interest.\n",
        "\n",
        "  Args:\n",
        "    capital: The initial amount of money.\n",
        "    interest_rate: The annual interest rate as a percentage (e.g., 5 for 5%).\n",
        "\n",
        "  Returns:\n",
        "    The amount of money after one year with compound interest.\n",
        "  \"\"\"\n",
        "  capital = capital * (1 + interest_rate / 100)\n",
        "  return capital\n",
        "\n",
        "# INPUTS\n",
        "print(\"Enter Capital, interest_rate and years\")\n",
        "capital = float(input(\"Enter capital: \"))\n",
        "interest_rate = float(input(\"Enter interest_rate: \"))\n",
        "year = int(input(\"Enter years :\" ))\n",
        "\n",
        "#PROCESS\n",
        "amount = capital\n",
        "for i in range(year):\n",
        "    amount = compound_interest2(amount, interest_rate)\n",
        "    print(f\"The amount after {i+1} years: {amount}\")\n",
        "\n",
        "# OUTPUT\n",
        "print(f\"Final amount after {year} years: {amount}\")\n"
      ],
      "metadata": {
        "colab": {
          "base_uri": "https://localhost:8080/"
        },
        "id": "QphxRlV1Ot4Q",
        "outputId": "749c813c-0bff-40ad-f455-c5a11ee2a7b9"
      },
      "id": "QphxRlV1Ot4Q",
      "execution_count": null,
      "outputs": [
        {
          "output_type": "stream",
          "name": "stdout",
          "text": [
            "-------------------------------------------------------\n",
            "Exercise 1.2: Interest Calculator\n",
            "-------------------------------------------------------\n",
            "Enter Capital, interest_rate and years\n",
            "Enter capital: 1000\n",
            "Enter interest_rate: 10\n",
            "Enter years :5\n",
            "The amount after 1 years: 1100.0\n",
            "The amount after 2 years: 1210.0\n",
            "The amount after 3 years: 1331.0\n",
            "The amount after 4 years: 1464.1000000000001\n",
            "The amount after 5 years: 1610.5100000000002\n",
            "Final amount after 5 years: 1610.5100000000002\n"
          ]
        }
      ]
    },
    {
      "cell_type": "markdown",
      "id": "5b136076",
      "metadata": {
        "id": "5b136076"
      },
      "source": [
        "<a id=\"b\"></a>\n",
        "[Index](#index)\n",
        "### Exercise 2\n",
        "\n",
        "Make an algorithm to calculate the sum of the divisors of each number entered by keyboard. The loop will end when the number entered is negative."
      ]
    },
    {
      "cell_type": "code",
      "execution_count": null,
      "id": "63a9746b",
      "metadata": {
        "id": "63a9746b",
        "colab": {
          "base_uri": "https://localhost:8080/"
        },
        "outputId": "154d2d5b-4b2e-4f16-c657-ef66cd41a7b1"
      },
      "outputs": [
        {
          "output_type": "stream",
          "name": "stdout",
          "text": [
            "-------------------------------------------------------\n",
            "Exercise 2: Sum of divisors Calculator\n",
            "-------------------------------------------------------\n",
            "Enter a number: 5\n",
            "Enter a number negative to quit: -1\n",
            "The sum of divisors of all entered numbers is: 6\n"
          ]
        }
      ],
      "source": [
        "print(\"-------------------------------------------------------\")\n",
        "print(\"Exercise 2: Sum of divisors Calculator\")\n",
        "print(\"-------------------------------------------------------\")\n",
        "\n",
        "def sum_of_divisors(n):\n",
        "  \"\"\"\n",
        "  Calculates the sum of the divisors of a number.\n",
        "\n",
        "  Args:\n",
        "    n: The number to find the sum of divisors for.\n",
        "\n",
        "  Returns:\n",
        "    The sum of the divisors of n.\n",
        "  \"\"\"\n",
        "  sum_divisors = 0\n",
        "  for i in range(1, n + 1):\n",
        "    if n % i == 0:\n",
        "      sum_divisors += i\n",
        "  return sum_divisors\n",
        "\n",
        "# Initialize sum\n",
        "sum_divisors = 0\n",
        "\n",
        "# Get input from user\n",
        "number = int(input(\"Enter a number: \"))\n",
        "\n",
        "# Loop until user enters a negative number\n",
        "while number >= 0:\n",
        "  # Calculate the sum of divisors for the current number\n",
        "  sum_divisors += sum_of_divisors(number)\n",
        "\n",
        "  # Get the next number from the user\n",
        "  number = int(input(\"Enter a number negative to quit: \"))\n",
        "\n",
        "# Print the final sum of divisors\n",
        "print(\"The sum of divisors of all entered numbers is:\", sum_divisors)\n"
      ]
    },
    {
      "cell_type": "markdown",
      "id": "cf1b2b10",
      "metadata": {
        "id": "cf1b2b10"
      },
      "source": [
        "<a id=\"c\"></a>\n",
        "[Index](#index)\n",
        "### Exercise 3\n",
        "\n",
        "Make an algorithm that determines which and how many are the prime numbers included between two entered numbers."
      ]
    },
    {
      "cell_type": "code",
      "execution_count": null,
      "id": "1738fb26",
      "metadata": {
        "id": "1738fb26",
        "colab": {
          "base_uri": "https://localhost:8080/"
        },
        "outputId": "1cdf013a-4a7d-4e2a-d8f2-f8aba8f0284f"
      },
      "outputs": [
        {
          "output_type": "stream",
          "name": "stdout",
          "text": [
            "-------------------------------------------------------\n",
            "Exercise 3: Prime numbers Calculator\n",
            "-------------------------------------------------------\n",
            "Enter the lower bound: 1\n",
            "Enter the upper bound: 1000\n",
            "Prime numbers between 1 and 1000: [2, 3, 5, 7, 11, 13, 17, 19, 23, 29, 31, 37, 41, 43, 47, 53, 59, 61, 67, 71, 73, 79, 83, 89, 97, 101, 103, 107, 109, 113, 127, 131, 137, 139, 149, 151, 157, 163, 167, 173, 179, 181, 191, 193, 197, 199, 211, 223, 227, 229, 233, 239, 241, 251, 257, 263, 269, 271, 277, 281, 283, 293, 307, 311, 313, 317, 331, 337, 347, 349, 353, 359, 367, 373, 379, 383, 389, 397, 401, 409, 419, 421, 431, 433, 439, 443, 449, 457, 461, 463, 467, 479, 487, 491, 499, 503, 509, 521, 523, 541, 547, 557, 563, 569, 571, 577, 587, 593, 599, 601, 607, 613, 617, 619, 631, 641, 643, 647, 653, 659, 661, 673, 677, 683, 691, 701, 709, 719, 727, 733, 739, 743, 751, 757, 761, 769, 773, 787, 797, 809, 811, 821, 823, 827, 829, 839, 853, 857, 859, 863, 877, 881, 883, 887, 907, 911, 919, 929, 937, 941, 947, 953, 967, 971, 977, 983, 991, 997]\n",
            "Total number of prime numbers: 168\n"
          ]
        }
      ],
      "source": [
        "print(\"-------------------------------------------------------\")\n",
        "print(\"Exercise 3: Prime numbers Calculator\")\n",
        "print(\"-------------------------------------------------------\")\n",
        "\n",
        "def is_prime(n):\n",
        "  \"\"\"\n",
        "  Checks if a number is prime.\n",
        "\n",
        "  Args:\n",
        "    n: The number to check.\n",
        "\n",
        "  Returns:\n",
        "    True if n is prime, False otherwise.\n",
        "  \"\"\"\n",
        "  if n <= 1:\n",
        "    return False\n",
        "  for i in range(2, int(n**0.5) + 1):\n",
        "    if n % i == 0:\n",
        "      return False\n",
        "  return True\n",
        "\n",
        "# Get input from user\n",
        "lower_bound = int(input(\"Enter the lower bound: \"))\n",
        "upper_bound = int(input(\"Enter the upper bound: \"))\n",
        "\n",
        "# Find and count prime numbers\n",
        "prime_numbers = []\n",
        "count = 0\n",
        "for number in range(lower_bound, upper_bound + 1):\n",
        "  if is_prime(number):\n",
        "    prime_numbers.append(number)\n",
        "    count += 1\n",
        "\n",
        "# Print results\n",
        "print(f\"Prime numbers between {lower_bound} and {upper_bound}: {prime_numbers}\")\n",
        "print(f\"Total number of prime numbers: {count}\")\n"
      ]
    },
    {
      "cell_type": "markdown",
      "id": "35a4d5ae",
      "metadata": {
        "id": "35a4d5ae"
      },
      "source": [
        "<a id=\"d\"></a>\n",
        "[Index](#index)\n",
        "### Exercise 4\n",
        "\n",
        "Create an algorithm for a program that asks the user to enter a positive integer. Then, it proceeds to separate each digit from the entered number and prints it on a separate line, until the number becomes 0."
      ]
    },
    {
      "cell_type": "code",
      "execution_count": null,
      "id": "0f371ddb",
      "metadata": {
        "id": "0f371ddb",
        "colab": {
          "base_uri": "https://localhost:8080/"
        },
        "outputId": "3c2ed0fe-2cfc-46f3-8381-66be905dd483"
      },
      "outputs": [
        {
          "output_type": "stream",
          "name": "stdout",
          "text": [
            "-------------------------------------------------------\n",
            "Exercise 4: Digit Separator\n",
            "-------------------------------------------------------\n",
            "Enter a positive integer: 9876543210\n",
            "0\n",
            "1\n",
            "2\n",
            "3\n",
            "4\n",
            "5\n",
            "6\n",
            "7\n",
            "8\n",
            "9\n"
          ]
        }
      ],
      "source": [
        "print(\"-------------------------------------------------------\")\n",
        "print(\"Exercise 4: Digit Separator\")\n",
        "print(\"-------------------------------------------------------\")\n",
        "\n",
        "# Get input from user\n",
        "number = int(input(\"Enter a positive integer: \"))\n",
        "\n",
        "# Loop until the number becomes 0\n",
        "while number > 0:\n",
        "  # Extract the last digit\n",
        "  last_digit = number % 10\n",
        "\n",
        "  # Print the last digit\n",
        "  print(last_digit)\n",
        "\n",
        "  # Remove the last digit from the number\n",
        "  number //= 10\n"
      ]
    },
    {
      "cell_type": "markdown",
      "id": "f9a53c9e",
      "metadata": {
        "id": "f9a53c9e"
      },
      "source": [
        "<a id=\"e\"></a>\n",
        "[Index](#index)\n",
        "### Exercise 5\n",
        "\n",
        "Create a program that calculates the value of the exponential e^x using the Taylor series. The Taylor series is an infinite series representation of a function f(x), which approximates the original function with greater accuracy as more terms of the series are added. In this case, the function f(x) is the exponential e^x."
      ]
    },
    {
      "cell_type": "code",
      "execution_count": null,
      "id": "3760fc88",
      "metadata": {
        "id": "3760fc88",
        "colab": {
          "base_uri": "https://localhost:8080/"
        },
        "outputId": "7196c6ff-ebe5-4eb5-e6a5-6420f9323df9"
      },
      "outputs": [
        {
          "output_type": "stream",
          "name": "stdout",
          "text": [
            "Enter the value of x: 14\n",
            "Enter the number of terms to use: 47\n",
            "e^14.0 using the Taylor series with 47 terms: 1202604.2841607628\n"
          ]
        }
      ],
      "source": [
        "print(\"-------------------------------------------------------\")\n",
        "print(\"Exercise 5.1: Taylor Serias exponential\")\n",
        "print(\"-------------------------------------------------------\")\n",
        "\n",
        "import math\n",
        "\n",
        "def taylor_series_exponential(x, n):\n",
        "  \"\"\"\n",
        "  Calculates the value of e^x using the Taylor series.\n",
        "\n",
        "  Args:\n",
        "    x: The value at which to evaluate e^x.\n",
        "    n: The number of terms to use in the Taylor series.\n",
        "\n",
        "  Returns:\n",
        "    The approximate value of e^x using the Taylor series with n terms.\n",
        "  \"\"\"\n",
        "  e = 0\n",
        "  for i in range(n):\n",
        "    e += (x**i) / math.factorial(i)\n",
        "  return e\n",
        "\n",
        "# Get input from user\n",
        "x = float(input(\"Enter the value of x: \"))\n",
        "n = int(input(\"Enter the number of terms to use: \"))\n",
        "\n",
        "# Calculate and print the result\n",
        "result = taylor_series_exponential(x, n)\n",
        "print(f\"e^{x} using the Taylor series with {n} terms: {result}\")\n",
        "\n"
      ]
    },
    {
      "cell_type": "code",
      "source": [
        "print(\"-------------------------------------------------------\")\n",
        "print(\"Exercise 5.2: Taylor Serias exponential\")\n",
        "print(\"-------------------------------------------------------\")\n",
        "\n",
        "# Get input from user\n",
        "print(\"Enter the value of X: \")\n",
        "x = int( input())\n",
        "\n",
        "# Initialization\n",
        "e = 1\n",
        "num = 1\n",
        "den = 1\n",
        "i = 1\n",
        "\n",
        "num = x**i\n",
        "den = den*i\n",
        "i = i + 1\n",
        "e = e + num/den\n",
        "j = 0\n",
        "\n",
        "# WHILE\n",
        "while not (num/den < 0.000001):\n",
        "  num = x**i\n",
        "  den = den*i\n",
        "  i = i + 1\n",
        "  e = e + num/den\n",
        "  j = j + 1\n",
        "\n",
        "# OUTPUT\n",
        "print(\"\\nOutput: \")\n",
        "print(\"-------------------------------------------------------\")\n",
        "print(\"e raised to the power of \", x, \"is: \", e, \" with \", j, \" terms\")\n",
        "print(\"-------------------------------------------------------\")"
      ],
      "metadata": {
        "colab": {
          "base_uri": "https://localhost:8080/"
        },
        "id": "Ai-lb6j-zBcT",
        "outputId": "b5f2b70a-cf2d-4e66-cc3c-ff763a626f64"
      },
      "id": "Ai-lb6j-zBcT",
      "execution_count": null,
      "outputs": [
        {
          "output_type": "stream",
          "name": "stdout",
          "text": [
            "-------------------------------------------------------\n",
            "Exercise 5.2: Taylor Serias exponential\n",
            "-------------------------------------------------------\n",
            "Enter the value of X: \n",
            "14\n",
            "\n",
            "Output: \n",
            "-------------------------------------------------------\n",
            "e raised to the power of  14 is:  1202604.2841644483  with  47  terms\n",
            "-------------------------------------------------------\n"
          ]
        }
      ]
    },
    {
      "cell_type": "markdown",
      "id": "c1eb2f12",
      "metadata": {
        "id": "c1eb2f12"
      },
      "source": [
        "<a id=\"f\"></a>\n",
        "[Index](#index)\n",
        "### Exercise 6\n",
        "\n",
        "Create code that implements the Fibonacci sequence until the value of 'An' exceeds a value entered by the user."
      ]
    },
    {
      "cell_type": "code",
      "execution_count": null,
      "id": "a9e53e51",
      "metadata": {
        "id": "a9e53e51",
        "colab": {
          "base_uri": "https://localhost:8080/"
        },
        "outputId": "cee535f2-8cf0-45c8-f295-646751b267e2"
      },
      "outputs": [
        {
          "output_type": "stream",
          "name": "stdout",
          "text": [
            "-------------------------------------------------------\n",
            "Exercise 6.1: Fibonacci Serie\n",
            "-------------------------------------------------------\n",
            "Enter the maximum value for the Fibonacci sequence: 300\n",
            "\n",
            "OUTPUT: \n",
            "-------------------------------------------------------\n",
            "The range is: 8 and the result is: 341\n"
          ]
        }
      ],
      "source": [
        "print(\"-------------------------------------------------------\")\n",
        "print(\"Exercise 6.1: Fibonacci Serie\")\n",
        "print(\"-------------------------------------------------------\")\n",
        "\n",
        "\n",
        "max_value = int(input(\"Enter the maximum value for the Fibonacci sequence: \"))\n",
        "\n",
        "#Initialization\n",
        "A1 = 1\n",
        "A2 = 0\n",
        "An = A1 + (2 * A2)\n",
        "cont = 0\n",
        "\n",
        "while An < max_value:\n",
        "   A2 = A1\n",
        "   A1 = An\n",
        "   An = A1 + (2 * A2)\n",
        "   cont = cont + 1\n",
        "\n",
        "#Output\n",
        "print(\"\\nOUTPUT: \")\n",
        "print(\"-------------------------------------------------------\")\n",
        "print(\"The range is:\", cont, \"and the result is:\", An)"
      ]
    },
    {
      "cell_type": "code",
      "source": [
        "print(\"-------------------------------------------------------\")\n",
        "print(\"Exercise 6.2: Fibonacci Serie\")\n",
        "print(\"-------------------------------------------------------\")\n",
        "\n",
        "max_value = int(input(\"Enter the maximum value for the Fibonacci sequence: \"))\n",
        "\n",
        "# Initialize the Fibonacci sequence\n",
        "A1 = 1\n",
        "A2 = 0\n",
        "An = A1 + (2 * A2)\n",
        "\n",
        "# Loop until An exceeds the maximum value\n",
        "cont = 0\n",
        "while An < max_value:\n",
        "  A2 = A1\n",
        "  A1 = An\n",
        "  An = A1 + (2 * A2)\n",
        "  cont = cont + 1\n",
        "\n",
        "# Print the result\n",
        "print(f\"The Fibonacci sequence reaches {max_value} after {cont} terms and the result is {An}.\")\n"
      ],
      "metadata": {
        "colab": {
          "base_uri": "https://localhost:8080/"
        },
        "id": "PraulTgH9YIl",
        "outputId": "464dd394-073d-476b-f528-ad2c452d3af3"
      },
      "id": "PraulTgH9YIl",
      "execution_count": null,
      "outputs": [
        {
          "output_type": "stream",
          "name": "stdout",
          "text": [
            "-------------------------------------------------------\n",
            "Exercise 6.2: Fibonacci Serie\n",
            "-------------------------------------------------------\n",
            "Enter the maximum value for the Fibonacci sequence: 300\n",
            "The Fibonacci sequence reaches 300 after 8 terms and the result is 341.\n"
          ]
        }
      ]
    },
    {
      "cell_type": "markdown",
      "id": "6eb68ab5",
      "metadata": {
        "id": "6eb68ab5"
      },
      "source": [
        "<a id=\"g\"></a>\n",
        "[Index](#index)\n",
        "### Exercise 7\n",
        "\n",
        "Write a program that, when a certain number of \"n\" integers is entered on the keyboard, calculates how many of them are even. The result is printed."
      ]
    },
    {
      "cell_type": "code",
      "execution_count": null,
      "id": "021a3752",
      "metadata": {
        "id": "021a3752",
        "colab": {
          "base_uri": "https://localhost:8080/"
        },
        "outputId": "e03b8e23-5231-4453-9503-6de913f0557d"
      },
      "outputs": [
        {
          "output_type": "stream",
          "name": "stdout",
          "text": [
            "-------------------------------------------------------\n",
            "Exercise 7: Integers Calculator\n",
            "-------------------------------------------------------\n",
            "Enter the number of integers: 8\n",
            "Enter an integer: 5\n",
            "Enter an integer: 9\n",
            "Enter an integer: 7\n",
            "Enter an integer: 43\n",
            "Enter an integer: 65\n",
            "Enter an integer: 83\n",
            "Enter an integer: 98\n",
            "Enter an integer: 87\n",
            "There are 1 even numbers.\n"
          ]
        }
      ],
      "source": [
        "print(\"-------------------------------------------------------\")\n",
        "print(\"Exercise 7: Integers Calculator\")\n",
        "print(\"-------------------------------------------------------\")\n",
        "\n",
        "def count_even_numbers(n):\n",
        "  \"\"\"\n",
        "  Counts the number of even numbers in a list of n integers.\n",
        "\n",
        "  Args:\n",
        "    n: The number of integers to input.\n",
        "\n",
        "  Returns:\n",
        "    The number of even numbers in the list.\n",
        "  \"\"\"\n",
        "  count = 0\n",
        "  for _ in range(n):\n",
        "    number = int(input(\"Enter an integer: \"))\n",
        "    if number % 2 == 0:\n",
        "      count += 1\n",
        "  return count\n",
        "\n",
        "# Get the number of integers to input\n",
        "n = int(input(\"Enter the number of integers: \"))\n",
        "\n",
        "# Count the even numbers\n",
        "even_count = count_even_numbers(n)\n",
        "\n",
        "# Print the result\n",
        "print(f\"There are {even_count} even numbers.\")\n"
      ]
    },
    {
      "cell_type": "markdown",
      "id": "0390aacc",
      "metadata": {
        "id": "0390aacc"
      },
      "source": [
        "<a id=\"h\"></a>\n",
        "[Index](#index)\n",
        "### Exercise 8\n",
        "\n",
        "Make an implementation in Python of an algorithm that calculates the first terms of a sequence defined by a second-order recurrence relation, until finding the first term greater than 300. The index of the last calculated term and its value are returned."
      ]
    },
    {
      "cell_type": "code",
      "execution_count": null,
      "id": "2acf814e",
      "metadata": {
        "id": "2acf814e",
        "colab": {
          "base_uri": "https://localhost:8080/"
        },
        "outputId": "3046c279-8a1b-4cde-af6a-ad8aff7252fb"
      },
      "outputs": [
        {
          "output_type": "stream",
          "name": "stdout",
          "text": [
            "-------------------------------------------------------\n",
            "Exercise 8: Sequence Calculator\n",
            "-------------------------------------------------------\n",
            "The index of the last term calculated is: 8 and the value of the last calculated term is: 341\n"
          ]
        }
      ],
      "source": [
        "print(\"-------------------------------------------------------\")\n",
        "print(\"Exercise 8: Sequence Calculator\")\n",
        "print(\"-------------------------------------------------------\")\n",
        "\n",
        "def calculate_sequence():\n",
        "  \"\"\"\n",
        "  Calculates the first terms of a sequence defined by a second-order recurrence relation, until the first term greater than 300 is found.\n",
        "\n",
        "  Returns:\n",
        "    A tuple (index, value) where:\n",
        "    - index is the index of the last term calculated.\n",
        "    - value is the value of the last term calculated.\n",
        "  \"\"\"\n",
        "  # Initialize the first two terms of the sequence\n",
        "  A1 = 1\n",
        "  A2 = 0\n",
        "  An = A1 + (2 * A2)\n",
        "  index = 0\n",
        "\n",
        "  while An <= 300:\n",
        "    A2 = A1\n",
        "    A1 = An\n",
        "    An = A1 + (2 * A2)\n",
        "    index += 1\n",
        "\n",
        "  return index, An\n",
        "\n",
        "index, value = calculate_sequence()\n",
        "\n",
        "print(\"The index of the last term calculated is:\", index, \"and the value of the last calculated term is:\", value)\n"
      ]
    },
    {
      "cell_type": "markdown",
      "id": "755626ca",
      "metadata": {
        "id": "755626ca"
      },
      "source": [
        "<a id=\"i\"></a>\n",
        "[Index](#index)\n",
        "### Exercise 9\n",
        "\n",
        "Create a program in Python that asks to enter N integers on the keyboard and calculates how many of them are even. The result is printed."
      ]
    },
    {
      "cell_type": "code",
      "execution_count": null,
      "id": "029f07ed",
      "metadata": {
        "id": "029f07ed",
        "colab": {
          "base_uri": "https://localhost:8080/"
        },
        "outputId": "dd3e5212-c32a-4413-bd57-fec023dd0a4f"
      },
      "outputs": [
        {
          "output_type": "stream",
          "name": "stdout",
          "text": [
            "-------------------------------------------------------\n",
            "Exercise 9: Even numbers Calculator\n",
            "-------------------------------------------------------\n",
            "Enter a number of integers: 4\n",
            "Enter an integer: 1\n",
            "Enter an integer: 2\n",
            "Enter an integer: 3\n",
            "Enter an integer: 4\n",
            "There are 2 even numbers.\n"
          ]
        }
      ],
      "source": [
        "print(\"-------------------------------------------------------\")\n",
        "print(\"Exercise 9: Even numbers Calculator\")\n",
        "print(\"-------------------------------------------------------\")\n",
        "\n",
        "# Definition of the function\n",
        "def count_even_numbers(num):\n",
        "  \"\"\"\n",
        "  Counts the number of even numbers in a list of 10 integers.\n",
        "\n",
        "  Returns:\n",
        "    The number of even numbers in the list.\n",
        "  \"\"\"\n",
        "  count = 0\n",
        "  for _ in range(num):\n",
        "    number = int(input(\"Enter an integer: \"))\n",
        "    if number % 2 == 0:\n",
        "      count += 1\n",
        "  return count\n",
        "\n",
        "# Count the even numbers\n",
        "\n",
        "n = int(input(\"Enter a number of integers: \"))\n",
        "even_count = count_even_numbers(n)\n",
        "\n",
        "# Print the result\n",
        "print(f\"There are {even_count} even numbers.\")\n"
      ]
    },
    {
      "cell_type": "markdown",
      "id": "238fd02a",
      "metadata": {
        "id": "238fd02a"
      },
      "source": [
        "<a id=\"j\"></a>\n",
        "[Index](#index)\n",
        "### Exercise 10\n",
        "\n",
        "Write an algorithm that prints the ten prime numbers starting at 2 and also prints their respective cubes"
      ]
    },
    {
      "cell_type": "code",
      "source": [
        "print(\"-------------------------------------------------------\")\n",
        "print(\"Exercise 10.1 : Prime Numbers and their cubes Calculator\")\n",
        "print(\"-------------------------------------------------------\")\n",
        "\n",
        "# Definition of the function\n",
        "def prime_cube(start, end):\n",
        "  \"\"\"\n",
        "  Prints prime numbers within a given interval and their cubes.\n",
        "\n",
        "  Args:\n",
        "    start: The starting number of the interval.\n",
        "    end: The ending number of the interval.\n",
        "  \"\"\"\n",
        "  #Process\n",
        "  for i in range(start, end):\n",
        "    co = 0\n",
        "    for a in range(2, start//2 + 1):\n",
        "      if start % a == 0 :\n",
        "        co = co + 1\n",
        "        a = start\n",
        "    if co == 0 :\n",
        "      print(\"The cube of\", start,\" is: \", start**3)\n",
        "    start = start + 1\n",
        "\n",
        "# Get input from the user\n",
        "start = int(input(\"Enter the starting number of the interval: \"))\n",
        "end = int(input(\"Enter the ending number of the interval: \"))\n",
        "\n",
        "# Print prime numbers and their cubes within the interval\n",
        "prime_cube(start, end)"
      ],
      "metadata": {
        "colab": {
          "base_uri": "https://localhost:8080/"
        },
        "id": "yAbRiOF3RmCd",
        "outputId": "6898d4e0-2d49-44d8-8199-565d8f2339f5"
      },
      "id": "yAbRiOF3RmCd",
      "execution_count": null,
      "outputs": [
        {
          "output_type": "stream",
          "name": "stdout",
          "text": [
            "-------------------------------------------------------\n",
            "Exercise 10.1 : Prime Numbers and their cubes Calculator\n",
            "-------------------------------------------------------\n",
            "Enter the starting number of the interval: 1\n",
            "Enter the ending number of the interval: 30\n",
            "The cube of 1  is:  1\n",
            "The cube of 2  is:  8\n",
            "The cube of 3  is:  27\n",
            "The cube of 5  is:  125\n",
            "The cube of 7  is:  343\n",
            "The cube of 11  is:  1331\n",
            "The cube of 13  is:  2197\n",
            "The cube of 17  is:  4913\n",
            "The cube of 19  is:  6859\n",
            "The cube of 23  is:  12167\n",
            "The cube of 29  is:  24389\n"
          ]
        }
      ]
    },
    {
      "cell_type": "markdown",
      "source": [
        "Write an algorithm that prints the even numbers in a given interval and also prints their respective cubes."
      ],
      "metadata": {
        "id": "smk_y1FvPXJs"
      },
      "id": "smk_y1FvPXJs"
    },
    {
      "cell_type": "code",
      "source": [
        "print(\"-------------------------------------------------------\")\n",
        "print(\"Exercise 10.2: Prime numbers and their cubes Calculator\")\n",
        "print(\"-------------------------------------------------------\")\n",
        "\n",
        "# Definition of the function\n",
        "def print_even_cubes(start, end):\n",
        "  \"\"\"\n",
        "  Prints even numbers and their cubes within a given interval.\n",
        "\n",
        "  Args:\n",
        "    start: The starting number of the interval.\n",
        "    end: The ending number of the interval.\n",
        "  \"\"\"\n",
        "  for number in range(start, end + 1):\n",
        "    if number % 2 == 0:\n",
        "      cube = number ** 3\n",
        "      print(f\"The number {number} is even, and its cube is {cube}\")\n",
        "\n",
        "# Get input from user\n",
        "start = int(input(\"Enter the starting number: \"))\n",
        "end = int(input(\"Enter the ending number: \"))\n",
        "\n",
        "# Print even numbers and their cubes\n",
        "print_even_cubes(start, end)\n"
      ],
      "metadata": {
        "colab": {
          "base_uri": "https://localhost:8080/"
        },
        "id": "IpHJPvmNLz4W",
        "outputId": "99dc5ffa-09b4-46c6-d7f6-2a4d8deec768"
      },
      "id": "IpHJPvmNLz4W",
      "execution_count": null,
      "outputs": [
        {
          "output_type": "stream",
          "name": "stdout",
          "text": [
            "-------------------------------------------------------\n",
            "Exercise 10.2: Prime numbers and their cubes Calculator\n",
            "-------------------------------------------------------\n",
            "Enter the starting number: 10\n",
            "Enter the ending number: 20\n",
            "The number 10 is even, and its cube is 1000\n",
            "The number 12 is even, and its cube is 1728\n",
            "The number 14 is even, and its cube is 2744\n",
            "The number 16 is even, and its cube is 4096\n",
            "The number 18 is even, and its cube is 5832\n",
            "The number 20 is even, and its cube is 8000\n"
          ]
        }
      ]
    },
    {
      "cell_type": "markdown",
      "source": [
        "Write an algorithm that prints the first 10 even numbers starting at 2 and also prints their respective cubes."
      ],
      "metadata": {
        "id": "7_HfDXf0L_kE"
      },
      "id": "7_HfDXf0L_kE"
    },
    {
      "cell_type": "code",
      "execution_count": null,
      "id": "66fa46a1",
      "metadata": {
        "id": "66fa46a1",
        "colab": {
          "base_uri": "https://localhost:8080/"
        },
        "outputId": "a5aa6304-0d61-4186-d4c5-d45724ca4835"
      },
      "outputs": [
        {
          "output_type": "stream",
          "name": "stdout",
          "text": [
            "-------------------------------------------------------\n",
            "Exercise 10.3: Even numbers Calculator\n",
            "-------------------------------------------------------\n",
            "Even Numbers and Their Cubes:\n",
            "Number: 2, Cube: 8\n",
            "Number: 4, Cube: 64\n",
            "Number: 6, Cube: 216\n",
            "Number: 8, Cube: 512\n",
            "Number: 10, Cube: 1000\n",
            "Number: 12, Cube: 1728\n",
            "Number: 14, Cube: 2744\n",
            "Number: 16, Cube: 4096\n",
            "Number: 18, Cube: 5832\n",
            "Number: 20, Cube: 8000\n"
          ]
        }
      ],
      "source": [
        "print(\"-------------------------------------------------------\")\n",
        "print(\"Exercise 10.3: Even numbers Calculator\")\n",
        "print(\"-------------------------------------------------------\")\n",
        "\n",
        "# Print the first 10 even numbers and their cubes\n",
        "print(\"Even Numbers and Their Cubes:\")\n",
        "for i in range(2, 21, 2):\n",
        "  cube = i ** 3\n",
        "  print(f\"Number: {i}, Cube: {cube}\")\n"
      ]
    },
    {
      "cell_type": "markdown",
      "id": "219f7401",
      "metadata": {
        "id": "219f7401"
      },
      "source": [
        "<a id=\"k\"></a>\n",
        "[Index](#index)\n",
        "### Exercise 11\n",
        "\n",
        "Build an algorithm that, given an input n, calculates the sum of the terms of an arithmetic progression like the one shown below: 10; 15; 20; 25; 30 …..Tn."
      ]
    },
    {
      "cell_type": "code",
      "execution_count": null,
      "id": "4d8ecfd7",
      "metadata": {
        "id": "4d8ecfd7",
        "colab": {
          "base_uri": "https://localhost:8080/"
        },
        "outputId": "08ee381c-28d2-4358-bb11-6b9e8d349892"
      },
      "outputs": [
        {
          "output_type": "stream",
          "name": "stdout",
          "text": [
            "-------------------------------------------------------\n",
            "Exercise 11: Arithmetic Progression Sum Calculator\n",
            "-------------------------------------------------------\n",
            "Enter the number of terms: 3\n",
            "The sum of the first 3 terms of the arithmetic progression is: 45\n"
          ]
        }
      ],
      "source": [
        "print(\"-------------------------------------------------------\")\n",
        "print(\"Exercise 11: Arithmetic Progression Sum Calculator\")\n",
        "print(\"-------------------------------------------------------\")\n",
        "\n",
        "def sum_arithmetic_progression(n):\n",
        "  \"\"\"\n",
        "  Calculates the sum of the first n terms of an arithmetic progression starting at 10 with a common difference of 5.\n",
        "\n",
        "  Args:\n",
        "    n: The number of terms to sum.\n",
        "\n",
        "  Returns:\n",
        "    The sum of the first n terms of the arithmetic progression.\n",
        "  \"\"\"\n",
        "  sum = 0\n",
        "  term = 10\n",
        "  for i in range(n):\n",
        "    sum += term\n",
        "    term += 5\n",
        "  return sum\n",
        "\n",
        "# Get the number of terms from the user\n",
        "n = int(input(\"Enter the number of terms: \"))\n",
        "\n",
        "# Calculate and print the sum\n",
        "sum_of_terms = sum_arithmetic_progression(n)\n",
        "print(f\"The sum of the first {n} terms of the arithmetic progression is: {sum_of_terms}\")\n"
      ]
    },
    {
      "cell_type": "markdown",
      "id": "1c39adb7",
      "metadata": {
        "id": "1c39adb7"
      },
      "source": [
        "<a id=\"l\"></a>\n",
        "[Index](#index)\n",
        "### Exercise 12\n",
        "\n",
        "Write an algorithm that reads an integer N and calculates the result of the following series: 1- (1/2)+(1/3)-(1/4)+(1/5)-...+(1/N)"
      ]
    },
    {
      "cell_type": "code",
      "execution_count": null,
      "id": "34d2f55f",
      "metadata": {
        "id": "34d2f55f",
        "colab": {
          "base_uri": "https://localhost:8080/"
        },
        "outputId": "5537a02b-3c53-4590-d8e3-8e5acb68a28b"
      },
      "outputs": [
        {
          "output_type": "stream",
          "name": "stdout",
          "text": [
            "-------------------------------------------------------\n",
            "Exercise 12: Series Calculator\n",
            "-------------------------------------------------------\n",
            "Enter an integer N: 5\n",
            "The result of the series is: 0.7833333333333332\n"
          ]
        }
      ],
      "source": [
        "print(\"-------------------------------------------------------\")\n",
        "print(\"Exercise 12: Series Calculator\")\n",
        "print(\"-------------------------------------------------------\")\n",
        "\n",
        "def calculate_series(n):\n",
        "  \"\"\"\n",
        "  Calculates the result of the series: 1 - (1/2) + (1/3) - (1/4) + ... + (1/N).\n",
        "\n",
        "  Args:\n",
        "    n: The number of terms in the series.\n",
        "\n",
        "  Returns:\n",
        "    The result of the series.\n",
        "  \"\"\"\n",
        "  result = 0\n",
        "  for i in range(1, n + 1):\n",
        "    if i % 2 == 0:\n",
        "      result -= 1 / i\n",
        "    else:\n",
        "      result += 1 / i\n",
        "  return result\n",
        "\n",
        "# Get the number of terms from the user\n",
        "n = int(input(\"Enter an integer N: \"))\n",
        "\n",
        "# Calculate and print the result of the series\n",
        "result = calculate_series(n)\n",
        "print(f\"The result of the series is: {result}\")\n"
      ]
    },
    {
      "cell_type": "markdown",
      "id": "0c2e3a1b",
      "metadata": {
        "id": "0c2e3a1b"
      },
      "source": [
        "<a id=\"m\"></a>\n",
        "[Index](#index)\n",
        "### Exercise 13\n",
        "\n",
        "Write an algorithm that reverses the digits of a positive integer. Use modulus and division operators to obtain the digits one by one."
      ]
    },
    {
      "cell_type": "code",
      "source": [
        "print(\"-------------------------------------------------------\")\n",
        "print(\"Exercise 13: Digit Reverser\")\n",
        "print(\"-------------------------------------------------------\")\n",
        "\n",
        "def reverse_digits(num):\n",
        "  \"\"\"\n",
        "  Reverses the digits of a positive integer.\n",
        "\n",
        "  Args:\n",
        "    num: The positive integer to reverse.\n",
        "\n",
        "  Returns:\n",
        "    The reversed integer.\n",
        "  \"\"\"\n",
        "  reversed_number = 0\n",
        "  while num > 0:\n",
        "    # Extract the last digit\n",
        "    digit = num % 10\n",
        "\n",
        "    # Append the digit to the reversed number\n",
        "    reversed_number = reversed_number * 10 + digit\n",
        "\n",
        "    # Remove the last digit from the original number\n",
        "    num //= 10\n",
        "\n",
        "  return reversed_number\n",
        "\n",
        "# Get input from user\n",
        "number = int(input(\"Enter a positive integer: \"))\n",
        "\n",
        "# Reverse the digits and print the result\n",
        "reversed_number = reverse_digits(number)\n",
        "print(f\"The reversed number is: {reversed_number}\")"
      ],
      "metadata": {
        "colab": {
          "base_uri": "https://localhost:8080/"
        },
        "id": "hvo2kIfSVj-V",
        "outputId": "734b610a-744b-4779-afe6-d7b1009f0c31"
      },
      "id": "hvo2kIfSVj-V",
      "execution_count": null,
      "outputs": [
        {
          "output_type": "stream",
          "name": "stdout",
          "text": [
            "-------------------------------------------------------\n",
            "Exercise 13: Digit Reverser\n",
            "-------------------------------------------------------\n",
            "Enter a positive integer: 698\n",
            "The reversed number is: 896\n"
          ]
        }
      ]
    },
    {
      "cell_type": "markdown",
      "id": "fc1bd56e",
      "metadata": {
        "id": "fc1bd56e"
      },
      "source": [
        "<a id=\"n\"></a>\n",
        "[Index](#index)\n",
        "### Exercise 14\n",
        "    \n",
        "Write an algorithm to determine whether a number is prime or not."
      ]
    },
    {
      "cell_type": "code",
      "source": [
        "print(\"-------------------------------------------------------\")\n",
        "print(\"Exercise 14: Prime Number Checker\")\n",
        "print(\"-------------------------------------------------------\")\n",
        "\n",
        "def is_prime(n):\n",
        "  \"\"\"\n",
        "  Checks if a number is prime.\n",
        "\n",
        "  Args:\n",
        "    n: The number to check.\n",
        "\n",
        "  Returns:\n",
        "    True if n is prime, False otherwise.\n",
        "  \"\"\"\n",
        "  if n <= 1:\n",
        "    return False\n",
        "  for i in range(2, int(n**0.5) + 1):\n",
        "    if n % i == 0:\n",
        "      return False\n",
        "  return True\n",
        "\n",
        "# Get input from user\n",
        "number = int(input(\"Enter a number: \"))\n",
        "\n",
        "# Check if the number is prime and print the result\n",
        "if is_prime(number):\n",
        "  print(f\"{number} is a prime number.\")\n",
        "else:\n",
        "  print(f\"{number} is not a prime number.\")"
      ],
      "metadata": {
        "colab": {
          "base_uri": "https://localhost:8080/"
        },
        "id": "U8WMkr9UWpXm",
        "outputId": "981d0cbe-c333-47c0-c95a-ab007657a041"
      },
      "id": "U8WMkr9UWpXm",
      "execution_count": null,
      "outputs": [
        {
          "output_type": "stream",
          "name": "stdout",
          "text": [
            "-------------------------------------------------------\n",
            "Exercise 14: Prime Number Checker\n",
            "-------------------------------------------------------\n",
            "Enter a number: 7\n",
            "7 is a prime number.\n"
          ]
        }
      ]
    },
    {
      "cell_type": "markdown",
      "id": "3331f67c",
      "metadata": {
        "id": "3331f67c"
      },
      "source": [
        "<a id=\"o\"></a>\n",
        "[Index](#index)\n",
        "### Exercise 15\n",
        "    \n",
        "Write an algorithm such that, given X integers as data, it obtains the number of zeros between these numbers. For example, if 6 data are entered: 9 0 4 8 0 1, the algorithm returns that there are 2 zeros."
      ]
    },
    {
      "cell_type": "code",
      "execution_count": 1,
      "id": "0d82fbbb",
      "metadata": {
        "id": "0d82fbbb",
        "colab": {
          "base_uri": "https://localhost:8080/"
        },
        "outputId": "d3fc9115-e5a2-4320-d472-ff83f5b7e4d6"
      },
      "outputs": [
        {
          "output_type": "stream",
          "name": "stdout",
          "text": [
            "-------------------------------------------------------\n",
            "Exercise 15: Zero Counter\n",
            "-------------------------------------------------------\n",
            "Enter the number of integers: 5\n",
            "Enter an integer: 1\n",
            "Enter an integer: 0\n",
            "Enter an integer: 0\n",
            "Enter an integer: 3\n",
            "Enter an integer: 8\n",
            "There are 2 zeros.\n"
          ]
        }
      ],
      "source": [
        "print(\"-------------------------------------------------------\")\n",
        "print(\"Exercise 15: Zero Counter\")\n",
        "print(\"-------------------------------------------------------\")\n",
        "\n",
        "def count_zeros(n):\n",
        "  \"\"\"\n",
        "  Counts the number of zeros in a list of n integers.\n",
        "\n",
        "  Args:\n",
        "    n: The number of integers to input.\n",
        "\n",
        "  Returns:\n",
        "    The number of zeros in the list.\n",
        "  \"\"\"\n",
        "  count = 0\n",
        "  for _ in range(n):\n",
        "    number = int(input(\"Enter an integer: \"))\n",
        "    if number == 0:\n",
        "      count += 1\n",
        "  return count\n",
        "\n",
        "# Get the number of integers to input\n",
        "n = int(input(\"Enter the number of integers: \"))\n",
        "\n",
        "# Count the zeros\n",
        "zero_count = count_zeros(n)\n",
        "\n",
        "# Print the result\n",
        "print(f\"There are {zero_count} zeros.\")\n"
      ]
    },
    {
      "cell_type": "markdown",
      "id": "5e3a7d15",
      "metadata": {
        "id": "5e3a7d15"
      },
      "source": [
        "<a id=\"p\"></a>\n",
        "[Index](#index)\n",
        "### Exercise 16\n",
        "    \n",
        "Create an algorithm that, given N integers entered by keyboard, determines which of them is the smallest and largest respectively."
      ]
    },
    {
      "cell_type": "code",
      "execution_count": 3,
      "id": "2c661863",
      "metadata": {
        "id": "2c661863",
        "colab": {
          "base_uri": "https://localhost:8080/"
        },
        "outputId": "5a832898-e912-4f4c-963b-14fca326cd9a"
      },
      "outputs": [
        {
          "output_type": "stream",
          "name": "stdout",
          "text": [
            "Enter the number of integers: 4\n",
            "Enter an integer: 13\n",
            "Enter an integer: 13\n",
            "Enter an integer: 13\n",
            "Enter an integer: 13\n",
            "The smallest number is: 13\n",
            "The largest number is: 13\n"
          ]
        }
      ],
      "source": [
        "def find_min_max(n):\n",
        "  \"\"\"\n",
        "  Finds the smallest and largest numbers in a list of n integers.\n",
        "\n",
        "  Args:\n",
        "    n: The number of integers to input.\n",
        "\n",
        "  Returns:\n",
        "    A tuple (min_num, max_num) containing the smallest and largest numbers.\n",
        "  \"\"\"\n",
        "  min_num = float('inf')\n",
        "  max_num = float('-inf')\n",
        "  for _ in range(n):\n",
        "    number = int(input(\"Enter an integer: \"))\n",
        "    if number < min_num:\n",
        "      min_num = number\n",
        "    if number > max_num:\n",
        "      max_num = number\n",
        "  return min_num, max_num\n",
        "\n",
        "# Get the number of integers to input\n",
        "n = int(input(\"Enter the number of integers: \"))\n",
        "\n",
        "# Find the smallest and largest numbers\n",
        "min_num, max_num = find_min_max(n)\n",
        "\n",
        "# Print the results\n",
        "print(f\"The smallest number is: {min_num}\")\n",
        "print(f\"The largest number is: {max_num}\")\n"
      ]
    },
    {
      "cell_type": "markdown",
      "id": "b16186fc",
      "metadata": {
        "id": "b16186fc"
      },
      "source": [
        "<a id=\"q\"></a>\n",
        "[Index](#index)\n",
        "### Exercise 17\n",
        "\n",
        "Write an algorithm that, when entering N characters, indicates how many times the character 'a' is repeated."
      ]
    },
    {
      "cell_type": "code",
      "execution_count": 4,
      "id": "ec04d84f",
      "metadata": {
        "id": "ec04d84f",
        "colab": {
          "base_uri": "https://localhost:8080/"
        },
        "outputId": "4e0ef3c7-42e9-411a-9cb0-8e6da998551a"
      },
      "outputs": [
        {
          "output_type": "stream",
          "name": "stdout",
          "text": [
            "Enter the number of characters: 4\n",
            "Enter a character: o\n",
            "Enter a character: p\n",
            "Enter a character: r\n",
            "Enter a character: e\n",
            "The character 'a' appears 0 times.\n"
          ]
        }
      ],
      "source": [
        "def count_a(n):\n",
        "  \"\"\"\n",
        "  Counts the number of times the character 'a' appears in n input characters.\n",
        "\n",
        "  Args:\n",
        "    n: The number of characters to input.\n",
        "\n",
        "  Returns:\n",
        "    The count of 'a' characters.\n",
        "  \"\"\"\n",
        "  count = 0\n",
        "  for _ in range(n):\n",
        "    char = input(\"Enter a character: \")\n",
        "    if char == 'a':\n",
        "      count += 1\n",
        "  return count\n",
        "\n",
        "# Get the number of characters to input\n",
        "n = int(input(\"Enter the number of characters: \"))\n",
        "\n",
        "# Count the 'a' characters\n",
        "a_count = count_a(n)\n",
        "\n",
        "# Print the result\n",
        "print(f\"The character 'a' appears {a_count} times.\")\n"
      ]
    },
    {
      "cell_type": "markdown",
      "id": "98de79b4",
      "metadata": {
        "id": "98de79b4"
      },
      "source": [
        "<a id=\"r\"></a>\n",
        "[Index](#index)\n",
        "### Exercise 18\n",
        "\n",
        "Write an algorithm that, when entering N integers on the keyboard, calculates how many of them are even. Print the result."
      ]
    },
    {
      "cell_type": "code",
      "execution_count": 5,
      "id": "1d4bffb8",
      "metadata": {
        "id": "1d4bffb8",
        "colab": {
          "base_uri": "https://localhost:8080/"
        },
        "outputId": "3d51097d-7f4b-4ba4-fa11-fd6c0f32ebfa"
      },
      "outputs": [
        {
          "output_type": "stream",
          "name": "stdout",
          "text": [
            "Enter the number of integers: 5\n",
            "Enter an integer: 7\n",
            "Enter an integer: 8\n",
            "Enter an integer: 6\n",
            "Enter an integer: 5\n",
            "Enter an integer: 9\n",
            "There are 2 even numbers.\n"
          ]
        }
      ],
      "source": [
        "def count_even_numbers(n):\n",
        "  \"\"\"\n",
        "  Counts the number of even numbers in a list of n integers.\n",
        "\n",
        "  Args:\n",
        "    n: The number of integers to input.\n",
        "\n",
        "  Returns:\n",
        "    The number of even numbers in the list.\n",
        "  \"\"\"\n",
        "  count = 0\n",
        "  for _ in range(n):\n",
        "    number = int(input(\"Enter an integer: \"))\n",
        "    if number % 2 == 0:\n",
        "      count += 1\n",
        "  return count\n",
        "\n",
        "# Get the number of integers to input\n",
        "n = int(input(\"Enter the number of integers: \"))\n",
        "\n",
        "# Count the even numbers\n",
        "even_count = count_even_numbers(n)\n",
        "\n",
        "# Print the result\n",
        "print(f\"There are {even_count} even numbers.\")\n"
      ]
    },
    {
      "cell_type": "markdown",
      "id": "103014d9",
      "metadata": {
        "id": "103014d9"
      },
      "source": [
        "<a id=\"s\"></a>\n",
        "[Index](#index)\n",
        "### Exercise 19\n",
        "\n",
        "Write an algorithm that prints the first 10 even numbers starting at 2 and also prints their respective cubes."
      ]
    },
    {
      "cell_type": "code",
      "execution_count": 6,
      "id": "03cdefeb",
      "metadata": {
        "id": "03cdefeb",
        "colab": {
          "base_uri": "https://localhost:8080/"
        },
        "outputId": "53a7b2f9-abf3-49dd-9593-b25ea006b687"
      },
      "outputs": [
        {
          "output_type": "stream",
          "name": "stdout",
          "text": [
            "Even Numbers and Their Cubes:\n",
            "Number: 2, Cube: 8\n",
            "Number: 4, Cube: 64\n",
            "Number: 6, Cube: 216\n",
            "Number: 8, Cube: 512\n",
            "Number: 10, Cube: 1000\n",
            "Number: 12, Cube: 1728\n",
            "Number: 14, Cube: 2744\n",
            "Number: 16, Cube: 4096\n",
            "Number: 18, Cube: 5832\n",
            "Number: 20, Cube: 8000\n"
          ]
        }
      ],
      "source": [
        "print(\"Even Numbers and Their Cubes:\")\n",
        "for i in range(2, 21, 2):\n",
        "  cube = i ** 3\n",
        "  print(f\"Number: {i}, Cube: {cube}\")\n"
      ]
    },
    {
      "cell_type": "markdown",
      "id": "7192f335",
      "metadata": {
        "id": "7192f335"
      },
      "source": [
        "<a id=\"t\"></a>\n",
        "[Index](#index)\n",
        "### Exercise 20\n",
        "\n",
        "For a company with N employees, an algorithm is developed where the order number and salary of each employee are entered as data; the order number of the employee with the highest salary as well as his salary must be printed."
      ]
    },
    {
      "cell_type": "code",
      "execution_count": 7,
      "id": "bac548e4",
      "metadata": {
        "id": "bac548e4",
        "colab": {
          "base_uri": "https://localhost:8080/"
        },
        "outputId": "322358c7-e27e-45f4-ad8d-31a05c58e666"
      },
      "outputs": [
        {
          "output_type": "stream",
          "name": "stdout",
          "text": [
            "Enter the number of employees: 5\n",
            "Enter order number for employee 1: 45\n",
            "Enter salary for employee 1: 1000\n",
            "Enter order number for employee 2: 69\n",
            "Enter salary for employee 2: 800\n",
            "Enter order number for employee 3: 68\n",
            "Enter salary for employee 3: 750\n",
            "Enter order number for employee 4: 87\n",
            "Enter salary for employee 4: 1200\n",
            "Enter order number for employee 5: 8\n",
            "Enter salary for employee 5: 950\n",
            "The employee with the highest salary is employee number 87 with a salary of 1200.0.\n"
          ]
        }
      ],
      "source": [
        "# prompt: For a company with N employees, an algorithm is developed where the order number and salary of each employee are entered as data; the order number of the employee with the highest salary as well as his salary must be printed.\n",
        "\n",
        "def find_highest_salary_employee(n):\n",
        "  \"\"\"\n",
        "  Finds the employee with the highest salary and their corresponding order number.\n",
        "\n",
        "  Args:\n",
        "    n: The number of employees.\n",
        "\n",
        "  Returns:\n",
        "    A tuple (order_number, highest_salary) containing the order number and salary of the employee with the highest salary.\n",
        "  \"\"\"\n",
        "  highest_salary = float('-inf')\n",
        "  order_number = None\n",
        "  for i in range(n):\n",
        "    employee_order = int(input(f\"Enter order number for employee {i+1}: \"))\n",
        "    employee_salary = float(input(f\"Enter salary for employee {i+1}: \"))\n",
        "    if employee_salary > highest_salary:\n",
        "      highest_salary = employee_salary\n",
        "      order_number = employee_order\n",
        "  return order_number, highest_salary\n",
        "\n",
        "# Get the number of employees from the user\n",
        "n = int(input(\"Enter the number of employees: \"))\n",
        "\n",
        "# Find the employee with the highest salary\n",
        "order_number, highest_salary = find_highest_salary_employee(n)\n",
        "\n",
        "# Print the result\n",
        "print(f\"The employee with the highest salary is employee number {order_number} with a salary of {highest_salary}.\")\n"
      ]
    }
  ],
  "metadata": {
    "kernelspec": {
      "display_name": "Python 3 (ipykernel)",
      "language": "python",
      "name": "python3"
    },
    "language_info": {
      "codemirror_mode": {
        "name": "ipython",
        "version": 3
      },
      "file_extension": ".py",
      "mimetype": "text/x-python",
      "name": "python",
      "nbconvert_exporter": "python",
      "pygments_lexer": "ipython3",
      "version": "3.11.2"
    },
    "colab": {
      "provenance": []
    }
  },
  "nbformat": 4,
  "nbformat_minor": 5
}